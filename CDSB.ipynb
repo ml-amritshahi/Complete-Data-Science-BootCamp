{
 "cells": [
  {
   "cell_type": "markdown",
   "id": "ca6c85cc",
   "metadata": {},
   "source": [
    "### NumPy\n",
    "Numpy is a Python library used for working with arrays.\n",
    "\n",
    "It also has functions for working in domain of linear algebra, fourier, transform, and matrices.\n",
    "\n",
    "Numpy was created in 2005 by Travis Oliphant. It is an open source project and you can use it freely.\n",
    "\n",
    "Numpy stands for Numerical Python."
   ]
  },
  {
   "cell_type": "markdown",
   "id": "c75c1abe",
   "metadata": {},
   "source": [
    "### Why Use NumPy?\n",
    "\n",
    "In Python we have lists that serve the purpose of arrays, but they are slow to process.\n",
    "\n",
    "NumPy aims to provide an array object that is up to 50x faster than traditional Python lists.\n",
    "\n",
    "The array object in NumPy is called ndarray, it provides a lot of supporting functions that make working with ndarray very easy\n",
    "\n",
    "Array are very frequently used in data science, where speed and resources are very important "
   ]
  },
  {
   "cell_type": "code",
   "execution_count": 4,
   "id": "ae6a7da0",
   "metadata": {},
   "outputs": [],
   "source": [
    "import numpy as np"
   ]
  },
  {
   "cell_type": "code",
   "execution_count": 5,
   "id": "788c32b2",
   "metadata": {},
   "outputs": [
    {
     "name": "stdout",
     "output_type": "stream",
     "text": [
      "[1 2 3]\n"
     ]
    },
    {
     "data": {
      "text/plain": [
       "numpy.ndarray"
      ]
     },
     "execution_count": 5,
     "metadata": {},
     "output_type": "execute_result"
    }
   ],
   "source": [
    "arr = np.array([1,2,3])\n",
    "print(arr)\n",
    "type(arr)"
   ]
  },
  {
   "cell_type": "markdown",
   "id": "2fa9a4d6",
   "metadata": {},
   "source": [
    "### Creating NumpyArrays"
   ]
  },
  {
   "cell_type": "markdown",
   "id": "a38d4699",
   "metadata": {},
   "source": [
    "#### Dimensions in Arrys"
   ]
  },
  {
   "cell_type": "markdown",
   "id": "5b4ca20d",
   "metadata": {},
   "source": [
    "A dimension in array is one level of array depth (nested arrays).\n",
    "\n",
    "0-D arrays, or Scalars, are the elements in an array. Each value in an array is a 0-D array.\n",
    "\n",
    "The array that has 0-D arrays as its elements is called uni-dimensional or 1-D array.\n",
    "\n",
    "These are the most common and basic arrays.\n",
    "\n",
    "An array that has 1-D arrays are its elements is called a 2-D array.\n",
    "\n",
    "These are often used to represent matrix or 2nd order tensors.\n",
    "\n",
    "An array that has 2-D arrays (matrices) are its elements is called 3-D array.\n",
    "\n",
    "These are often used to represent a 3rd order tensor."
   ]
  },
  {
   "cell_type": "markdown",
   "id": "40ddfe6d",
   "metadata": {},
   "source": [
    "### Zero D Array"
   ]
  },
  {
   "cell_type": "code",
   "execution_count": 6,
   "id": "492cdf63",
   "metadata": {},
   "outputs": [],
   "source": [
    "a = np.array(55)"
   ]
  },
  {
   "cell_type": "code",
   "execution_count": 7,
   "id": "323b689b",
   "metadata": {},
   "outputs": [
    {
     "data": {
      "text/plain": [
       "array(55)"
      ]
     },
     "execution_count": 7,
     "metadata": {},
     "output_type": "execute_result"
    }
   ],
   "source": [
    "a"
   ]
  },
  {
   "cell_type": "code",
   "execution_count": 8,
   "id": "f5d0a05c",
   "metadata": {},
   "outputs": [
    {
     "data": {
      "text/plain": [
       "numpy.ndarray"
      ]
     },
     "execution_count": 8,
     "metadata": {},
     "output_type": "execute_result"
    }
   ],
   "source": [
    "type(a)"
   ]
  },
  {
   "cell_type": "code",
   "execution_count": 9,
   "id": "99d174a0",
   "metadata": {},
   "outputs": [
    {
     "data": {
      "text/plain": [
       "0"
      ]
     },
     "execution_count": 9,
     "metadata": {},
     "output_type": "execute_result"
    }
   ],
   "source": [
    "a.ndim"
   ]
  },
  {
   "cell_type": "code",
   "execution_count": 10,
   "id": "3394f6bb",
   "metadata": {},
   "outputs": [],
   "source": [
    "b = np.array([1,2,3,4])"
   ]
  },
  {
   "cell_type": "code",
   "execution_count": 11,
   "id": "8906b183",
   "metadata": {},
   "outputs": [
    {
     "data": {
      "text/plain": [
       "numpy.ndarray"
      ]
     },
     "execution_count": 11,
     "metadata": {},
     "output_type": "execute_result"
    }
   ],
   "source": [
    "type(b)"
   ]
  },
  {
   "cell_type": "code",
   "execution_count": 12,
   "id": "eb34f173",
   "metadata": {},
   "outputs": [
    {
     "data": {
      "text/plain": [
       "1"
      ]
     },
     "execution_count": 12,
     "metadata": {},
     "output_type": "execute_result"
    }
   ],
   "source": [
    "b.ndim"
   ]
  },
  {
   "cell_type": "markdown",
   "id": "b1d7bda1",
   "metadata": {},
   "source": [
    "### 2D Array\n",
    "Collection of 1D arrays"
   ]
  },
  {
   "cell_type": "code",
   "execution_count": 13,
   "id": "87532f4b",
   "metadata": {},
   "outputs": [],
   "source": [
    "c = np.array([[1,2,3], [7,8,9]])"
   ]
  },
  {
   "cell_type": "code",
   "execution_count": 14,
   "id": "7cb0247c",
   "metadata": {},
   "outputs": [
    {
     "data": {
      "text/plain": [
       "2"
      ]
     },
     "execution_count": 14,
     "metadata": {},
     "output_type": "execute_result"
    }
   ],
   "source": [
    "c.ndim"
   ]
  },
  {
   "cell_type": "markdown",
   "id": "1e5ed57a",
   "metadata": {},
   "source": [
    "### 3D Array\n",
    "Collection of 2D arrays enclosed with []"
   ]
  },
  {
   "cell_type": "code",
   "execution_count": 15,
   "id": "b2bf7f1c",
   "metadata": {},
   "outputs": [],
   "source": [
    "d = np.array([[[1,2,3], [4,5,6]], [[1,2,3],[4,5,6]]])"
   ]
  },
  {
   "cell_type": "code",
   "execution_count": 16,
   "id": "8a435bbf",
   "metadata": {},
   "outputs": [
    {
     "data": {
      "text/plain": [
       "3"
      ]
     },
     "execution_count": 16,
     "metadata": {},
     "output_type": "execute_result"
    }
   ],
   "source": [
    "d.ndim"
   ]
  },
  {
   "cell_type": "markdown",
   "id": "7bda621a",
   "metadata": {},
   "source": [
    "### Shapes and Reshape\n",
    "The shape of an array is the number of elements in each dimension.\n",
    "\n",
    "import numpy as np\n",
    "\n",
    "arr = np.array([[1,2,3,4], [5,6,7,8]])\n",
    "\n",
    "print(arr.shape)"
   ]
  },
  {
   "cell_type": "markdown",
   "id": "4a48ab71",
   "metadata": {},
   "source": [
    " ### Reshaping arrays\n",
    " Reshaping means changing the shape of an array.\n",
    " \n",
    " The shape of an array is the number of elements in each dimension.\n",
    " \n",
    " By reshaping we can add or remove dimension or change number of elements in each dimension."
   ]
  },
  {
   "cell_type": "markdown",
   "id": "a682ab47",
   "metadata": {},
   "source": [
    "### Reshape from 1-D to 2-D\n",
    "Example \n",
    "\n",
    "Convert the following 1-D array with 12 elements into a 2-D array.\n",
    "\n",
    "The outermost dimension will have 4 arrays, each with 3 elements\n",
    "\n",
    "import numpy as np\n",
    "\n",
    "arr = np.array([1,2,3,4,5,6,7,8,9,10,11,12])\n",
    "\n",
    "newarr = arr.reshape(4,3)\n",
    "\n",
    "print(newarr)\n",
    "\n",
    "### Can we reshape into any shape?\n",
    "\n",
    "Yes, as long as the elements required for reshaping are equal in both shapes.\n",
    "\n",
    "We can reshape an 8 elements 1D array into 4 elements in 2 rows 2D array but we cannot reshape it into a 3 elements 3 rows 2D array as that would require 3x3 = 9 elements.\n",
    "\n",
    "### Flattening the arrays\n",
    "    Flattening array means converting a multidimensional array into 1D array.\n",
    "    We can use reshape(-1) to do this.\n",
    "    import numpy as np\n",
    "    arr = np.array([[1,2,3], [4,5,6]])\n",
    "    newarr = arr.reshape(-1)\n",
    "    print(newarr)\n",
    "    "
   ]
  },
  {
   "cell_type": "code",
   "execution_count": 17,
   "id": "c6e8d25b",
   "metadata": {},
   "outputs": [],
   "source": [
    "a = np.array([1,2,3,4,5])"
   ]
  },
  {
   "cell_type": "code",
   "execution_count": 18,
   "id": "de01ae2f",
   "metadata": {},
   "outputs": [
    {
     "data": {
      "text/plain": [
       "(5,)"
      ]
     },
     "execution_count": 18,
     "metadata": {},
     "output_type": "execute_result"
    }
   ],
   "source": [
    "a.shape"
   ]
  },
  {
   "cell_type": "code",
   "execution_count": 19,
   "id": "aa309cd5",
   "metadata": {},
   "outputs": [],
   "source": [
    "b = np.array([[1,2,3,4], [5,6,7,8]])"
   ]
  },
  {
   "cell_type": "code",
   "execution_count": 20,
   "id": "d279aeb1",
   "metadata": {},
   "outputs": [
    {
     "data": {
      "text/plain": [
       "(2, 4)"
      ]
     },
     "execution_count": 20,
     "metadata": {},
     "output_type": "execute_result"
    }
   ],
   "source": [
    "# 2D array having 4 elements inside of it. 2 means 2D array and 4 means element inside of it\n",
    "b.shape"
   ]
  },
  {
   "cell_type": "code",
   "execution_count": 21,
   "id": "5739e0bb",
   "metadata": {},
   "outputs": [],
   "source": [
    "c = np.array([1,2,3,4,5,6,7,8,9,10,11,12])\n"
   ]
  },
  {
   "cell_type": "code",
   "execution_count": 22,
   "id": "a3ca2433",
   "metadata": {},
   "outputs": [],
   "source": [
    "new_arr = c.reshape(4,3)"
   ]
  },
  {
   "cell_type": "code",
   "execution_count": 23,
   "id": "020a2a4f",
   "metadata": {},
   "outputs": [
    {
     "data": {
      "text/plain": [
       "array([[ 1,  2,  3],\n",
       "       [ 4,  5,  6],\n",
       "       [ 7,  8,  9],\n",
       "       [10, 11, 12]])"
      ]
     },
     "execution_count": 23,
     "metadata": {},
     "output_type": "execute_result"
    }
   ],
   "source": [
    " new_arr"
   ]
  },
  {
   "cell_type": "code",
   "execution_count": 24,
   "id": "c8fdb3a0",
   "metadata": {},
   "outputs": [
    {
     "data": {
      "text/plain": [
       "(12,)"
      ]
     },
     "execution_count": 24,
     "metadata": {},
     "output_type": "execute_result"
    }
   ],
   "source": [
    " c.shape"
   ]
  },
  {
   "cell_type": "code",
   "execution_count": 25,
   "id": "e6084901",
   "metadata": {},
   "outputs": [
    {
     "data": {
      "text/plain": [
       "(4, 3)"
      ]
     },
     "execution_count": 25,
     "metadata": {},
     "output_type": "execute_result"
    }
   ],
   "source": [
    "new_arr.shape"
   ]
  },
  {
   "cell_type": "code",
   "execution_count": 26,
   "id": "f163d8f9",
   "metadata": {},
   "outputs": [
    {
     "data": {
      "text/plain": [
       "2"
      ]
     },
     "execution_count": 26,
     "metadata": {},
     "output_type": "execute_result"
    }
   ],
   "source": [
    "new_arr.ndim"
   ]
  },
  {
   "cell_type": "code",
   "execution_count": 27,
   "id": "72cbd518",
   "metadata": {},
   "outputs": [],
   "source": [
    "new_arr2 = c.reshape(2,3,2)"
   ]
  },
  {
   "cell_type": "code",
   "execution_count": 28,
   "id": "a808ed3d",
   "metadata": {},
   "outputs": [
    {
     "data": {
      "text/plain": [
       "array([[[ 1,  2],\n",
       "        [ 3,  4],\n",
       "        [ 5,  6]],\n",
       "\n",
       "       [[ 7,  8],\n",
       "        [ 9, 10],\n",
       "        [11, 12]]])"
      ]
     },
     "execution_count": 28,
     "metadata": {},
     "output_type": "execute_result"
    }
   ],
   "source": [
    "new_arr2"
   ]
  },
  {
   "cell_type": "code",
   "execution_count": 29,
   "id": "9aab0974",
   "metadata": {},
   "outputs": [
    {
     "data": {
      "text/plain": [
       "3"
      ]
     },
     "execution_count": 29,
     "metadata": {},
     "output_type": "execute_result"
    }
   ],
   "source": [
    "new_arr2.ndim"
   ]
  },
  {
   "cell_type": "code",
   "execution_count": 30,
   "id": "f83e4f9e",
   "metadata": {},
   "outputs": [
    {
     "data": {
      "text/plain": [
       "(2, 3, 2)"
      ]
     },
     "execution_count": 30,
     "metadata": {},
     "output_type": "execute_result"
    }
   ],
   "source": [
    "new_arr2.shape"
   ]
  },
  {
   "cell_type": "code",
   "execution_count": 31,
   "id": "a7f6836f",
   "metadata": {},
   "outputs": [],
   "source": [
    "twoD_array = np.array([[1,2,3], [4,5,6]])"
   ]
  },
  {
   "cell_type": "code",
   "execution_count": 32,
   "id": "5f6b01bb",
   "metadata": {},
   "outputs": [
    {
     "data": {
      "text/plain": [
       "array([[1, 2, 3],\n",
       "       [4, 5, 6]])"
      ]
     },
     "execution_count": 32,
     "metadata": {},
     "output_type": "execute_result"
    }
   ],
   "source": [
    "twoD_array"
   ]
  },
  {
   "cell_type": "code",
   "execution_count": 33,
   "id": "09a04147",
   "metadata": {},
   "outputs": [],
   "source": [
    "flatten_array = twoD_array.reshape(-1)"
   ]
  },
  {
   "cell_type": "code",
   "execution_count": 34,
   "id": "d54b9a2d",
   "metadata": {},
   "outputs": [
    {
     "data": {
      "text/plain": [
       "array([1, 2, 3, 4, 5, 6])"
      ]
     },
     "execution_count": 34,
     "metadata": {},
     "output_type": "execute_result"
    }
   ],
   "source": [
    "flatten_array"
   ]
  },
  {
   "cell_type": "code",
   "execution_count": 35,
   "id": "225686ab",
   "metadata": {},
   "outputs": [
    {
     "data": {
      "text/plain": [
       "(6,)"
      ]
     },
     "execution_count": 35,
     "metadata": {},
     "output_type": "execute_result"
    }
   ],
   "source": [
    "flatten_array.shape"
   ]
  },
  {
   "cell_type": "markdown",
   "id": "7651cb33",
   "metadata": {},
   "source": [
    "#### Numpy Array Indexing\n",
    "    Access Array Elements\n",
    "    Array indexing is the same as accessing an array element.\n",
    "    You can access an array element by referring to its index number.\n",
    "    The indexes in NumPy arrays start with 0, meaning that the first element has index 0, and the second has\n",
    "    index 1 etc.\n",
    "    \n",
    "    Get first element from the array\n",
    "    \n",
    "    import numpy as np\n",
    "    arr = np.array([1,2,3,4])\n",
    "    print(arr[0])\n",
    "    \n",
    "    Example\n",
    "    \n",
    "    Get third and fouth elements from the following array and add them.\n",
    "    import numpy as np\n",
    "    arr = np.array([1,2,3,4])\n",
    "    print(arr[2] + arr[3)\n",
    "    \n",
    "    Accessing 2-D Array\n",
    "    \n",
    "    To access elements from 2-D arrays we can use comma separated integers representing the dimension and the\n",
    "    index of the element.\n",
    "    \n",
    "    Think of 2-D arrays like a table with rows and colums, where the row represent the dimension index represents the column.\n",
    "    \n",
    "    Example:\n",
    "    Access the element on the first row, second column:\n",
    "    \n",
    "    import numpy as np\n",
    "    arr = np.array([[1,2,3,4,5], [6,7,8,9,10]])\n",
    "    print('2nd element on 1st row: ', arr[0,1])"
   ]
  },
  {
   "cell_type": "code",
   "execution_count": 36,
   "id": "2bee52fe",
   "metadata": {},
   "outputs": [],
   "source": [
    "a = np.array([3,4,5,6])"
   ]
  },
  {
   "cell_type": "code",
   "execution_count": 37,
   "id": "f8c40bab",
   "metadata": {},
   "outputs": [
    {
     "data": {
      "text/plain": [
       "1"
      ]
     },
     "execution_count": 37,
     "metadata": {},
     "output_type": "execute_result"
    }
   ],
   "source": [
    "a.ndim"
   ]
  },
  {
   "cell_type": "code",
   "execution_count": 38,
   "id": "af261178",
   "metadata": {},
   "outputs": [
    {
     "data": {
      "text/plain": [
       "3"
      ]
     },
     "execution_count": 38,
     "metadata": {},
     "output_type": "execute_result"
    }
   ],
   "source": [
    "a[0]"
   ]
  },
  {
   "cell_type": "code",
   "execution_count": 39,
   "id": "e500ab75",
   "metadata": {},
   "outputs": [
    {
     "data": {
      "text/plain": [
       "5"
      ]
     },
     "execution_count": 39,
     "metadata": {},
     "output_type": "execute_result"
    }
   ],
   "source": [
    "a[2]"
   ]
  },
  {
   "cell_type": "code",
   "execution_count": 40,
   "id": "aa0634e9",
   "metadata": {},
   "outputs": [
    {
     "data": {
      "text/plain": [
       "8"
      ]
     },
     "execution_count": 40,
     "metadata": {},
     "output_type": "execute_result"
    }
   ],
   "source": [
    "a[2]+a[0]"
   ]
  },
  {
   "cell_type": "markdown",
   "id": "fed71ce4",
   "metadata": {},
   "source": [
    "    2D Array "
   ]
  },
  {
   "cell_type": "code",
   "execution_count": 41,
   "id": "8f78dda2",
   "metadata": {},
   "outputs": [],
   "source": [
    "b = np.array([[1,2,3,4,5], [6,7,8,9,10]])"
   ]
  },
  {
   "cell_type": "code",
   "execution_count": 42,
   "id": "4aa7471e",
   "metadata": {},
   "outputs": [
    {
     "data": {
      "text/plain": [
       "array([[ 1,  2,  3,  4,  5],\n",
       "       [ 6,  7,  8,  9, 10]])"
      ]
     },
     "execution_count": 42,
     "metadata": {},
     "output_type": "execute_result"
    }
   ],
   "source": [
    "b"
   ]
  },
  {
   "cell_type": "code",
   "execution_count": 43,
   "id": "14285d2a",
   "metadata": {},
   "outputs": [],
   "source": [
    "# Access element from 2nd row and 5th column"
   ]
  },
  {
   "cell_type": "code",
   "execution_count": 44,
   "id": "a6b65100",
   "metadata": {},
   "outputs": [
    {
     "data": {
      "text/plain": [
       "10"
      ]
     },
     "execution_count": 44,
     "metadata": {},
     "output_type": "execute_result"
    }
   ],
   "source": [
    "b[1,4]"
   ]
  },
  {
   "cell_type": "code",
   "execution_count": 45,
   "id": "e997d94e",
   "metadata": {},
   "outputs": [
    {
     "data": {
      "text/plain": [
       "3"
      ]
     },
     "execution_count": 45,
     "metadata": {},
     "output_type": "execute_result"
    }
   ],
   "source": [
    "b[0,2]"
   ]
  },
  {
   "cell_type": "markdown",
   "id": "8706e7cf",
   "metadata": {},
   "source": [
    "    Iterating Numpy Arrays\n",
    "    Iterating Arrays\n",
    "    Iterating means going through elements one by one\n",
    "    As we deal with multi-dimensional arrays in numpy, we can do this using basic for loop of python.\n",
    "    If we iterate on a 1-D array it will go through each element one by one.\n",
    "    \n",
    "    Sample Code\n",
    "    import numpy as np\n",
    "    \n",
    "    arr = np.array([1,2,3])\n",
    "    \n",
    "    for x in arr:\n",
    "      print(x)\n",
    "      \n",
    "    Iterating 2-D Arrays\n",
    "    import numpy as np\n",
    "    arr = np.array([[1,2,3], [4,5,6])\n",
    "    for x in arr:\n",
    "      print(x)\n",
    "      \n",
    "    Iterate on each scalar element of 2D Array\n",
    "    import numpy as np\n",
    "    arr = np.array([[1,2,3], [4,5,6]])\n",
    "    for x in arr:\n",
    "      for y in x:\n",
    "         print(y)"
   ]
  },
  {
   "cell_type": "code",
   "execution_count": 46,
   "id": "da8a4f37",
   "metadata": {},
   "outputs": [],
   "source": [
    "arr = np.array([[1,2,3], [4,5,6]])"
   ]
  },
  {
   "cell_type": "code",
   "execution_count": null,
   "id": "c38ae368",
   "metadata": {},
   "outputs": [],
   "source": [
    "\n",
    "    "
   ]
  },
  {
   "cell_type": "code",
   "execution_count": 47,
   "id": "72f29a73",
   "metadata": {},
   "outputs": [],
   "source": [
    "arr = np.array([1,2,3,4])"
   ]
  },
  {
   "cell_type": "code",
   "execution_count": 48,
   "id": "73649244",
   "metadata": {},
   "outputs": [
    {
     "name": "stdout",
     "output_type": "stream",
     "text": [
      "1\n",
      "2\n",
      "3\n",
      "4\n"
     ]
    }
   ],
   "source": [
    "for i in arr:\n",
    "    print(i)"
   ]
  },
  {
   "cell_type": "code",
   "execution_count": 49,
   "id": "59e6c184",
   "metadata": {},
   "outputs": [],
   "source": [
    "arr2 = np.array([[1,2,3], [4,5,6]])"
   ]
  },
  {
   "cell_type": "code",
   "execution_count": 50,
   "id": "3fc045e5",
   "metadata": {},
   "outputs": [
    {
     "name": "stdout",
     "output_type": "stream",
     "text": [
      "[1 2 3]\n",
      "[4 5 6]\n"
     ]
    }
   ],
   "source": [
    "for j in arr2:\n",
    "    print(j)"
   ]
  },
  {
   "cell_type": "code",
   "execution_count": 51,
   "id": "ce8616d3",
   "metadata": {},
   "outputs": [
    {
     "name": "stdout",
     "output_type": "stream",
     "text": [
      "1\n",
      "2\n",
      "3\n",
      "4\n",
      "5\n",
      "6\n"
     ]
    }
   ],
   "source": [
    "for j in arr2:\n",
    "#     print(j)\n",
    "    for b in j:\n",
    "        print(b)\n",
    "        "
   ]
  },
  {
   "cell_type": "markdown",
   "id": "e43a9471",
   "metadata": {},
   "source": [
    "    Array Slicing\n",
    "    \n",
    "    Slicing arrays\n",
    "    Slicing in python means taking elements from one given index to another given index.\n",
    "    We pass slice instead of index like this: [start:end].\n",
    "    We can also define the step, like this: [start:end:step].\n",
    "    If we don't pass start its considered 0\n",
    "    If we don't pass end its considered length of array in that dimension\n",
    "    If we don't pass step its considered 1\n",
    "    \n",
    "    Example \n",
    "    Slice elements from index 1 to index 5 from the following array:\n",
    "    \n",
    "    import numpy as np\n",
    "    arr = np.array([1,2,3,4,5,6,7])\n",
    "    print(arr[1:5:2])\n",
    "    \n",
    "    From the second element, slice elements from index 1 to index 4 (not included):\n",
    "    \n",
    "    import numpy as np\n",
    "    arr = np.array([[1,2,3,4,5], [6,7,8,9,10]])\n",
    "    print(arr[1, 1:4])"
   ]
  },
  {
   "cell_type": "code",
   "execution_count": 53,
   "id": "3e29a8c2",
   "metadata": {},
   "outputs": [],
   "source": [
    "a = np.array([1,2,3,4,5,6,7,8,9])"
   ]
  },
  {
   "cell_type": "code",
   "execution_count": 54,
   "id": "6810b0af-ef0c-47cd-a7a2-9a4f08a26f9e",
   "metadata": {},
   "outputs": [
    {
     "data": {
      "text/plain": [
       "array([2, 3, 4, 5])"
      ]
     },
     "execution_count": 54,
     "metadata": {},
     "output_type": "execute_result"
    }
   ],
   "source": [
    "a[1:5]"
   ]
  },
  {
   "cell_type": "code",
   "execution_count": 55,
   "id": "d2bde128-8133-4ea6-902a-41b35b565e15",
   "metadata": {},
   "outputs": [
    {
     "data": {
      "text/plain": [
       "array([3, 4, 5, 6, 7])"
      ]
     },
     "execution_count": 55,
     "metadata": {},
     "output_type": "execute_result"
    }
   ],
   "source": [
    "a[2:7]"
   ]
  },
  {
   "cell_type": "code",
   "execution_count": 56,
   "id": "cac3f352-9d64-4c18-87d2-7020db21b8ef",
   "metadata": {},
   "outputs": [
    {
     "data": {
      "text/plain": [
       "array([5, 6, 7, 8, 9])"
      ]
     },
     "execution_count": 56,
     "metadata": {},
     "output_type": "execute_result"
    }
   ],
   "source": [
    "a[4:]"
   ]
  },
  {
   "cell_type": "code",
   "execution_count": 57,
   "id": "4b7de66b-ccbc-48b9-8ec4-8b9022d1b3d3",
   "metadata": {},
   "outputs": [
    {
     "data": {
      "text/plain": [
       "array([1, 2, 3, 4, 5])"
      ]
     },
     "execution_count": 57,
     "metadata": {},
     "output_type": "execute_result"
    }
   ],
   "source": [
    "a[:5]"
   ]
  },
  {
   "cell_type": "markdown",
   "id": "47588826-d283-4dc3-bd89-c9fefdce04bb",
   "metadata": {},
   "source": [
    "    Slice a 2D Array"
   ]
  },
  {
   "cell_type": "code",
   "execution_count": 58,
   "id": "bc4aef80-f03e-4ed6-ae84-1f0133252782",
   "metadata": {},
   "outputs": [],
   "source": [
    "b = np.array([[1,2,3,4,5], [6,7,8,9,10]])"
   ]
  },
  {
   "cell_type": "code",
   "execution_count": 59,
   "id": "fd913a4d-ea47-4fc5-bb99-8ea69bed1a83",
   "metadata": {},
   "outputs": [
    {
     "data": {
      "text/plain": [
       "array([[ 1,  2,  3,  4,  5],\n",
       "       [ 6,  7,  8,  9, 10]])"
      ]
     },
     "execution_count": 59,
     "metadata": {},
     "output_type": "execute_result"
    }
   ],
   "source": [
    "b"
   ]
  },
  {
   "cell_type": "code",
   "execution_count": 60,
   "id": "e481c2ef-d930-4b43-94c2-d2dd6a74b8ba",
   "metadata": {},
   "outputs": [
    {
     "data": {
      "text/plain": [
       "array([7, 8, 9])"
      ]
     },
     "execution_count": 60,
     "metadata": {},
     "output_type": "execute_result"
    }
   ],
   "source": [
    "b[1,1:4]"
   ]
  },
  {
   "cell_type": "code",
   "execution_count": 61,
   "id": "dd458e12-9a09-40b5-9486-dea92c8727eb",
   "metadata": {},
   "outputs": [
    {
     "data": {
      "text/plain": [
       "array([1, 2, 3])"
      ]
     },
     "execution_count": 61,
     "metadata": {},
     "output_type": "execute_result"
    }
   ],
   "source": [
    "b[0, 0:3]"
   ]
  },
  {
   "cell_type": "markdown",
   "id": "320d3f86-773f-485c-9b8e-60e9e3a4484d",
   "metadata": {},
   "source": [
    "    Numpy Array Searching and Sorting\n",
    "    Searching Arrays\n",
    "    You can search an array for a certain value, and return the indexes that get a match.\n",
    "    To search an array, use the where() method.\n",
    "    import numpy as np\n",
    "    arr = np.array([1,2,3,4,5,4,4])\n",
    "    x = np.where(arr == 4)\n",
    "    print(x)\n",
    "    \n",
    "    Example\n",
    "    \n",
    "    Find the indexes where the values are even:\n",
    "    import numpy as np\n",
    "    arr = np.array([1,2,3,4,5,6,7,8])\n",
    "    x = arr.where(arr%2 == 0)\n",
    "    print(x)\n",
    "    \n",
    "    Shorting Arrays\n",
    "    \n",
    "    Sorting means putting elements in an ordered sequence \n",
    "    \n",
    "    Ordered sequence is any sequence that has an order \n",
    "    corresponding to elements, like numeric and alphabetical, \n",
    "    ascending or decending.\n",
    "    The Numpy ndarray object has a function called sort(), that will \n",
    "    sort a specified array.\n",
    "    Example:\n",
    "    sort the array:\n",
    "    import numpy as np\n",
    "    arr = np.array([3,2,0,1])\n",
    "    print(np.sort(arr))\n",
    "    \n",
    "    Example2:\n",
    "    import numpy as np\n",
    "    arr = np.array(['banana', 'cherry', 'apple'])\n",
    "    print(np.sort(arr))\n",
    "    \n",
    "    "
   ]
  },
  {
   "cell_type": "code",
   "execution_count": 68,
   "id": "da12f30a-6255-4ebb-bebe-3cb8d12e0cbc",
   "metadata": {},
   "outputs": [],
   "source": [
    "a = np.array([1,2,3,3,5,4,5,20,1])"
   ]
  },
  {
   "cell_type": "code",
   "execution_count": 69,
   "id": "3ecb3357-c0c3-4372-8305-e88e11e84b58",
   "metadata": {},
   "outputs": [],
   "source": [
    "x = np.where(a == 1)"
   ]
  },
  {
   "cell_type": "code",
   "execution_count": 70,
   "id": "fd9c0439-2752-4e61-9951-8579c67b3b11",
   "metadata": {},
   "outputs": [],
   "source": [
    "y = np.where( a == 4)"
   ]
  },
  {
   "cell_type": "code",
   "execution_count": 71,
   "id": "70534ea2-ca7c-4bf6-bc4e-b275774407aa",
   "metadata": {},
   "outputs": [
    {
     "data": {
      "text/plain": [
       "(array([5]),)"
      ]
     },
     "execution_count": 71,
     "metadata": {},
     "output_type": "execute_result"
    }
   ],
   "source": [
    "y"
   ]
  },
  {
   "cell_type": "code",
   "execution_count": 72,
   "id": "ce1b5c52-5ecc-4859-9aee-228da99cc145",
   "metadata": {},
   "outputs": [
    {
     "data": {
      "text/plain": [
       "(array([0, 8]),)"
      ]
     },
     "execution_count": 72,
     "metadata": {},
     "output_type": "execute_result"
    }
   ],
   "source": [
    "x"
   ]
  },
  {
   "cell_type": "code",
   "execution_count": 73,
   "id": "37c7199b-835f-45c2-9e66-2d0ce76d6248",
   "metadata": {},
   "outputs": [],
   "source": [
    "ans = np.where(a%2 == 0)"
   ]
  },
  {
   "cell_type": "code",
   "execution_count": 74,
   "id": "0dbfcf45-8a25-4bf7-a520-b019f49cf4ab",
   "metadata": {},
   "outputs": [
    {
     "data": {
      "text/plain": [
       "(array([1, 5, 7]),)"
      ]
     },
     "execution_count": 74,
     "metadata": {},
     "output_type": "execute_result"
    }
   ],
   "source": [
    "ans"
   ]
  },
  {
   "cell_type": "markdown",
   "id": "94455e68-7aae-4dfa-bfe5-275e63c742d3",
   "metadata": {},
   "source": [
    "Sort "
   ]
  },
  {
   "cell_type": "code",
   "execution_count": 75,
   "id": "b6147502-6844-4b5c-b729-4fb5a0638dfe",
   "metadata": {},
   "outputs": [
    {
     "data": {
      "text/plain": [
       "array([ 1,  1,  2,  3,  3,  4,  5,  5, 20])"
      ]
     },
     "execution_count": 75,
     "metadata": {},
     "output_type": "execute_result"
    }
   ],
   "source": [
    "np.sort(a)"
   ]
  },
  {
   "cell_type": "code",
   "execution_count": 76,
   "id": "cf3ae7cc-6673-473f-bead-522a7c982421",
   "metadata": {},
   "outputs": [],
   "source": [
    "a2 = np.array([44,12,90, 76, 55])"
   ]
  },
  {
   "cell_type": "code",
   "execution_count": 77,
   "id": "96a6d106-1130-4138-a523-1d66346ce1a6",
   "metadata": {},
   "outputs": [
    {
     "data": {
      "text/plain": [
       "array([12, 44, 55, 76, 90])"
      ]
     },
     "execution_count": 77,
     "metadata": {},
     "output_type": "execute_result"
    }
   ],
   "source": [
    "np.sort(a2)"
   ]
  },
  {
   "cell_type": "code",
   "execution_count": 78,
   "id": "ba5fe2aa-a217-435b-a7f2-91f5461646b1",
   "metadata": {},
   "outputs": [],
   "source": [
    "a3 = np.array(['mango', 'papaiya', 'apple', 'orange'])"
   ]
  },
  {
   "cell_type": "code",
   "execution_count": 79,
   "id": "e1061431-16ff-40ba-b3a9-c1fff884ac31",
   "metadata": {},
   "outputs": [
    {
     "data": {
      "text/plain": [
       "array(['apple', 'mango', 'orange', 'papaiya'], dtype='<U7')"
      ]
     },
     "execution_count": 79,
     "metadata": {},
     "output_type": "execute_result"
    }
   ],
   "source": [
    "np.sort(a3)"
   ]
  },
  {
   "cell_type": "markdown",
   "id": "e0a4affe-b74e-4031-858b-632c5498e4c3",
   "metadata": {},
   "source": [
    "    Pandas\n",
    "\n",
    "    What is Pandas?\n",
    "    Pandas is a python library used for working with data sets.\n",
    "    It has functions for analyzing, cleaning, exploring, and manipulating data.\n",
    "    The name \"Pandas\" has a reference to both \"Panel Data\", and \"Python Data Analysis\" and was created\n",
    "    by Wes WcKinney in 2008.\n",
    "    \n",
    "    Why Use Pandas?\n",
    "    Pandas allows us to analyze big data and make conclusions based on stastical theories.\n",
    "    Pandas can clean messy data sets, and make them readable and relevent.\n",
    "    Relevent data is very important in data science.\n",
    "    \n",
    "    What can Pandas Do ?\n",
    "    Pandas gives you answers about the data. Like:\n",
    "    - Is there a correlation between two or more column?\n",
    "    - What is average value?\n",
    "    - Max value?\n",
    "    - Min value?\n",
    "    Pandas are also able to delete rows that are not relevent, or contains wrong value, like empty or \n",
    "    NULL values. This is called cleaning the data.\n",
    "    "
   ]
  },
  {
   "cell_type": "code",
   "execution_count": 88,
   "id": "54d0a841-b0c9-4e2a-8e1f-f14637673572",
   "metadata": {},
   "outputs": [],
   "source": [
    "import pandas as pd"
   ]
  },
  {
   "cell_type": "code",
   "execution_count": 89,
   "id": "d9f22561-b750-4bf5-9e41-1ad39efe50b9",
   "metadata": {},
   "outputs": [],
   "source": [
    "df = pd.read_csv(\"couse.csv\")"
   ]
  },
  {
   "cell_type": "code",
   "execution_count": 90,
   "id": "0f6426c1-4fcc-4b90-a1f2-bce9434302ff",
   "metadata": {},
   "outputs": [
    {
     "data": {
      "text/html": [
       "<div>\n",
       "<style scoped>\n",
       "    .dataframe tbody tr th:only-of-type {\n",
       "        vertical-align: middle;\n",
       "    }\n",
       "\n",
       "    .dataframe tbody tr th {\n",
       "        vertical-align: top;\n",
       "    }\n",
       "\n",
       "    .dataframe thead th {\n",
       "        text-align: right;\n",
       "    }\n",
       "</style>\n",
       "<table border=\"1\" class=\"dataframe\">\n",
       "  <thead>\n",
       "    <tr style=\"text-align: right;\">\n",
       "      <th></th>\n",
       "      <th>subjectname</th>\n",
       "      <th>subjectcode</th>\n",
       "      <th>creditHour</th>\n",
       "      <th>Semester</th>\n",
       "      <th>collegename</th>\n",
       "      <th>programname</th>\n",
       "      <th>levelname</th>\n",
       "    </tr>\n",
       "  </thead>\n",
       "  <tbody>\n",
       "    <tr>\n",
       "      <th>0</th>\n",
       "      <td>Emerging Concepts in MGMT.</td>\n",
       "      <td>MGMT511</td>\n",
       "      <td>4.0</td>\n",
       "      <td>1.0</td>\n",
       "      <td>Central Campus of Management</td>\n",
       "      <td>Master of Business Studies</td>\n",
       "      <td>Master</td>\n",
       "    </tr>\n",
       "    <tr>\n",
       "      <th>1</th>\n",
       "      <td>Accounting for Managers</td>\n",
       "      <td>MGMT512</td>\n",
       "      <td>4.0</td>\n",
       "      <td>1.0</td>\n",
       "      <td>Central Campus of Management</td>\n",
       "      <td>Master of Business Studies</td>\n",
       "      <td>Master</td>\n",
       "    </tr>\n",
       "    <tr>\n",
       "      <th>2</th>\n",
       "      <td>Managerial Economics</td>\n",
       "      <td>MGMT513</td>\n",
       "      <td>4.0</td>\n",
       "      <td>1.0</td>\n",
       "      <td>Central Campus of Management</td>\n",
       "      <td>Master of Business Studies</td>\n",
       "      <td>Master</td>\n",
       "    </tr>\n",
       "    <tr>\n",
       "      <th>3</th>\n",
       "      <td>Human Resoure Management</td>\n",
       "      <td>MGMT514</td>\n",
       "      <td>4.0</td>\n",
       "      <td>1.0</td>\n",
       "      <td>Central Campus of Management</td>\n",
       "      <td>Master of Business Studies</td>\n",
       "      <td>Master</td>\n",
       "    </tr>\n",
       "    <tr>\n",
       "      <th>4</th>\n",
       "      <td>Statistics for Business Decisions</td>\n",
       "      <td>MGMT515</td>\n",
       "      <td>4.0</td>\n",
       "      <td>1.0</td>\n",
       "      <td>Central Campus of Management</td>\n",
       "      <td>Master of Business Studies</td>\n",
       "      <td>Master</td>\n",
       "    </tr>\n",
       "    <tr>\n",
       "      <th>...</th>\n",
       "      <td>...</td>\n",
       "      <td>...</td>\n",
       "      <td>...</td>\n",
       "      <td>...</td>\n",
       "      <td>...</td>\n",
       "      <td>...</td>\n",
       "      <td>...</td>\n",
       "    </tr>\n",
       "    <tr>\n",
       "      <th>23057</th>\n",
       "      <td>Principles of Horticulture</td>\n",
       "      <td>HRT415</td>\n",
       "      <td>3.0</td>\n",
       "      <td>1.0</td>\n",
       "      <td>Graduate School of Agriculture and Forestry</td>\n",
       "      <td>Bachelor of Agriculture</td>\n",
       "      <td>Bachelor</td>\n",
       "    </tr>\n",
       "    <tr>\n",
       "      <th>23058</th>\n",
       "      <td>Principles of Crop Production &amp; Weed Mgt</td>\n",
       "      <td>AGR416</td>\n",
       "      <td>3.0</td>\n",
       "      <td>1.0</td>\n",
       "      <td>Graduate School of Agriculture and Forestry</td>\n",
       "      <td>Bachelor of Agriculture</td>\n",
       "      <td>Bachelor</td>\n",
       "    </tr>\n",
       "    <tr>\n",
       "      <th>23059</th>\n",
       "      <td>Introduction to Soil Science</td>\n",
       "      <td>SSC417</td>\n",
       "      <td>2.0</td>\n",
       "      <td>1.0</td>\n",
       "      <td>Graduate School of Agriculture and Forestry</td>\n",
       "      <td>Bachelor of Agriculture</td>\n",
       "      <td>Bachelor</td>\n",
       "    </tr>\n",
       "    <tr>\n",
       "      <th>23060</th>\n",
       "      <td>Fundamentals of Animal Science</td>\n",
       "      <td>ANS418</td>\n",
       "      <td>3.0</td>\n",
       "      <td>1.0</td>\n",
       "      <td>Graduate School of Agriculture and Forestry</td>\n",
       "      <td>Bachelor of Agriculture</td>\n",
       "      <td>Bachelor</td>\n",
       "    </tr>\n",
       "    <tr>\n",
       "      <th>23061</th>\n",
       "      <td>Agro-ecology and Climate Change</td>\n",
       "      <td>OAG419</td>\n",
       "      <td>2.0</td>\n",
       "      <td>1.0</td>\n",
       "      <td>Graduate School of Agriculture and Forestry</td>\n",
       "      <td>Bachelor of Agriculture</td>\n",
       "      <td>Bachelor</td>\n",
       "    </tr>\n",
       "  </tbody>\n",
       "</table>\n",
       "<p>23062 rows × 7 columns</p>\n",
       "</div>"
      ],
      "text/plain": [
       "                                    subjectname subjectcode  creditHour  \\\n",
       "0                    Emerging Concepts in MGMT.     MGMT511         4.0   \n",
       "1                       Accounting for Managers     MGMT512         4.0   \n",
       "2                          Managerial Economics     MGMT513         4.0   \n",
       "3                      Human Resoure Management     MGMT514         4.0   \n",
       "4             Statistics for Business Decisions     MGMT515         4.0   \n",
       "...                                         ...         ...         ...   \n",
       "23057                Principles of Horticulture      HRT415         3.0   \n",
       "23058  Principles of Crop Production & Weed Mgt      AGR416         3.0   \n",
       "23059              Introduction to Soil Science      SSC417         2.0   \n",
       "23060            Fundamentals of Animal Science      ANS418         3.0   \n",
       "23061           Agro-ecology and Climate Change      OAG419         2.0   \n",
       "\n",
       "       Semester                                  collegename  \\\n",
       "0           1.0                Central Campus of Management    \n",
       "1           1.0                Central Campus of Management    \n",
       "2           1.0                Central Campus of Management    \n",
       "3           1.0                Central Campus of Management    \n",
       "4           1.0                Central Campus of Management    \n",
       "...         ...                                          ...   \n",
       "23057       1.0  Graduate School of Agriculture and Forestry   \n",
       "23058       1.0  Graduate School of Agriculture and Forestry   \n",
       "23059       1.0  Graduate School of Agriculture and Forestry   \n",
       "23060       1.0  Graduate School of Agriculture and Forestry   \n",
       "23061       1.0  Graduate School of Agriculture and Forestry   \n",
       "\n",
       "                      programname levelname  \n",
       "0      Master of Business Studies    Master  \n",
       "1      Master of Business Studies    Master  \n",
       "2      Master of Business Studies    Master  \n",
       "3      Master of Business Studies    Master  \n",
       "4      Master of Business Studies    Master  \n",
       "...                           ...       ...  \n",
       "23057     Bachelor of Agriculture  Bachelor  \n",
       "23058     Bachelor of Agriculture  Bachelor  \n",
       "23059     Bachelor of Agriculture  Bachelor  \n",
       "23060     Bachelor of Agriculture  Bachelor  \n",
       "23061     Bachelor of Agriculture  Bachelor  \n",
       "\n",
       "[23062 rows x 7 columns]"
      ]
     },
     "execution_count": 90,
     "metadata": {},
     "output_type": "execute_result"
    }
   ],
   "source": [
    "df"
   ]
  },
  {
   "cell_type": "markdown",
   "id": "b24fe43c-9456-4ff0-9c7c-f1678eea471b",
   "metadata": {},
   "source": [
    "    Series in Pandas\n",
    "    \n",
    "    What is a Series?\n",
    "    A pandas series is like a column in a table.\n",
    "    It is a one-dimensional array holding data of any type.\n",
    "    Simple Code\n",
    "    import pandas as pd\n",
    "    a = [1, 7, 2]\n",
    "    myvar = pd.Series(a)\n",
    "    print(myvar)\n",
    "    \n",
    "    Key/Value Object as Series\n",
    "    \n",
    "    import pandas as pd\n",
    "    sample = {\"day1\": 420, \"day2\": 380, \"day3\": 390}\n",
    "    myvar = pd.Series(sample)\n",
    "    print(myvar)"
   ]
  },
  {
   "cell_type": "code",
   "execution_count": 94,
   "id": "1f68a826-cf53-4105-917f-16c25e6a0573",
   "metadata": {},
   "outputs": [],
   "source": [
    "l1 = [3,6,8,10,13, 22]"
   ]
  },
  {
   "cell_type": "code",
   "execution_count": 95,
   "id": "8bff6f08-951a-4d95-9ea8-0cc922ec19e8",
   "metadata": {},
   "outputs": [],
   "source": [
    "s1 = pd.Series(l1)"
   ]
  },
  {
   "cell_type": "code",
   "execution_count": 96,
   "id": "e6f35016-88ab-4d4e-9152-1fc5997637d7",
   "metadata": {},
   "outputs": [
    {
     "data": {
      "text/plain": [
       "0     3\n",
       "1     6\n",
       "2     8\n",
       "3    10\n",
       "4    13\n",
       "5    22\n",
       "dtype: int64"
      ]
     },
     "execution_count": 96,
     "metadata": {},
     "output_type": "execute_result"
    }
   ],
   "source": [
    "s1"
   ]
  },
  {
   "cell_type": "code",
   "execution_count": 97,
   "id": "8bdc8491-05b0-4fc7-b297-8f6dd9afd72d",
   "metadata": {},
   "outputs": [],
   "source": [
    "d1 = {\"one\":10, \"second\":100, \"third\":1000}"
   ]
  },
  {
   "cell_type": "code",
   "execution_count": 98,
   "id": "4cdb078d-456b-4dba-a7f9-b58c0e608861",
   "metadata": {},
   "outputs": [],
   "source": [
    "s2 = pd.Series(d1)"
   ]
  },
  {
   "cell_type": "code",
   "execution_count": 99,
   "id": "1d5a1688-0091-4dce-96ce-63ba60bad8d5",
   "metadata": {},
   "outputs": [
    {
     "data": {
      "text/plain": [
       "one         10\n",
       "second     100\n",
       "third     1000\n",
       "dtype: int64"
      ]
     },
     "execution_count": 99,
     "metadata": {},
     "output_type": "execute_result"
    }
   ],
   "source": [
    "s2"
   ]
  },
  {
   "cell_type": "markdown",
   "id": "98ee75ff-08d0-4088-b649-e1e00f5662ab",
   "metadata": {},
   "source": [
    "    Pandas DataFrame\n",
    "    What is a DataFrame?\n",
    "    A pandas dataframe is a 2 dimensional data structure, like a 2 dimensional array, or a table with\n",
    "    rows and columns.\n",
    "    \n",
    "    Sample Code\n",
    "    import pandas as pd\n",
    "    data = {\n",
    "        \"calories\": [420, 380, 390],\n",
    "        \"duration\": [50, 40, 45]\n",
    "        }\n",
    "    df = pd.DataFrame(data)\n",
    "    print(df)\n",
    "    \n",
    "    Locate Row\n",
    "    As you can see from the result above, the DataFrame is like a table with rows and columns.\n",
    "    Pandas use the loc attribute to return one or more specified rows(s)\n",
    "    print(df.loc[0])\n",
    "    \n",
    "    "
   ]
  },
  {
   "cell_type": "code",
   "execution_count": 102,
   "id": "0d282935-8055-4b69-8bfe-07b76309b6ae",
   "metadata": {},
   "outputs": [
    {
     "name": "stdout",
     "output_type": "stream",
     "text": [
      "   calories  duration\n",
      "0       420        50\n",
      "1       380        40\n",
      "2       390        45\n"
     ]
    }
   ],
   "source": [
    "data = {\n",
    "    \"calories\": [420, 380, 390],\n",
    "    \"duration\": [50, 40, 45]\n",
    "}\n",
    "df = pd.DataFrame(data)\n",
    "print(df)"
   ]
  },
  {
   "cell_type": "code",
   "execution_count": 103,
   "id": "9d8c5897-922b-494a-97cc-1aab0049575f",
   "metadata": {},
   "outputs": [
    {
     "data": {
      "text/plain": [
       "calories    420\n",
       "duration     50\n",
       "Name: 0, dtype: int64"
      ]
     },
     "execution_count": 103,
     "metadata": {},
     "output_type": "execute_result"
    }
   ],
   "source": [
    "df.loc[0]"
   ]
  },
  {
   "cell_type": "markdown",
   "id": "e2d0bb77-a0f4-4137-a18f-07d077c3a41d",
   "metadata": {},
   "source": [
    "    Read CSV\n",
    "    \n",
    "    A simple way to store big data sets is to use CSV file (comma separated files). \n",
    "    CSV files contains plain text and is a well known format that can be read by everyone\n",
    "    including Pandas.\n",
    "    \n",
    "    In our example we will be using CSV file called 'data.csv'\n",
    "    \n",
    "    read_csv('path')\n",
    "    import pandas as pd\n",
    "    df = pd.read_csv('data.csv')\n",
    "    print(df)\n",
    "    \n",
    "    "
   ]
  },
  {
   "cell_type": "code",
   "execution_count": 104,
   "id": "825c0592-81e6-43b6-84d5-5872d9dc4210",
   "metadata": {},
   "outputs": [
    {
     "data": {
      "text/html": [
       "<div>\n",
       "<style scoped>\n",
       "    .dataframe tbody tr th:only-of-type {\n",
       "        vertical-align: middle;\n",
       "    }\n",
       "\n",
       "    .dataframe tbody tr th {\n",
       "        vertical-align: top;\n",
       "    }\n",
       "\n",
       "    .dataframe thead th {\n",
       "        text-align: right;\n",
       "    }\n",
       "</style>\n",
       "<table border=\"1\" class=\"dataframe\">\n",
       "  <thead>\n",
       "    <tr style=\"text-align: right;\">\n",
       "      <th></th>\n",
       "      <th>subjectname</th>\n",
       "      <th>subjectcode</th>\n",
       "      <th>creditHour</th>\n",
       "      <th>Semester</th>\n",
       "      <th>collegename</th>\n",
       "      <th>programname</th>\n",
       "      <th>levelname</th>\n",
       "    </tr>\n",
       "  </thead>\n",
       "  <tbody>\n",
       "    <tr>\n",
       "      <th>0</th>\n",
       "      <td>Emerging Concepts in MGMT.</td>\n",
       "      <td>MGMT511</td>\n",
       "      <td>4.0</td>\n",
       "      <td>1.0</td>\n",
       "      <td>Central Campus of Management</td>\n",
       "      <td>Master of Business Studies</td>\n",
       "      <td>Master</td>\n",
       "    </tr>\n",
       "    <tr>\n",
       "      <th>1</th>\n",
       "      <td>Accounting for Managers</td>\n",
       "      <td>MGMT512</td>\n",
       "      <td>4.0</td>\n",
       "      <td>1.0</td>\n",
       "      <td>Central Campus of Management</td>\n",
       "      <td>Master of Business Studies</td>\n",
       "      <td>Master</td>\n",
       "    </tr>\n",
       "    <tr>\n",
       "      <th>2</th>\n",
       "      <td>Managerial Economics</td>\n",
       "      <td>MGMT513</td>\n",
       "      <td>4.0</td>\n",
       "      <td>1.0</td>\n",
       "      <td>Central Campus of Management</td>\n",
       "      <td>Master of Business Studies</td>\n",
       "      <td>Master</td>\n",
       "    </tr>\n",
       "    <tr>\n",
       "      <th>3</th>\n",
       "      <td>Human Resoure Management</td>\n",
       "      <td>MGMT514</td>\n",
       "      <td>4.0</td>\n",
       "      <td>1.0</td>\n",
       "      <td>Central Campus of Management</td>\n",
       "      <td>Master of Business Studies</td>\n",
       "      <td>Master</td>\n",
       "    </tr>\n",
       "    <tr>\n",
       "      <th>4</th>\n",
       "      <td>Statistics for Business Decisions</td>\n",
       "      <td>MGMT515</td>\n",
       "      <td>4.0</td>\n",
       "      <td>1.0</td>\n",
       "      <td>Central Campus of Management</td>\n",
       "      <td>Master of Business Studies</td>\n",
       "      <td>Master</td>\n",
       "    </tr>\n",
       "    <tr>\n",
       "      <th>...</th>\n",
       "      <td>...</td>\n",
       "      <td>...</td>\n",
       "      <td>...</td>\n",
       "      <td>...</td>\n",
       "      <td>...</td>\n",
       "      <td>...</td>\n",
       "      <td>...</td>\n",
       "    </tr>\n",
       "    <tr>\n",
       "      <th>23057</th>\n",
       "      <td>Principles of Horticulture</td>\n",
       "      <td>HRT415</td>\n",
       "      <td>3.0</td>\n",
       "      <td>1.0</td>\n",
       "      <td>Graduate School of Agriculture and Forestry</td>\n",
       "      <td>Bachelor of Agriculture</td>\n",
       "      <td>Bachelor</td>\n",
       "    </tr>\n",
       "    <tr>\n",
       "      <th>23058</th>\n",
       "      <td>Principles of Crop Production &amp; Weed Mgt</td>\n",
       "      <td>AGR416</td>\n",
       "      <td>3.0</td>\n",
       "      <td>1.0</td>\n",
       "      <td>Graduate School of Agriculture and Forestry</td>\n",
       "      <td>Bachelor of Agriculture</td>\n",
       "      <td>Bachelor</td>\n",
       "    </tr>\n",
       "    <tr>\n",
       "      <th>23059</th>\n",
       "      <td>Introduction to Soil Science</td>\n",
       "      <td>SSC417</td>\n",
       "      <td>2.0</td>\n",
       "      <td>1.0</td>\n",
       "      <td>Graduate School of Agriculture and Forestry</td>\n",
       "      <td>Bachelor of Agriculture</td>\n",
       "      <td>Bachelor</td>\n",
       "    </tr>\n",
       "    <tr>\n",
       "      <th>23060</th>\n",
       "      <td>Fundamentals of Animal Science</td>\n",
       "      <td>ANS418</td>\n",
       "      <td>3.0</td>\n",
       "      <td>1.0</td>\n",
       "      <td>Graduate School of Agriculture and Forestry</td>\n",
       "      <td>Bachelor of Agriculture</td>\n",
       "      <td>Bachelor</td>\n",
       "    </tr>\n",
       "    <tr>\n",
       "      <th>23061</th>\n",
       "      <td>Agro-ecology and Climate Change</td>\n",
       "      <td>OAG419</td>\n",
       "      <td>2.0</td>\n",
       "      <td>1.0</td>\n",
       "      <td>Graduate School of Agriculture and Forestry</td>\n",
       "      <td>Bachelor of Agriculture</td>\n",
       "      <td>Bachelor</td>\n",
       "    </tr>\n",
       "  </tbody>\n",
       "</table>\n",
       "<p>23062 rows × 7 columns</p>\n",
       "</div>"
      ],
      "text/plain": [
       "                                    subjectname subjectcode  creditHour  \\\n",
       "0                    Emerging Concepts in MGMT.     MGMT511         4.0   \n",
       "1                       Accounting for Managers     MGMT512         4.0   \n",
       "2                          Managerial Economics     MGMT513         4.0   \n",
       "3                      Human Resoure Management     MGMT514         4.0   \n",
       "4             Statistics for Business Decisions     MGMT515         4.0   \n",
       "...                                         ...         ...         ...   \n",
       "23057                Principles of Horticulture      HRT415         3.0   \n",
       "23058  Principles of Crop Production & Weed Mgt      AGR416         3.0   \n",
       "23059              Introduction to Soil Science      SSC417         2.0   \n",
       "23060            Fundamentals of Animal Science      ANS418         3.0   \n",
       "23061           Agro-ecology and Climate Change      OAG419         2.0   \n",
       "\n",
       "       Semester                                  collegename  \\\n",
       "0           1.0                Central Campus of Management    \n",
       "1           1.0                Central Campus of Management    \n",
       "2           1.0                Central Campus of Management    \n",
       "3           1.0                Central Campus of Management    \n",
       "4           1.0                Central Campus of Management    \n",
       "...         ...                                          ...   \n",
       "23057       1.0  Graduate School of Agriculture and Forestry   \n",
       "23058       1.0  Graduate School of Agriculture and Forestry   \n",
       "23059       1.0  Graduate School of Agriculture and Forestry   \n",
       "23060       1.0  Graduate School of Agriculture and Forestry   \n",
       "23061       1.0  Graduate School of Agriculture and Forestry   \n",
       "\n",
       "                      programname levelname  \n",
       "0      Master of Business Studies    Master  \n",
       "1      Master of Business Studies    Master  \n",
       "2      Master of Business Studies    Master  \n",
       "3      Master of Business Studies    Master  \n",
       "4      Master of Business Studies    Master  \n",
       "...                           ...       ...  \n",
       "23057     Bachelor of Agriculture  Bachelor  \n",
       "23058     Bachelor of Agriculture  Bachelor  \n",
       "23059     Bachelor of Agriculture  Bachelor  \n",
       "23060     Bachelor of Agriculture  Bachelor  \n",
       "23061     Bachelor of Agriculture  Bachelor  \n",
       "\n",
       "[23062 rows x 7 columns]"
      ]
     },
     "execution_count": 104,
     "metadata": {},
     "output_type": "execute_result"
    }
   ],
   "source": [
    "df = pd.read_csv('couse.csv')\n",
    "df"
   ]
  },
  {
   "cell_type": "markdown",
   "id": "48a2545a-18e1-4df9-bd2b-358332c22e57",
   "metadata": {},
   "source": [
    "    Analyzing data frame\n",
    "    \n",
    "    Viewing data\n",
    "    \n",
    "    One of the most used method for getting a quick overview of the DataFrame, is the head() method.\n",
    "    The head() method returns the headers and a specified number of rows, starting from the top.\n",
    "    \n",
    "    import pandas as pd\n",
    "    df = pd.read_csv('data.csv')\n",
    "    print(df.head(10))\n",
    "   \n",
    "    There is also a tail() method for viewing the last row of the DataFrame.\n",
    "    The tail() method returns the headers and a specified number of rows, starting from the bottom.\n",
    "    \n",
    "    info About the Data\n",
    "    \n",
    "    The DataFrames object has a method called info(), that gives you more information about the data set. \n",
    "    print(df.info())\n",
    "    \n",
    "    Describe Method\n",
    "    \n",
    "    The describe() method returns description of the data in the DataFrame. If the DataFrame contains numerical data, the description contains these information for each column.\n",
    "    count - The number of not-empty values.\n",
    "    mean - The average (mean) value.\n",
    "    std - The standard deviation\n",
    "    min - The minimum value.\n",
    "    25% - The 25% percentile*.\n",
    "    50% - The 50% percentile*.\n",
    "    75% - The 75% percentile*.\n",
    "    max - the maximum value.\n",
    "    \n",
    "    Data Correlations\n",
    "    A great aspect of the Pandas module is the corr() method.\n",
    "    The corr() method calculates the relationship between each column in your data set.\n",
    "    df.corr()"
   ]
  },
  {
   "cell_type": "code",
   "execution_count": 105,
   "id": "83201680-69a8-4f98-8d19-71cf91349b25",
   "metadata": {},
   "outputs": [],
   "source": [
    "df = pd.read_csv(\"couse.csv\")"
   ]
  },
  {
   "cell_type": "code",
   "execution_count": 106,
   "id": "b207ec7f-c497-4b32-99e8-2c1fb4362265",
   "metadata": {},
   "outputs": [
    {
     "data": {
      "text/html": [
       "<div>\n",
       "<style scoped>\n",
       "    .dataframe tbody tr th:only-of-type {\n",
       "        vertical-align: middle;\n",
       "    }\n",
       "\n",
       "    .dataframe tbody tr th {\n",
       "        vertical-align: top;\n",
       "    }\n",
       "\n",
       "    .dataframe thead th {\n",
       "        text-align: right;\n",
       "    }\n",
       "</style>\n",
       "<table border=\"1\" class=\"dataframe\">\n",
       "  <thead>\n",
       "    <tr style=\"text-align: right;\">\n",
       "      <th></th>\n",
       "      <th>subjectname</th>\n",
       "      <th>subjectcode</th>\n",
       "      <th>creditHour</th>\n",
       "      <th>Semester</th>\n",
       "      <th>collegename</th>\n",
       "      <th>programname</th>\n",
       "      <th>levelname</th>\n",
       "    </tr>\n",
       "  </thead>\n",
       "  <tbody>\n",
       "    <tr>\n",
       "      <th>0</th>\n",
       "      <td>Emerging Concepts in MGMT.</td>\n",
       "      <td>MGMT511</td>\n",
       "      <td>4.0</td>\n",
       "      <td>1.0</td>\n",
       "      <td>Central Campus of Management</td>\n",
       "      <td>Master of Business Studies</td>\n",
       "      <td>Master</td>\n",
       "    </tr>\n",
       "    <tr>\n",
       "      <th>1</th>\n",
       "      <td>Accounting for Managers</td>\n",
       "      <td>MGMT512</td>\n",
       "      <td>4.0</td>\n",
       "      <td>1.0</td>\n",
       "      <td>Central Campus of Management</td>\n",
       "      <td>Master of Business Studies</td>\n",
       "      <td>Master</td>\n",
       "    </tr>\n",
       "    <tr>\n",
       "      <th>2</th>\n",
       "      <td>Managerial Economics</td>\n",
       "      <td>MGMT513</td>\n",
       "      <td>4.0</td>\n",
       "      <td>1.0</td>\n",
       "      <td>Central Campus of Management</td>\n",
       "      <td>Master of Business Studies</td>\n",
       "      <td>Master</td>\n",
       "    </tr>\n",
       "    <tr>\n",
       "      <th>3</th>\n",
       "      <td>Human Resoure Management</td>\n",
       "      <td>MGMT514</td>\n",
       "      <td>4.0</td>\n",
       "      <td>1.0</td>\n",
       "      <td>Central Campus of Management</td>\n",
       "      <td>Master of Business Studies</td>\n",
       "      <td>Master</td>\n",
       "    </tr>\n",
       "    <tr>\n",
       "      <th>4</th>\n",
       "      <td>Statistics for Business Decisions</td>\n",
       "      <td>MGMT515</td>\n",
       "      <td>4.0</td>\n",
       "      <td>1.0</td>\n",
       "      <td>Central Campus of Management</td>\n",
       "      <td>Master of Business Studies</td>\n",
       "      <td>Master</td>\n",
       "    </tr>\n",
       "    <tr>\n",
       "      <th>...</th>\n",
       "      <td>...</td>\n",
       "      <td>...</td>\n",
       "      <td>...</td>\n",
       "      <td>...</td>\n",
       "      <td>...</td>\n",
       "      <td>...</td>\n",
       "      <td>...</td>\n",
       "    </tr>\n",
       "    <tr>\n",
       "      <th>23057</th>\n",
       "      <td>Principles of Horticulture</td>\n",
       "      <td>HRT415</td>\n",
       "      <td>3.0</td>\n",
       "      <td>1.0</td>\n",
       "      <td>Graduate School of Agriculture and Forestry</td>\n",
       "      <td>Bachelor of Agriculture</td>\n",
       "      <td>Bachelor</td>\n",
       "    </tr>\n",
       "    <tr>\n",
       "      <th>23058</th>\n",
       "      <td>Principles of Crop Production &amp; Weed Mgt</td>\n",
       "      <td>AGR416</td>\n",
       "      <td>3.0</td>\n",
       "      <td>1.0</td>\n",
       "      <td>Graduate School of Agriculture and Forestry</td>\n",
       "      <td>Bachelor of Agriculture</td>\n",
       "      <td>Bachelor</td>\n",
       "    </tr>\n",
       "    <tr>\n",
       "      <th>23059</th>\n",
       "      <td>Introduction to Soil Science</td>\n",
       "      <td>SSC417</td>\n",
       "      <td>2.0</td>\n",
       "      <td>1.0</td>\n",
       "      <td>Graduate School of Agriculture and Forestry</td>\n",
       "      <td>Bachelor of Agriculture</td>\n",
       "      <td>Bachelor</td>\n",
       "    </tr>\n",
       "    <tr>\n",
       "      <th>23060</th>\n",
       "      <td>Fundamentals of Animal Science</td>\n",
       "      <td>ANS418</td>\n",
       "      <td>3.0</td>\n",
       "      <td>1.0</td>\n",
       "      <td>Graduate School of Agriculture and Forestry</td>\n",
       "      <td>Bachelor of Agriculture</td>\n",
       "      <td>Bachelor</td>\n",
       "    </tr>\n",
       "    <tr>\n",
       "      <th>23061</th>\n",
       "      <td>Agro-ecology and Climate Change</td>\n",
       "      <td>OAG419</td>\n",
       "      <td>2.0</td>\n",
       "      <td>1.0</td>\n",
       "      <td>Graduate School of Agriculture and Forestry</td>\n",
       "      <td>Bachelor of Agriculture</td>\n",
       "      <td>Bachelor</td>\n",
       "    </tr>\n",
       "  </tbody>\n",
       "</table>\n",
       "<p>23062 rows × 7 columns</p>\n",
       "</div>"
      ],
      "text/plain": [
       "                                    subjectname subjectcode  creditHour  \\\n",
       "0                    Emerging Concepts in MGMT.     MGMT511         4.0   \n",
       "1                       Accounting for Managers     MGMT512         4.0   \n",
       "2                          Managerial Economics     MGMT513         4.0   \n",
       "3                      Human Resoure Management     MGMT514         4.0   \n",
       "4             Statistics for Business Decisions     MGMT515         4.0   \n",
       "...                                         ...         ...         ...   \n",
       "23057                Principles of Horticulture      HRT415         3.0   \n",
       "23058  Principles of Crop Production & Weed Mgt      AGR416         3.0   \n",
       "23059              Introduction to Soil Science      SSC417         2.0   \n",
       "23060            Fundamentals of Animal Science      ANS418         3.0   \n",
       "23061           Agro-ecology and Climate Change      OAG419         2.0   \n",
       "\n",
       "       Semester                                  collegename  \\\n",
       "0           1.0                Central Campus of Management    \n",
       "1           1.0                Central Campus of Management    \n",
       "2           1.0                Central Campus of Management    \n",
       "3           1.0                Central Campus of Management    \n",
       "4           1.0                Central Campus of Management    \n",
       "...         ...                                          ...   \n",
       "23057       1.0  Graduate School of Agriculture and Forestry   \n",
       "23058       1.0  Graduate School of Agriculture and Forestry   \n",
       "23059       1.0  Graduate School of Agriculture and Forestry   \n",
       "23060       1.0  Graduate School of Agriculture and Forestry   \n",
       "23061       1.0  Graduate School of Agriculture and Forestry   \n",
       "\n",
       "                      programname levelname  \n",
       "0      Master of Business Studies    Master  \n",
       "1      Master of Business Studies    Master  \n",
       "2      Master of Business Studies    Master  \n",
       "3      Master of Business Studies    Master  \n",
       "4      Master of Business Studies    Master  \n",
       "...                           ...       ...  \n",
       "23057     Bachelor of Agriculture  Bachelor  \n",
       "23058     Bachelor of Agriculture  Bachelor  \n",
       "23059     Bachelor of Agriculture  Bachelor  \n",
       "23060     Bachelor of Agriculture  Bachelor  \n",
       "23061     Bachelor of Agriculture  Bachelor  \n",
       "\n",
       "[23062 rows x 7 columns]"
      ]
     },
     "execution_count": 106,
     "metadata": {},
     "output_type": "execute_result"
    }
   ],
   "source": [
    "df"
   ]
  },
  {
   "cell_type": "code",
   "execution_count": 107,
   "id": "9d717c2a-1cd8-4ab6-b46d-5a63ab184cdf",
   "metadata": {},
   "outputs": [
    {
     "data": {
      "text/html": [
       "<div>\n",
       "<style scoped>\n",
       "    .dataframe tbody tr th:only-of-type {\n",
       "        vertical-align: middle;\n",
       "    }\n",
       "\n",
       "    .dataframe tbody tr th {\n",
       "        vertical-align: top;\n",
       "    }\n",
       "\n",
       "    .dataframe thead th {\n",
       "        text-align: right;\n",
       "    }\n",
       "</style>\n",
       "<table border=\"1\" class=\"dataframe\">\n",
       "  <thead>\n",
       "    <tr style=\"text-align: right;\">\n",
       "      <th></th>\n",
       "      <th>subjectname</th>\n",
       "      <th>subjectcode</th>\n",
       "      <th>creditHour</th>\n",
       "      <th>Semester</th>\n",
       "      <th>collegename</th>\n",
       "      <th>programname</th>\n",
       "      <th>levelname</th>\n",
       "    </tr>\n",
       "  </thead>\n",
       "  <tbody>\n",
       "    <tr>\n",
       "      <th>0</th>\n",
       "      <td>Emerging Concepts in MGMT.</td>\n",
       "      <td>MGMT511</td>\n",
       "      <td>4.0</td>\n",
       "      <td>1.0</td>\n",
       "      <td>Central Campus of Management</td>\n",
       "      <td>Master of Business Studies</td>\n",
       "      <td>Master</td>\n",
       "    </tr>\n",
       "    <tr>\n",
       "      <th>1</th>\n",
       "      <td>Accounting for Managers</td>\n",
       "      <td>MGMT512</td>\n",
       "      <td>4.0</td>\n",
       "      <td>1.0</td>\n",
       "      <td>Central Campus of Management</td>\n",
       "      <td>Master of Business Studies</td>\n",
       "      <td>Master</td>\n",
       "    </tr>\n",
       "    <tr>\n",
       "      <th>2</th>\n",
       "      <td>Managerial Economics</td>\n",
       "      <td>MGMT513</td>\n",
       "      <td>4.0</td>\n",
       "      <td>1.0</td>\n",
       "      <td>Central Campus of Management</td>\n",
       "      <td>Master of Business Studies</td>\n",
       "      <td>Master</td>\n",
       "    </tr>\n",
       "    <tr>\n",
       "      <th>3</th>\n",
       "      <td>Human Resoure Management</td>\n",
       "      <td>MGMT514</td>\n",
       "      <td>4.0</td>\n",
       "      <td>1.0</td>\n",
       "      <td>Central Campus of Management</td>\n",
       "      <td>Master of Business Studies</td>\n",
       "      <td>Master</td>\n",
       "    </tr>\n",
       "    <tr>\n",
       "      <th>4</th>\n",
       "      <td>Statistics for Business Decisions</td>\n",
       "      <td>MGMT515</td>\n",
       "      <td>4.0</td>\n",
       "      <td>1.0</td>\n",
       "      <td>Central Campus of Management</td>\n",
       "      <td>Master of Business Studies</td>\n",
       "      <td>Master</td>\n",
       "    </tr>\n",
       "    <tr>\n",
       "      <th>...</th>\n",
       "      <td>...</td>\n",
       "      <td>...</td>\n",
       "      <td>...</td>\n",
       "      <td>...</td>\n",
       "      <td>...</td>\n",
       "      <td>...</td>\n",
       "      <td>...</td>\n",
       "    </tr>\n",
       "    <tr>\n",
       "      <th>995</th>\n",
       "      <td>Practicum Off</td>\n",
       "      <td>NEP542</td>\n",
       "      <td>3.0</td>\n",
       "      <td>4.0</td>\n",
       "      <td>Central Campus of Education</td>\n",
       "      <td>MEd in Nepali</td>\n",
       "      <td>Master</td>\n",
       "    </tr>\n",
       "    <tr>\n",
       "      <th>996</th>\n",
       "      <td>Shodhapatra Lekhan</td>\n",
       "      <td>NEP543</td>\n",
       "      <td>12.0</td>\n",
       "      <td>4.0</td>\n",
       "      <td>Central Campus of Education</td>\n",
       "      <td>MEd in Nepali</td>\n",
       "      <td>Master</td>\n",
       "    </tr>\n",
       "    <tr>\n",
       "      <th>997</th>\n",
       "      <td>Applied Physics Education</td>\n",
       "      <td>SC333</td>\n",
       "      <td>5.0</td>\n",
       "      <td>3.0</td>\n",
       "      <td>Central Campus of Education</td>\n",
       "      <td>Bachelor of Education</td>\n",
       "      <td>Bachelor</td>\n",
       "    </tr>\n",
       "    <tr>\n",
       "      <th>998</th>\n",
       "      <td>Applied Chemistry Education</td>\n",
       "      <td>SC334</td>\n",
       "      <td>5.0</td>\n",
       "      <td>3.0</td>\n",
       "      <td>Central Campus of Education</td>\n",
       "      <td>Bachelor of Education</td>\n",
       "      <td>Bachelor</td>\n",
       "    </tr>\n",
       "    <tr>\n",
       "      <th>999</th>\n",
       "      <td>Applied Biology Education</td>\n",
       "      <td>SC335</td>\n",
       "      <td>5.0</td>\n",
       "      <td>3.0</td>\n",
       "      <td>Central Campus of Education</td>\n",
       "      <td>Bachelor of Education</td>\n",
       "      <td>Bachelor</td>\n",
       "    </tr>\n",
       "  </tbody>\n",
       "</table>\n",
       "<p>1000 rows × 7 columns</p>\n",
       "</div>"
      ],
      "text/plain": [
       "                           subjectname subjectcode  creditHour  Semester  \\\n",
       "0           Emerging Concepts in MGMT.     MGMT511         4.0       1.0   \n",
       "1              Accounting for Managers     MGMT512         4.0       1.0   \n",
       "2                 Managerial Economics     MGMT513         4.0       1.0   \n",
       "3             Human Resoure Management     MGMT514         4.0       1.0   \n",
       "4    Statistics for Business Decisions     MGMT515         4.0       1.0   \n",
       "..                                 ...         ...         ...       ...   \n",
       "995                      Practicum Off      NEP542         3.0       4.0   \n",
       "996                 Shodhapatra Lekhan      NEP543        12.0       4.0   \n",
       "997          Applied Physics Education       SC333         5.0       3.0   \n",
       "998        Applied Chemistry Education       SC334         5.0       3.0   \n",
       "999          Applied Biology Education       SC335         5.0       3.0   \n",
       "\n",
       "                       collegename                 programname levelname  \n",
       "0    Central Campus of Management   Master of Business Studies    Master  \n",
       "1    Central Campus of Management   Master of Business Studies    Master  \n",
       "2    Central Campus of Management   Master of Business Studies    Master  \n",
       "3    Central Campus of Management   Master of Business Studies    Master  \n",
       "4    Central Campus of Management   Master of Business Studies    Master  \n",
       "..                             ...                         ...       ...  \n",
       "995   Central Campus of Education                MEd in Nepali    Master  \n",
       "996   Central Campus of Education                MEd in Nepali    Master  \n",
       "997   Central Campus of Education        Bachelor of Education  Bachelor  \n",
       "998   Central Campus of Education        Bachelor of Education  Bachelor  \n",
       "999   Central Campus of Education        Bachelor of Education  Bachelor  \n",
       "\n",
       "[1000 rows x 7 columns]"
      ]
     },
     "execution_count": 107,
     "metadata": {},
     "output_type": "execute_result"
    }
   ],
   "source": [
    "df.head(1000)"
   ]
  },
  {
   "cell_type": "code",
   "execution_count": 108,
   "id": "c03f789b-edf3-4acf-bc75-7cc2ac12868d",
   "metadata": {},
   "outputs": [
    {
     "data": {
      "text/html": [
       "<div>\n",
       "<style scoped>\n",
       "    .dataframe tbody tr th:only-of-type {\n",
       "        vertical-align: middle;\n",
       "    }\n",
       "\n",
       "    .dataframe tbody tr th {\n",
       "        vertical-align: top;\n",
       "    }\n",
       "\n",
       "    .dataframe thead th {\n",
       "        text-align: right;\n",
       "    }\n",
       "</style>\n",
       "<table border=\"1\" class=\"dataframe\">\n",
       "  <thead>\n",
       "    <tr style=\"text-align: right;\">\n",
       "      <th></th>\n",
       "      <th>subjectname</th>\n",
       "      <th>subjectcode</th>\n",
       "      <th>creditHour</th>\n",
       "      <th>Semester</th>\n",
       "      <th>collegename</th>\n",
       "      <th>programname</th>\n",
       "      <th>levelname</th>\n",
       "    </tr>\n",
       "  </thead>\n",
       "  <tbody>\n",
       "    <tr>\n",
       "      <th>0</th>\n",
       "      <td>Emerging Concepts in MGMT.</td>\n",
       "      <td>MGMT511</td>\n",
       "      <td>4.0</td>\n",
       "      <td>1.0</td>\n",
       "      <td>Central Campus of Management</td>\n",
       "      <td>Master of Business Studies</td>\n",
       "      <td>Master</td>\n",
       "    </tr>\n",
       "    <tr>\n",
       "      <th>1</th>\n",
       "      <td>Accounting for Managers</td>\n",
       "      <td>MGMT512</td>\n",
       "      <td>4.0</td>\n",
       "      <td>1.0</td>\n",
       "      <td>Central Campus of Management</td>\n",
       "      <td>Master of Business Studies</td>\n",
       "      <td>Master</td>\n",
       "    </tr>\n",
       "    <tr>\n",
       "      <th>2</th>\n",
       "      <td>Managerial Economics</td>\n",
       "      <td>MGMT513</td>\n",
       "      <td>4.0</td>\n",
       "      <td>1.0</td>\n",
       "      <td>Central Campus of Management</td>\n",
       "      <td>Master of Business Studies</td>\n",
       "      <td>Master</td>\n",
       "    </tr>\n",
       "    <tr>\n",
       "      <th>3</th>\n",
       "      <td>Human Resoure Management</td>\n",
       "      <td>MGMT514</td>\n",
       "      <td>4.0</td>\n",
       "      <td>1.0</td>\n",
       "      <td>Central Campus of Management</td>\n",
       "      <td>Master of Business Studies</td>\n",
       "      <td>Master</td>\n",
       "    </tr>\n",
       "    <tr>\n",
       "      <th>4</th>\n",
       "      <td>Statistics for Business Decisions</td>\n",
       "      <td>MGMT515</td>\n",
       "      <td>4.0</td>\n",
       "      <td>1.0</td>\n",
       "      <td>Central Campus of Management</td>\n",
       "      <td>Master of Business Studies</td>\n",
       "      <td>Master</td>\n",
       "    </tr>\n",
       "  </tbody>\n",
       "</table>\n",
       "</div>"
      ],
      "text/plain": [
       "                         subjectname subjectcode  creditHour  Semester  \\\n",
       "0         Emerging Concepts in MGMT.     MGMT511         4.0       1.0   \n",
       "1            Accounting for Managers     MGMT512         4.0       1.0   \n",
       "2               Managerial Economics     MGMT513         4.0       1.0   \n",
       "3           Human Resoure Management     MGMT514         4.0       1.0   \n",
       "4  Statistics for Business Decisions     MGMT515         4.0       1.0   \n",
       "\n",
       "                     collegename                 programname levelname  \n",
       "0  Central Campus of Management   Master of Business Studies    Master  \n",
       "1  Central Campus of Management   Master of Business Studies    Master  \n",
       "2  Central Campus of Management   Master of Business Studies    Master  \n",
       "3  Central Campus of Management   Master of Business Studies    Master  \n",
       "4  Central Campus of Management   Master of Business Studies    Master  "
      ]
     },
     "execution_count": 108,
     "metadata": {},
     "output_type": "execute_result"
    }
   ],
   "source": [
    "df.head()"
   ]
  },
  {
   "cell_type": "code",
   "execution_count": 109,
   "id": "65020c46-168a-48ef-83d1-f9c8a52cba87",
   "metadata": {},
   "outputs": [
    {
     "data": {
      "text/html": [
       "<div>\n",
       "<style scoped>\n",
       "    .dataframe tbody tr th:only-of-type {\n",
       "        vertical-align: middle;\n",
       "    }\n",
       "\n",
       "    .dataframe tbody tr th {\n",
       "        vertical-align: top;\n",
       "    }\n",
       "\n",
       "    .dataframe thead th {\n",
       "        text-align: right;\n",
       "    }\n",
       "</style>\n",
       "<table border=\"1\" class=\"dataframe\">\n",
       "  <thead>\n",
       "    <tr style=\"text-align: right;\">\n",
       "      <th></th>\n",
       "      <th>subjectname</th>\n",
       "      <th>subjectcode</th>\n",
       "      <th>creditHour</th>\n",
       "      <th>Semester</th>\n",
       "      <th>collegename</th>\n",
       "      <th>programname</th>\n",
       "      <th>levelname</th>\n",
       "    </tr>\n",
       "  </thead>\n",
       "  <tbody>\n",
       "    <tr>\n",
       "      <th>23057</th>\n",
       "      <td>Principles of Horticulture</td>\n",
       "      <td>HRT415</td>\n",
       "      <td>3.0</td>\n",
       "      <td>1.0</td>\n",
       "      <td>Graduate School of Agriculture and Forestry</td>\n",
       "      <td>Bachelor of Agriculture</td>\n",
       "      <td>Bachelor</td>\n",
       "    </tr>\n",
       "    <tr>\n",
       "      <th>23058</th>\n",
       "      <td>Principles of Crop Production &amp; Weed Mgt</td>\n",
       "      <td>AGR416</td>\n",
       "      <td>3.0</td>\n",
       "      <td>1.0</td>\n",
       "      <td>Graduate School of Agriculture and Forestry</td>\n",
       "      <td>Bachelor of Agriculture</td>\n",
       "      <td>Bachelor</td>\n",
       "    </tr>\n",
       "    <tr>\n",
       "      <th>23059</th>\n",
       "      <td>Introduction to Soil Science</td>\n",
       "      <td>SSC417</td>\n",
       "      <td>2.0</td>\n",
       "      <td>1.0</td>\n",
       "      <td>Graduate School of Agriculture and Forestry</td>\n",
       "      <td>Bachelor of Agriculture</td>\n",
       "      <td>Bachelor</td>\n",
       "    </tr>\n",
       "    <tr>\n",
       "      <th>23060</th>\n",
       "      <td>Fundamentals of Animal Science</td>\n",
       "      <td>ANS418</td>\n",
       "      <td>3.0</td>\n",
       "      <td>1.0</td>\n",
       "      <td>Graduate School of Agriculture and Forestry</td>\n",
       "      <td>Bachelor of Agriculture</td>\n",
       "      <td>Bachelor</td>\n",
       "    </tr>\n",
       "    <tr>\n",
       "      <th>23061</th>\n",
       "      <td>Agro-ecology and Climate Change</td>\n",
       "      <td>OAG419</td>\n",
       "      <td>2.0</td>\n",
       "      <td>1.0</td>\n",
       "      <td>Graduate School of Agriculture and Forestry</td>\n",
       "      <td>Bachelor of Agriculture</td>\n",
       "      <td>Bachelor</td>\n",
       "    </tr>\n",
       "  </tbody>\n",
       "</table>\n",
       "</div>"
      ],
      "text/plain": [
       "                                    subjectname subjectcode  creditHour  \\\n",
       "23057                Principles of Horticulture      HRT415         3.0   \n",
       "23058  Principles of Crop Production & Weed Mgt      AGR416         3.0   \n",
       "23059              Introduction to Soil Science      SSC417         2.0   \n",
       "23060            Fundamentals of Animal Science      ANS418         3.0   \n",
       "23061           Agro-ecology and Climate Change      OAG419         2.0   \n",
       "\n",
       "       Semester                                  collegename  \\\n",
       "23057       1.0  Graduate School of Agriculture and Forestry   \n",
       "23058       1.0  Graduate School of Agriculture and Forestry   \n",
       "23059       1.0  Graduate School of Agriculture and Forestry   \n",
       "23060       1.0  Graduate School of Agriculture and Forestry   \n",
       "23061       1.0  Graduate School of Agriculture and Forestry   \n",
       "\n",
       "                   programname levelname  \n",
       "23057  Bachelor of Agriculture  Bachelor  \n",
       "23058  Bachelor of Agriculture  Bachelor  \n",
       "23059  Bachelor of Agriculture  Bachelor  \n",
       "23060  Bachelor of Agriculture  Bachelor  \n",
       "23061  Bachelor of Agriculture  Bachelor  "
      ]
     },
     "execution_count": 109,
     "metadata": {},
     "output_type": "execute_result"
    }
   ],
   "source": [
    "df.tail()"
   ]
  },
  {
   "cell_type": "code",
   "execution_count": 110,
   "id": "70da9cea-b721-4505-b503-516b243973a2",
   "metadata": {},
   "outputs": [
    {
     "data": {
      "text/html": [
       "<div>\n",
       "<style scoped>\n",
       "    .dataframe tbody tr th:only-of-type {\n",
       "        vertical-align: middle;\n",
       "    }\n",
       "\n",
       "    .dataframe tbody tr th {\n",
       "        vertical-align: top;\n",
       "    }\n",
       "\n",
       "    .dataframe thead th {\n",
       "        text-align: right;\n",
       "    }\n",
       "</style>\n",
       "<table border=\"1\" class=\"dataframe\">\n",
       "  <thead>\n",
       "    <tr style=\"text-align: right;\">\n",
       "      <th></th>\n",
       "      <th>subjectname</th>\n",
       "      <th>subjectcode</th>\n",
       "      <th>creditHour</th>\n",
       "      <th>Semester</th>\n",
       "      <th>collegename</th>\n",
       "      <th>programname</th>\n",
       "      <th>levelname</th>\n",
       "    </tr>\n",
       "  </thead>\n",
       "  <tbody>\n",
       "    <tr>\n",
       "      <th>23052</th>\n",
       "      <td>Moral Education and Life Skill Dev.</td>\n",
       "      <td>CFC410</td>\n",
       "      <td>1.5</td>\n",
       "      <td>1.0</td>\n",
       "      <td>Graduate School of Agriculture and Forestry</td>\n",
       "      <td>Bachelor of Agriculture</td>\n",
       "      <td>Bachelor</td>\n",
       "    </tr>\n",
       "    <tr>\n",
       "      <th>23053</th>\n",
       "      <td>Basic English</td>\n",
       "      <td>CFC411</td>\n",
       "      <td>1.0</td>\n",
       "      <td>1.0</td>\n",
       "      <td>Graduate School of Agriculture and Forestry</td>\n",
       "      <td>Bachelor of Agriculture</td>\n",
       "      <td>Bachelor</td>\n",
       "    </tr>\n",
       "    <tr>\n",
       "      <th>23054</th>\n",
       "      <td>Computer Fundamentals</td>\n",
       "      <td>CFC412</td>\n",
       "      <td>1.5</td>\n",
       "      <td>1.0</td>\n",
       "      <td>Graduate School of Agriculture and Forestry</td>\n",
       "      <td>Bachelor of Agriculture</td>\n",
       "      <td>Bachelor</td>\n",
       "    </tr>\n",
       "    <tr>\n",
       "      <th>23055</th>\n",
       "      <td>Principles of Economics</td>\n",
       "      <td>ECO413</td>\n",
       "      <td>2.0</td>\n",
       "      <td>1.0</td>\n",
       "      <td>Graduate School of Agriculture and Forestry</td>\n",
       "      <td>Bachelor of Agriculture</td>\n",
       "      <td>Bachelor</td>\n",
       "    </tr>\n",
       "    <tr>\n",
       "      <th>23056</th>\n",
       "      <td>Rural Sociology</td>\n",
       "      <td>EXT414</td>\n",
       "      <td>2.0</td>\n",
       "      <td>1.0</td>\n",
       "      <td>Graduate School of Agriculture and Forestry</td>\n",
       "      <td>Bachelor of Agriculture</td>\n",
       "      <td>Bachelor</td>\n",
       "    </tr>\n",
       "    <tr>\n",
       "      <th>23057</th>\n",
       "      <td>Principles of Horticulture</td>\n",
       "      <td>HRT415</td>\n",
       "      <td>3.0</td>\n",
       "      <td>1.0</td>\n",
       "      <td>Graduate School of Agriculture and Forestry</td>\n",
       "      <td>Bachelor of Agriculture</td>\n",
       "      <td>Bachelor</td>\n",
       "    </tr>\n",
       "    <tr>\n",
       "      <th>23058</th>\n",
       "      <td>Principles of Crop Production &amp; Weed Mgt</td>\n",
       "      <td>AGR416</td>\n",
       "      <td>3.0</td>\n",
       "      <td>1.0</td>\n",
       "      <td>Graduate School of Agriculture and Forestry</td>\n",
       "      <td>Bachelor of Agriculture</td>\n",
       "      <td>Bachelor</td>\n",
       "    </tr>\n",
       "    <tr>\n",
       "      <th>23059</th>\n",
       "      <td>Introduction to Soil Science</td>\n",
       "      <td>SSC417</td>\n",
       "      <td>2.0</td>\n",
       "      <td>1.0</td>\n",
       "      <td>Graduate School of Agriculture and Forestry</td>\n",
       "      <td>Bachelor of Agriculture</td>\n",
       "      <td>Bachelor</td>\n",
       "    </tr>\n",
       "    <tr>\n",
       "      <th>23060</th>\n",
       "      <td>Fundamentals of Animal Science</td>\n",
       "      <td>ANS418</td>\n",
       "      <td>3.0</td>\n",
       "      <td>1.0</td>\n",
       "      <td>Graduate School of Agriculture and Forestry</td>\n",
       "      <td>Bachelor of Agriculture</td>\n",
       "      <td>Bachelor</td>\n",
       "    </tr>\n",
       "    <tr>\n",
       "      <th>23061</th>\n",
       "      <td>Agro-ecology and Climate Change</td>\n",
       "      <td>OAG419</td>\n",
       "      <td>2.0</td>\n",
       "      <td>1.0</td>\n",
       "      <td>Graduate School of Agriculture and Forestry</td>\n",
       "      <td>Bachelor of Agriculture</td>\n",
       "      <td>Bachelor</td>\n",
       "    </tr>\n",
       "  </tbody>\n",
       "</table>\n",
       "</div>"
      ],
      "text/plain": [
       "                                    subjectname subjectcode  creditHour  \\\n",
       "23052       Moral Education and Life Skill Dev.      CFC410         1.5   \n",
       "23053                             Basic English      CFC411         1.0   \n",
       "23054                     Computer Fundamentals      CFC412         1.5   \n",
       "23055                   Principles of Economics      ECO413         2.0   \n",
       "23056                           Rural Sociology      EXT414         2.0   \n",
       "23057                Principles of Horticulture      HRT415         3.0   \n",
       "23058  Principles of Crop Production & Weed Mgt      AGR416         3.0   \n",
       "23059              Introduction to Soil Science      SSC417         2.0   \n",
       "23060            Fundamentals of Animal Science      ANS418         3.0   \n",
       "23061           Agro-ecology and Climate Change      OAG419         2.0   \n",
       "\n",
       "       Semester                                  collegename  \\\n",
       "23052       1.0  Graduate School of Agriculture and Forestry   \n",
       "23053       1.0  Graduate School of Agriculture and Forestry   \n",
       "23054       1.0  Graduate School of Agriculture and Forestry   \n",
       "23055       1.0  Graduate School of Agriculture and Forestry   \n",
       "23056       1.0  Graduate School of Agriculture and Forestry   \n",
       "23057       1.0  Graduate School of Agriculture and Forestry   \n",
       "23058       1.0  Graduate School of Agriculture and Forestry   \n",
       "23059       1.0  Graduate School of Agriculture and Forestry   \n",
       "23060       1.0  Graduate School of Agriculture and Forestry   \n",
       "23061       1.0  Graduate School of Agriculture and Forestry   \n",
       "\n",
       "                   programname levelname  \n",
       "23052  Bachelor of Agriculture  Bachelor  \n",
       "23053  Bachelor of Agriculture  Bachelor  \n",
       "23054  Bachelor of Agriculture  Bachelor  \n",
       "23055  Bachelor of Agriculture  Bachelor  \n",
       "23056  Bachelor of Agriculture  Bachelor  \n",
       "23057  Bachelor of Agriculture  Bachelor  \n",
       "23058  Bachelor of Agriculture  Bachelor  \n",
       "23059  Bachelor of Agriculture  Bachelor  \n",
       "23060  Bachelor of Agriculture  Bachelor  \n",
       "23061  Bachelor of Agriculture  Bachelor  "
      ]
     },
     "execution_count": 110,
     "metadata": {},
     "output_type": "execute_result"
    }
   ],
   "source": [
    "df.tail(10)"
   ]
  },
  {
   "cell_type": "code",
   "execution_count": 111,
   "id": "a628702f-d95c-4e48-a7df-988c0173388f",
   "metadata": {},
   "outputs": [
    {
     "name": "stdout",
     "output_type": "stream",
     "text": [
      "<class 'pandas.core.frame.DataFrame'>\n",
      "RangeIndex: 23062 entries, 0 to 23061\n",
      "Data columns (total 7 columns):\n",
      " #   Column       Non-Null Count  Dtype  \n",
      "---  ------       --------------  -----  \n",
      " 0   subjectname  23046 non-null  object \n",
      " 1   subjectcode  23046 non-null  object \n",
      " 2   creditHour   23046 non-null  float64\n",
      " 3   Semester     23042 non-null  float64\n",
      " 4   collegename  23046 non-null  object \n",
      " 5   programname  23046 non-null  object \n",
      " 6   levelname    23046 non-null  object \n",
      "dtypes: float64(2), object(5)\n",
      "memory usage: 1.2+ MB\n"
     ]
    }
   ],
   "source": [
    "df.info()"
   ]
  },
  {
   "cell_type": "code",
   "execution_count": 112,
   "id": "e4e18a93-663d-42db-bfc1-d3ab0a7d25b8",
   "metadata": {},
   "outputs": [
    {
     "data": {
      "text/html": [
       "<div>\n",
       "<style scoped>\n",
       "    .dataframe tbody tr th:only-of-type {\n",
       "        vertical-align: middle;\n",
       "    }\n",
       "\n",
       "    .dataframe tbody tr th {\n",
       "        vertical-align: top;\n",
       "    }\n",
       "\n",
       "    .dataframe thead th {\n",
       "        text-align: right;\n",
       "    }\n",
       "</style>\n",
       "<table border=\"1\" class=\"dataframe\">\n",
       "  <thead>\n",
       "    <tr style=\"text-align: right;\">\n",
       "      <th></th>\n",
       "      <th>creditHour</th>\n",
       "      <th>Semester</th>\n",
       "    </tr>\n",
       "  </thead>\n",
       "  <tbody>\n",
       "    <tr>\n",
       "      <th>count</th>\n",
       "      <td>23046.000000</td>\n",
       "      <td>23042.000000</td>\n",
       "    </tr>\n",
       "    <tr>\n",
       "      <th>mean</th>\n",
       "      <td>3.352078</td>\n",
       "      <td>3.980384</td>\n",
       "    </tr>\n",
       "    <tr>\n",
       "      <th>std</th>\n",
       "      <td>2.219064</td>\n",
       "      <td>2.188753</td>\n",
       "    </tr>\n",
       "    <tr>\n",
       "      <th>min</th>\n",
       "      <td>1.000000</td>\n",
       "      <td>1.000000</td>\n",
       "    </tr>\n",
       "    <tr>\n",
       "      <th>25%</th>\n",
       "      <td>3.000000</td>\n",
       "      <td>2.000000</td>\n",
       "    </tr>\n",
       "    <tr>\n",
       "      <th>50%</th>\n",
       "      <td>3.000000</td>\n",
       "      <td>4.000000</td>\n",
       "    </tr>\n",
       "    <tr>\n",
       "      <th>75%</th>\n",
       "      <td>3.000000</td>\n",
       "      <td>6.000000</td>\n",
       "    </tr>\n",
       "    <tr>\n",
       "      <th>max</th>\n",
       "      <td>60.000000</td>\n",
       "      <td>8.000000</td>\n",
       "    </tr>\n",
       "  </tbody>\n",
       "</table>\n",
       "</div>"
      ],
      "text/plain": [
       "         creditHour      Semester\n",
       "count  23046.000000  23042.000000\n",
       "mean       3.352078      3.980384\n",
       "std        2.219064      2.188753\n",
       "min        1.000000      1.000000\n",
       "25%        3.000000      2.000000\n",
       "50%        3.000000      4.000000\n",
       "75%        3.000000      6.000000\n",
       "max       60.000000      8.000000"
      ]
     },
     "execution_count": 112,
     "metadata": {},
     "output_type": "execute_result"
    }
   ],
   "source": [
    "df.describe()"
   ]
  },
  {
   "cell_type": "markdown",
   "id": "c3ee822e-b4a8-4fe9-8360-be5ae3a91f43",
   "metadata": {},
   "source": [
    "### Matplotlib\n",
    "    "
   ]
  },
  {
   "cell_type": "code",
   "execution_count": 114,
   "id": "9b34da3d-5fc8-4eb0-a3d2-2a3c8cd80499",
   "metadata": {},
   "outputs": [],
   "source": [
    "import matplotlib.pyplot as plt"
   ]
  },
  {
   "cell_type": "code",
   "execution_count": 115,
   "id": "a1313c12-59b4-4906-81a7-d3e1f361f560",
   "metadata": {},
   "outputs": [],
   "source": [
    "import numpy as np"
   ]
  },
  {
   "cell_type": "code",
   "execution_count": 116,
   "id": "0930d95c-9a4b-4d33-aa42-6bf9e50c6f81",
   "metadata": {},
   "outputs": [],
   "source": [
    "x = np.array([0, 6])\n",
    "y = np.array([0, 80])"
   ]
  },
  {
   "cell_type": "code",
   "execution_count": 118,
   "id": "fdd22cc5-63fa-4758-845f-f69f7d155725",
   "metadata": {},
   "outputs": [
    {
     "data": {
      "image/png": "[encoded data removed]",
      "text/plain": [
       "<Figure size 432x288 with 1 Axes>"
      ]
     },
     "metadata": {
      "needs_background": "light"
     },
     "output_type": "display_data"
    }
   ],
   "source": [
    "plt.plot(x,y)\n",
    "plt.show()"
   ]
  },
  {
   "cell_type": "markdown",
   "id": "e06d3985-6028-4729-9b27-aa8c10ccbd6e",
   "metadata": {},
   "source": [
    "### Line Chart"
   ]
  },
  {
   "cell_type": "code",
   "execution_count": 120,
   "id": "e3a44f8c-9643-44c0-8541-c7eea5f449ad",
   "metadata": {},
   "outputs": [],
   "source": [
    "import matplotlib.pyplot as plt\n",
    "import numpy as np"
   ]
  },
  {
   "cell_type": "code",
   "execution_count": 121,
   "id": "461ba964-f8d5-4a87-ab69-a06261a7174a",
   "metadata": {},
   "outputs": [],
   "source": [
    "points = np.array([4,7,2,10,13])"
   ]
  },
  {
   "cell_type": "code",
   "execution_count": 124,
   "id": "c7250d83-79bb-4fc7-908d-2f54419099d4",
   "metadata": {},
   "outputs": [
    {
     "data": {
      "image/png": "[encoded data removed]",
      "text/plain": [
       "<Figure size 432x288 with 1 Axes>"
      ]
     },
     "metadata": {
      "needs_background": "light"
     },
     "output_type": "display_data"
    }
   ],
   "source": [
    "plt.plot(points)\n",
    "plt.show()"
   ]
  },
  {
   "cell_type": "code",
   "execution_count": 127,
   "id": "5566285f-a588-4e8f-ae6f-3fb6fa03ffb6",
   "metadata": {},
   "outputs": [
    {
     "data": {
      "image/png": "[encoded data removed]",
      "text/plain": [
       "<Figure size 432x288 with 1 Axes>"
      ]
     },
     "metadata": {
      "needs_background": "light"
     },
     "output_type": "display_data"
    }
   ],
   "source": [
    "a2 = np.array([1,2,3,4,5,6])\n",
    "plt.plot(a2, linestyle = 'dotted')\n",
    "plt.show()"
   ]
  },
  {
   "cell_type": "code",
   "execution_count": 128,
   "id": "5f4c88c1-ce86-4aea-91b2-21055c20f4ce",
   "metadata": {},
   "outputs": [
    {
     "data": {
      "image/png": "[encoded data removed]",
      "text/plain": [
       "<Figure size 432x288 with 1 Axes>"
      ]
     },
     "metadata": {
      "needs_background": "light"
     },
     "output_type": "display_data"
    }
   ],
   "source": [
    "plt.plot(a2, linestyle='dashed')\n",
    "plt.show()"
   ]
  },
  {
   "cell_type": "markdown",
   "id": "e7883fc0-9dc3-4646-b848-9dea134b6d91",
   "metadata": {},
   "source": [
    "### Bar Chart"
   ]
  },
  {
   "cell_type": "code",
   "execution_count": 132,
   "id": "2af92f40-adba-468d-badd-76be665c0408",
   "metadata": {},
   "outputs": [],
   "source": [
    "x = np.array([\"X\", \"Y\", \"Z\", \"W\"])\n",
    "y = np.array([25, 30, 27, 22])"
   ]
  },
  {
   "cell_type": "code",
   "execution_count": 133,
   "id": "bb9867ab-8ead-4083-8ced-2373e0708b74",
   "metadata": {},
   "outputs": [
    {
     "data": {
      "image/png": "[encoded data removed]",
      "text/plain": [
       "<Figure size 432x288 with 1 Axes>"
      ]
     },
     "metadata": {
      "needs_background": "light"
     },
     "output_type": "display_data"
    }
   ],
   "source": [
    "plt.bar(x, y)\n",
    "plt.show()"
   ]
  },
  {
   "cell_type": "markdown",
   "id": "e7f63ad4-a139-4b23-9080-bb9ea3152995",
   "metadata": {},
   "source": [
    "### Scatter Plot"
   ]
  },
  {
   "cell_type": "code",
   "execution_count": 136,
   "id": "d0dadb1f-7c0f-42a2-9d0c-f5539c123916",
   "metadata": {},
   "outputs": [],
   "source": [
    "x1 = np.array([20,15,11,7,8,10])\n",
    "y1 = np.array([2,7,15,8,10,12])"
   ]
  },
  {
   "cell_type": "code",
   "execution_count": 137,
   "id": "7c7813ca-7adb-4346-ab73-12d8972bdf48",
   "metadata": {},
   "outputs": [
    {
     "data": {
      "image/png": "[encoded data removed]",
      "text/plain": [
       "<Figure size 432x288 with 1 Axes>"
      ]
     },
     "metadata": {
      "needs_background": "light"
     },
     "output_type": "display_data"
    }
   ],
   "source": [
    "plt.scatter(x1,y1)\n",
    "plt.show()"
   ]
  },
  {
   "cell_type": "markdown",
   "id": "1f2d400c-568e-4a78-ae7e-ccf35240e9b5",
   "metadata": {},
   "source": [
    "### Pie Chart"
   ]
  },
  {
   "cell_type": "code",
   "execution_count": 138,
   "id": "7d9b1129-04d8-4088-a230-aba501b36337",
   "metadata": {},
   "outputs": [
    {
     "data": {
      "image/png": "[encoded data removed]",
      "text/plain": [
       "<Figure size 432x288 with 1 Axes>"
      ]
     },
     "metadata": {},
     "output_type": "display_data"
    }
   ],
   "source": [
    "p = np.array([30,20,25,20])\n",
    "plt.pie(p)\n",
    "plt.show()"
   ]
  },
  {
   "cell_type": "markdown",
   "id": "cfb6be23-bf00-4008-9dc0-cf93a2812ba0",
   "metadata": {},
   "source": [
    "### Histogram"
   ]
  },
  {
   "cell_type": "code",
   "execution_count": 140,
   "id": "b03261c7-a7ce-4b6d-a025-b655cd791338",
   "metadata": {},
   "outputs": [
    {
     "data": {
      "image/png": "[encoded data removed]",
      "text/plain": [
       "<Figure size 432x288 with 1 Axes>"
      ]
     },
     "metadata": {
      "needs_background": "light"
     },
     "output_type": "display_data"
    }
   ],
   "source": [
    "h1 = np.random.normal(17,10,250)\n",
    "plt.hist(h1)\n",
    "plt.show()"
   ]
  },
  {
   "cell_type": "markdown",
   "id": "652b51b5-32b1-4a3f-9e2c-e9556f454fc0",
   "metadata": {},
   "source": [
    "### Seaborm"
   ]
  },
  {
   "cell_type": "code",
   "execution_count": 143,
   "id": "0e84e8f1-9299-4199-a4db-4b3c0babda0f",
   "metadata": {},
   "outputs": [],
   "source": [
    "import seaborn as sns"
   ]
  },
  {
   "cell_type": "code",
   "execution_count": 144,
   "id": "d0bd3e77-43d4-41a3-9aa0-70355f7546ba",
   "metadata": {},
   "outputs": [],
   "source": [
    "import matplotlib as pyplot"
   ]
  },
  {
   "cell_type": "code",
   "execution_count": 145,
   "id": "1982fafc-e182-4aac-830e-6c3f10098d83",
   "metadata": {},
   "outputs": [],
   "source": [
    "### Boxplot\n",
    "## Distplot\n",
    "## regplot"
   ]
  },
  {
   "cell_type": "code",
   "execution_count": 146,
   "id": "f63efb29-96ac-4f91-bcc4-947129bb3f18",
   "metadata": {},
   "outputs": [],
   "source": [
    "# Boxplot"
   ]
  },
  {
   "cell_type": "code",
   "execution_count": 147,
   "id": "4c79f597-cf82-4cb7-9907-3b0054664cc3",
   "metadata": {},
   "outputs": [],
   "source": [
    "import pandas as pd"
   ]
  },
  {
   "cell_type": "code",
   "execution_count": 148,
   "id": "ef159396-4e0d-4aea-858c-670bd7be67dd",
   "metadata": {},
   "outputs": [],
   "source": [
    "df = sns.load_dataset(\"tips\")"
   ]
  },
  {
   "cell_type": "code",
   "execution_count": 149,
   "id": "4a17c028-63d8-4d05-adb3-44f1ae8eb348",
   "metadata": {},
   "outputs": [
    {
     "data": {
      "text/html": [
       "<div>\n",
       "<style scoped>\n",
       "    .dataframe tbody tr th:only-of-type {\n",
       "        vertical-align: middle;\n",
       "    }\n",
       "\n",
       "    .dataframe tbody tr th {\n",
       "        vertical-align: top;\n",
       "    }\n",
       "\n",
       "    .dataframe thead th {\n",
       "        text-align: right;\n",
       "    }\n",
       "</style>\n",
       "<table border=\"1\" class=\"dataframe\">\n",
       "  <thead>\n",
       "    <tr style=\"text-align: right;\">\n",
       "      <th></th>\n",
       "      <th>total_bill</th>\n",
       "      <th>tip</th>\n",
       "      <th>sex</th>\n",
       "      <th>smoker</th>\n",
       "      <th>day</th>\n",
       "      <th>time</th>\n",
       "      <th>size</th>\n",
       "    </tr>\n",
       "  </thead>\n",
       "  <tbody>\n",
       "    <tr>\n",
       "      <th>0</th>\n",
       "      <td>16.99</td>\n",
       "      <td>1.01</td>\n",
       "      <td>Female</td>\n",
       "      <td>No</td>\n",
       "      <td>Sun</td>\n",
       "      <td>Dinner</td>\n",
       "      <td>2</td>\n",
       "    </tr>\n",
       "    <tr>\n",
       "      <th>1</th>\n",
       "      <td>10.34</td>\n",
       "      <td>1.66</td>\n",
       "      <td>Male</td>\n",
       "      <td>No</td>\n",
       "      <td>Sun</td>\n",
       "      <td>Dinner</td>\n",
       "      <td>3</td>\n",
       "    </tr>\n",
       "    <tr>\n",
       "      <th>2</th>\n",
       "      <td>21.01</td>\n",
       "      <td>3.50</td>\n",
       "      <td>Male</td>\n",
       "      <td>No</td>\n",
       "      <td>Sun</td>\n",
       "      <td>Dinner</td>\n",
       "      <td>3</td>\n",
       "    </tr>\n",
       "    <tr>\n",
       "      <th>3</th>\n",
       "      <td>23.68</td>\n",
       "      <td>3.31</td>\n",
       "      <td>Male</td>\n",
       "      <td>No</td>\n",
       "      <td>Sun</td>\n",
       "      <td>Dinner</td>\n",
       "      <td>2</td>\n",
       "    </tr>\n",
       "    <tr>\n",
       "      <th>4</th>\n",
       "      <td>24.59</td>\n",
       "      <td>3.61</td>\n",
       "      <td>Female</td>\n",
       "      <td>No</td>\n",
       "      <td>Sun</td>\n",
       "      <td>Dinner</td>\n",
       "      <td>4</td>\n",
       "    </tr>\n",
       "    <tr>\n",
       "      <th>...</th>\n",
       "      <td>...</td>\n",
       "      <td>...</td>\n",
       "      <td>...</td>\n",
       "      <td>...</td>\n",
       "      <td>...</td>\n",
       "      <td>...</td>\n",
       "      <td>...</td>\n",
       "    </tr>\n",
       "    <tr>\n",
       "      <th>239</th>\n",
       "      <td>29.03</td>\n",
       "      <td>5.92</td>\n",
       "      <td>Male</td>\n",
       "      <td>No</td>\n",
       "      <td>Sat</td>\n",
       "      <td>Dinner</td>\n",
       "      <td>3</td>\n",
       "    </tr>\n",
       "    <tr>\n",
       "      <th>240</th>\n",
       "      <td>27.18</td>\n",
       "      <td>2.00</td>\n",
       "      <td>Female</td>\n",
       "      <td>Yes</td>\n",
       "      <td>Sat</td>\n",
       "      <td>Dinner</td>\n",
       "      <td>2</td>\n",
       "    </tr>\n",
       "    <tr>\n",
       "      <th>241</th>\n",
       "      <td>22.67</td>\n",
       "      <td>2.00</td>\n",
       "      <td>Male</td>\n",
       "      <td>Yes</td>\n",
       "      <td>Sat</td>\n",
       "      <td>Dinner</td>\n",
       "      <td>2</td>\n",
       "    </tr>\n",
       "    <tr>\n",
       "      <th>242</th>\n",
       "      <td>17.82</td>\n",
       "      <td>1.75</td>\n",
       "      <td>Male</td>\n",
       "      <td>No</td>\n",
       "      <td>Sat</td>\n",
       "      <td>Dinner</td>\n",
       "      <td>2</td>\n",
       "    </tr>\n",
       "    <tr>\n",
       "      <th>243</th>\n",
       "      <td>18.78</td>\n",
       "      <td>3.00</td>\n",
       "      <td>Female</td>\n",
       "      <td>No</td>\n",
       "      <td>Thur</td>\n",
       "      <td>Dinner</td>\n",
       "      <td>2</td>\n",
       "    </tr>\n",
       "  </tbody>\n",
       "</table>\n",
       "<p>244 rows × 7 columns</p>\n",
       "</div>"
      ],
      "text/plain": [
       "     total_bill   tip     sex smoker   day    time  size\n",
       "0         16.99  1.01  Female     No   Sun  Dinner     2\n",
       "1         10.34  1.66    Male     No   Sun  Dinner     3\n",
       "2         21.01  3.50    Male     No   Sun  Dinner     3\n",
       "3         23.68  3.31    Male     No   Sun  Dinner     2\n",
       "4         24.59  3.61  Female     No   Sun  Dinner     4\n",
       "..          ...   ...     ...    ...   ...     ...   ...\n",
       "239       29.03  5.92    Male     No   Sat  Dinner     3\n",
       "240       27.18  2.00  Female    Yes   Sat  Dinner     2\n",
       "241       22.67  2.00    Male    Yes   Sat  Dinner     2\n",
       "242       17.82  1.75    Male     No   Sat  Dinner     2\n",
       "243       18.78  3.00  Female     No  Thur  Dinner     2\n",
       "\n",
       "[244 rows x 7 columns]"
      ]
     },
     "execution_count": 149,
     "metadata": {},
     "output_type": "execute_result"
    }
   ],
   "source": [
    "df"
   ]
  },
  {
   "cell_type": "code",
   "execution_count": 150,
   "id": "f5d9acdd-66c8-4fad-87ec-0a2c613ddced",
   "metadata": {},
   "outputs": [
    {
     "data": {
      "text/plain": [
       "<AxesSubplot:title={'center':'total_bill'}, xlabel='day'>"
      ]
     },
     "execution_count": 150,
     "metadata": {},
     "output_type": "execute_result"
    },
    {
     "data": {
      "image/png": "[encoded data removed]",
      "text/plain": [
       "<Figure size 432x288 with 1 Axes>"
      ]
     },
     "metadata": {
      "needs_background": "light"
     },
     "output_type": "display_data"
    }
   ],
   "source": [
    "df.boxplot(by = 'day', column = ['total_bill'], grid=False)"
   ]
  },
  {
   "cell_type": "code",
   "execution_count": 151,
   "id": "9ae9ca3f-8faa-44d1-afc1-428d0545a14c",
   "metadata": {},
   "outputs": [],
   "source": [
    "titanic = sns.load_dataset(\"titanic\")"
   ]
  },
  {
   "cell_type": "code",
   "execution_count": 152,
   "id": "a02b932e-9020-4b8e-9cef-7b18fdc839aa",
   "metadata": {},
   "outputs": [
    {
     "data": {
      "text/html": [
       "<div>\n",
       "<style scoped>\n",
       "    .dataframe tbody tr th:only-of-type {\n",
       "        vertical-align: middle;\n",
       "    }\n",
       "\n",
       "    .dataframe tbody tr th {\n",
       "        vertical-align: top;\n",
       "    }\n",
       "\n",
       "    .dataframe thead th {\n",
       "        text-align: right;\n",
       "    }\n",
       "</style>\n",
       "<table border=\"1\" class=\"dataframe\">\n",
       "  <thead>\n",
       "    <tr style=\"text-align: right;\">\n",
       "      <th></th>\n",
       "      <th>survived</th>\n",
       "      <th>pclass</th>\n",
       "      <th>sex</th>\n",
       "      <th>age</th>\n",
       "      <th>sibsp</th>\n",
       "      <th>parch</th>\n",
       "      <th>fare</th>\n",
       "      <th>embarked</th>\n",
       "      <th>class</th>\n",
       "      <th>who</th>\n",
       "      <th>adult_male</th>\n",
       "      <th>deck</th>\n",
       "      <th>embark_town</th>\n",
       "      <th>alive</th>\n",
       "      <th>alone</th>\n",
       "    </tr>\n",
       "  </thead>\n",
       "  <tbody>\n",
       "    <tr>\n",
       "      <th>0</th>\n",
       "      <td>0</td>\n",
       "      <td>3</td>\n",
       "      <td>male</td>\n",
       "      <td>22.0</td>\n",
       "      <td>1</td>\n",
       "      <td>0</td>\n",
       "      <td>7.2500</td>\n",
       "      <td>S</td>\n",
       "      <td>Third</td>\n",
       "      <td>man</td>\n",
       "      <td>True</td>\n",
       "      <td>NaN</td>\n",
       "      <td>Southampton</td>\n",
       "      <td>no</td>\n",
       "      <td>False</td>\n",
       "    </tr>\n",
       "    <tr>\n",
       "      <th>1</th>\n",
       "      <td>1</td>\n",
       "      <td>1</td>\n",
       "      <td>female</td>\n",
       "      <td>38.0</td>\n",
       "      <td>1</td>\n",
       "      <td>0</td>\n",
       "      <td>71.2833</td>\n",
       "      <td>C</td>\n",
       "      <td>First</td>\n",
       "      <td>woman</td>\n",
       "      <td>False</td>\n",
       "      <td>C</td>\n",
       "      <td>Cherbourg</td>\n",
       "      <td>yes</td>\n",
       "      <td>False</td>\n",
       "    </tr>\n",
       "    <tr>\n",
       "      <th>2</th>\n",
       "      <td>1</td>\n",
       "      <td>3</td>\n",
       "      <td>female</td>\n",
       "      <td>26.0</td>\n",
       "      <td>0</td>\n",
       "      <td>0</td>\n",
       "      <td>7.9250</td>\n",
       "      <td>S</td>\n",
       "      <td>Third</td>\n",
       "      <td>woman</td>\n",
       "      <td>False</td>\n",
       "      <td>NaN</td>\n",
       "      <td>Southampton</td>\n",
       "      <td>yes</td>\n",
       "      <td>True</td>\n",
       "    </tr>\n",
       "    <tr>\n",
       "      <th>3</th>\n",
       "      <td>1</td>\n",
       "      <td>1</td>\n",
       "      <td>female</td>\n",
       "      <td>35.0</td>\n",
       "      <td>1</td>\n",
       "      <td>0</td>\n",
       "      <td>53.1000</td>\n",
       "      <td>S</td>\n",
       "      <td>First</td>\n",
       "      <td>woman</td>\n",
       "      <td>False</td>\n",
       "      <td>C</td>\n",
       "      <td>Southampton</td>\n",
       "      <td>yes</td>\n",
       "      <td>False</td>\n",
       "    </tr>\n",
       "    <tr>\n",
       "      <th>4</th>\n",
       "      <td>0</td>\n",
       "      <td>3</td>\n",
       "      <td>male</td>\n",
       "      <td>35.0</td>\n",
       "      <td>0</td>\n",
       "      <td>0</td>\n",
       "      <td>8.0500</td>\n",
       "      <td>S</td>\n",
       "      <td>Third</td>\n",
       "      <td>man</td>\n",
       "      <td>True</td>\n",
       "      <td>NaN</td>\n",
       "      <td>Southampton</td>\n",
       "      <td>no</td>\n",
       "      <td>True</td>\n",
       "    </tr>\n",
       "  </tbody>\n",
       "</table>\n",
       "</div>"
      ],
      "text/plain": [
       "   survived  pclass     sex   age  sibsp  parch     fare embarked  class  \\\n",
       "0         0       3    male  22.0      1      0   7.2500        S  Third   \n",
       "1         1       1  female  38.0      1      0  71.2833        C  First   \n",
       "2         1       3  female  26.0      0      0   7.9250        S  Third   \n",
       "3         1       1  female  35.0      1      0  53.1000        S  First   \n",
       "4         0       3    male  35.0      0      0   8.0500        S  Third   \n",
       "\n",
       "     who  adult_male deck  embark_town alive  alone  \n",
       "0    man        True  NaN  Southampton    no  False  \n",
       "1  woman       False    C    Cherbourg   yes  False  \n",
       "2  woman       False  NaN  Southampton   yes   True  \n",
       "3  woman       False    C  Southampton   yes  False  \n",
       "4    man        True  NaN  Southampton    no   True  "
      ]
     },
     "execution_count": 152,
     "metadata": {},
     "output_type": "execute_result"
    }
   ],
   "source": [
    "titanic.head()"
   ]
  },
  {
   "cell_type": "code",
   "execution_count": 159,
   "id": "30169e45-4e5b-4f54-8f83-3f34f5fed806",
   "metadata": {},
   "outputs": [
    {
     "name": "stderr",
     "output_type": "stream",
     "text": [
      "/home/amrit/anaconda3/lib/python3.9/site-packages/seaborn/distributions.py:2619: FutureWarning: `distplot` is a deprecated function and will be removed in a future version. Please adapt your code to use either `displot` (a figure-level function with similar flexibility) or `histplot` (an axes-level function for histograms).\n",
      "  warnings.warn(msg, FutureWarning)\n"
     ]
    },
    {
     "data": {
      "image/png": "[encoded data removed]",
      "text/plain": [
       "<Figure size 432x288 with 1 Axes>"
      ]
     },
     "metadata": {
      "needs_background": "light"
     },
     "output_type": "display_data"
    }
   ],
   "source": [
    "age1 = titanic[\"age\"].dropna()\n",
    "sns.distplot(age1, bins=30, kde=False)\n",
    "plt.show()"
   ]
  },
  {
   "cell_type": "markdown",
   "id": "91e204c4-5646-47a2-80a4-35dad191c395",
   "metadata": {},
   "source": [
    "### Regplot"
   ]
  },
  {
   "cell_type": "code",
   "execution_count": 162,
   "id": "f3bf1051-84b8-4535-9238-d1d89ee65b88",
   "metadata": {},
   "outputs": [],
   "source": [
    "data = sns.load_dataset(\"mpg\")\n"
   ]
  },
  {
   "cell_type": "code",
   "execution_count": 163,
   "id": "39fae1d8-8226-451b-ad4c-cef226c78561",
   "metadata": {},
   "outputs": [
    {
     "data": {
      "text/html": [
       "<div>\n",
       "<style scoped>\n",
       "    .dataframe tbody tr th:only-of-type {\n",
       "        vertical-align: middle;\n",
       "    }\n",
       "\n",
       "    .dataframe tbody tr th {\n",
       "        vertical-align: top;\n",
       "    }\n",
       "\n",
       "    .dataframe thead th {\n",
       "        text-align: right;\n",
       "    }\n",
       "</style>\n",
       "<table border=\"1\" class=\"dataframe\">\n",
       "  <thead>\n",
       "    <tr style=\"text-align: right;\">\n",
       "      <th></th>\n",
       "      <th>mpg</th>\n",
       "      <th>cylinders</th>\n",
       "      <th>displacement</th>\n",
       "      <th>horsepower</th>\n",
       "      <th>weight</th>\n",
       "      <th>acceleration</th>\n",
       "      <th>model_year</th>\n",
       "      <th>origin</th>\n",
       "      <th>name</th>\n",
       "    </tr>\n",
       "  </thead>\n",
       "  <tbody>\n",
       "    <tr>\n",
       "      <th>0</th>\n",
       "      <td>18.0</td>\n",
       "      <td>8</td>\n",
       "      <td>307.0</td>\n",
       "      <td>130.0</td>\n",
       "      <td>3504</td>\n",
       "      <td>12.0</td>\n",
       "      <td>70</td>\n",
       "      <td>usa</td>\n",
       "      <td>chevrolet chevelle malibu</td>\n",
       "    </tr>\n",
       "    <tr>\n",
       "      <th>1</th>\n",
       "      <td>15.0</td>\n",
       "      <td>8</td>\n",
       "      <td>350.0</td>\n",
       "      <td>165.0</td>\n",
       "      <td>3693</td>\n",
       "      <td>11.5</td>\n",
       "      <td>70</td>\n",
       "      <td>usa</td>\n",
       "      <td>buick skylark 320</td>\n",
       "    </tr>\n",
       "    <tr>\n",
       "      <th>2</th>\n",
       "      <td>18.0</td>\n",
       "      <td>8</td>\n",
       "      <td>318.0</td>\n",
       "      <td>150.0</td>\n",
       "      <td>3436</td>\n",
       "      <td>11.0</td>\n",
       "      <td>70</td>\n",
       "      <td>usa</td>\n",
       "      <td>plymouth satellite</td>\n",
       "    </tr>\n",
       "    <tr>\n",
       "      <th>3</th>\n",
       "      <td>16.0</td>\n",
       "      <td>8</td>\n",
       "      <td>304.0</td>\n",
       "      <td>150.0</td>\n",
       "      <td>3433</td>\n",
       "      <td>12.0</td>\n",
       "      <td>70</td>\n",
       "      <td>usa</td>\n",
       "      <td>amc rebel sst</td>\n",
       "    </tr>\n",
       "    <tr>\n",
       "      <th>4</th>\n",
       "      <td>17.0</td>\n",
       "      <td>8</td>\n",
       "      <td>302.0</td>\n",
       "      <td>140.0</td>\n",
       "      <td>3449</td>\n",
       "      <td>10.5</td>\n",
       "      <td>70</td>\n",
       "      <td>usa</td>\n",
       "      <td>ford torino</td>\n",
       "    </tr>\n",
       "  </tbody>\n",
       "</table>\n",
       "</div>"
      ],
      "text/plain": [
       "    mpg  cylinders  displacement  horsepower  weight  acceleration  \\\n",
       "0  18.0          8         307.0       130.0    3504          12.0   \n",
       "1  15.0          8         350.0       165.0    3693          11.5   \n",
       "2  18.0          8         318.0       150.0    3436          11.0   \n",
       "3  16.0          8         304.0       150.0    3433          12.0   \n",
       "4  17.0          8         302.0       140.0    3449          10.5   \n",
       "\n",
       "   model_year origin                       name  \n",
       "0          70    usa  chevrolet chevelle malibu  \n",
       "1          70    usa          buick skylark 320  \n",
       "2          70    usa         plymouth satellite  \n",
       "3          70    usa              amc rebel sst  \n",
       "4          70    usa                ford torino  "
      ]
     },
     "execution_count": 163,
     "metadata": {},
     "output_type": "execute_result"
    }
   ],
   "source": [
    "data.head()"
   ]
  },
  {
   "cell_type": "code",
   "execution_count": 164,
   "id": "c49a5eac-73c1-4165-bd97-c8426d165915",
   "metadata": {},
   "outputs": [
    {
     "data": {
      "image/png": "[encoded data removed]",
      "text/plain": [
       "<Figure size 432x288 with 1 Axes>"
      ]
     },
     "metadata": {
      "needs_background": "light"
     },
     "output_type": "display_data"
    }
   ],
   "source": [
    "sns.regplot(x='mpg', y='acceleration', data=data)\n",
    "plt.show()"
   ]
  },
  {
   "cell_type": "markdown",
   "id": "57e76658-f018-41d3-b880-70f866e9515a",
   "metadata": {},
   "source": [
    "### Handling Missing Values"
   ]
  },
  {
   "cell_type": "markdown",
   "id": "865d7096-16c9-4934-a224-ea8603aadaa9",
   "metadata": {},
   "source": [
    "    What is Missing Values?\n",
    "    Missing data is defined as the values or data that is not stored (or not present) for some variable/s\n",
    "    in the given data sets \n",
    "    Below  is a sample of the missing data from the Titanic dataset. You can see the columns 'Age' and 'Cabin' have some missing values"
   ]
  },
  {
   "cell_type": "markdown",
   "id": "c04a3e96-4bb5-4ded-a8d5-8c0e9ad35c85",
   "metadata": {},
   "source": [
    "    How is missing value represented in the datasets?\n",
    "    In the dataset, blank shows the missing values.\n",
    "    In Pandas, usually, missing values are represented by NaN."
   ]
  },
  {
   "cell_type": "markdown",
   "id": "5ba26033-2510-47af-91c8-61a141730b03",
   "metadata": {},
   "source": [
    "    Why is Data Missing from the dataset\n",
    "    There can be multiple reasons why certain values are missing from the data.\n",
    "    \n",
    "    Reasons for the missing data from the dataset affect the approach of handling missing data.\n",
    "    So it's necessary to understand why the data could be missing.\n",
    "    \n",
    "    Some of the reasons are listed below:\n",
    "    - Past data might get corrupted due to improper maintenance.\n",
    "    - Observations are not recoreded for certain fields due to some reasons. There might be failure in\n",
    "    recording the values due to human error.\n",
    "    - The user has not provided the values intentionally\n",
    "    \n",
    "    Why do we need to care about handling missing value?\n",
    "    It is important to handle the missing values appropriately.\n",
    "    \n",
    "    - Many machine learning algorithms fail if the dataset contains missing values. Howerver, algoriths like K-nearest and Native Bayes support data with missing values.\n",
    "    - You may end up building a biased machine learning model which will lead to incorrect results if the missing values are not handled properly.\n",
    "    - Missing data can lead to a lack of precision in the statistical analysis."
   ]
  },
  {
   "cell_type": "markdown",
   "id": "99e6b626-57aa-419e-af0d-b9f52ea5afaf",
   "metadata": {},
   "source": [
    "    Replacing With Mean\n",
    "    \n",
    "    This is the most common method of imputing missing values of numeric columns. If there are outliers then the mean will not be appropriate. In such cases, outliers need to be treated first.\n",
    "    \n",
    "    You can use the 'fillna' method for imputing the column 'LoanAmout' and 'Credit_History' with the mean of the respective column values.\n",
    "    \n",
    "    IN:\n",
    "    # Replace the missing values for numerical columns with mean\n",
    "    \n",
    "    train_df['LoanAmout'] = train_df['LoanAmout'].fillna(train_df['LoanAmout'].mean())\n",
    "    train_df['Credit_History'] = train_df['Credit_History'].fillna(train_df['Credit_History'].mean()\n",
    "    \n",
    "    # Replacing with Mode\n",
    "    Mode is the most frequently occuring value. It is used in the case of categorical features.\n",
    "    \n",
    "    You can use the 'fillna' method for imputing the categorical columns 'Gender', 'Married', and 'Self_Employed'.\n",
    "    \n",
    "    IN:\n",
    "    # Replace the missing values for categorical columns with mode\n",
    "    train_df['Gender'] = train_df['Gender'].fillna(train_df['Gender'].mode()[0])\n",
    "    train_df['Married'] = train_df['Married'].fillna(train_df['Married'].mode()[0])\n",
    "    train_df['Self_Employed'] = train_df['Self_Employed'].fillna(train_df['Self_Employed'].mode()[0]\n",
    "    train_df.isnull.sum()"
   ]
  },
  {
   "cell_type": "markdown",
   "id": "31669ac2-f84e-4c08-9268-d169d20ac923",
   "metadata": {},
   "source": [
    "    Imputing Missing Values For Categorical Features\n",
    "    \n",
    "    There are two ways to impute missing values for categorical features as follows.\n",
    "    - Impute the Most Frequent Value\n",
    "    - We will make use of 'SimpleImputer' in this case and as this is a non-numerical column we \n",
    "    can't use mean or median but we can use most frequent value and constant.\n",
    "    - Impute the value 'missing', which treats it as a separated category\n",
    "    "
   ]
  },
  {
   "cell_type": "markdown",
   "id": "e62fb674-e7eb-4128-87c3-719681fdb6fa",
   "metadata": {},
   "source": [
    "    Practical Implementation"
   ]
  },
  {
   "cell_type": "code",
   "execution_count": 165,
   "id": "ec55663e-132e-4d7f-9687-e1e72d8d78f7",
   "metadata": {},
   "outputs": [],
   "source": [
    "df = pd.read_csv(\"Placement_Data_Full_Class.csv\")"
   ]
  },
  {
   "cell_type": "code",
   "execution_count": 167,
   "id": "9943ab46-2582-4f9c-9acf-eb81b32fbd7d",
   "metadata": {},
   "outputs": [
    {
     "data": {
      "text/html": [
       "<div>\n",
       "<style scoped>\n",
       "    .dataframe tbody tr th:only-of-type {\n",
       "        vertical-align: middle;\n",
       "    }\n",
       "\n",
       "    .dataframe tbody tr th {\n",
       "        vertical-align: top;\n",
       "    }\n",
       "\n",
       "    .dataframe thead th {\n",
       "        text-align: right;\n",
       "    }\n",
       "</style>\n",
       "<table border=\"1\" class=\"dataframe\">\n",
       "  <thead>\n",
       "    <tr style=\"text-align: right;\">\n",
       "      <th></th>\n",
       "      <th>sl_no</th>\n",
       "      <th>gender</th>\n",
       "      <th>ssc_p</th>\n",
       "      <th>ssc_b</th>\n",
       "      <th>hsc_p</th>\n",
       "      <th>hsc_b</th>\n",
       "      <th>hsc_s</th>\n",
       "      <th>degree_p</th>\n",
       "      <th>degree_t</th>\n",
       "      <th>workex</th>\n",
       "      <th>etest_p</th>\n",
       "      <th>specialisation</th>\n",
       "      <th>mba_p</th>\n",
       "      <th>status</th>\n",
       "      <th>salary</th>\n",
       "    </tr>\n",
       "  </thead>\n",
       "  <tbody>\n",
       "    <tr>\n",
       "      <th>0</th>\n",
       "      <td>1</td>\n",
       "      <td>M</td>\n",
       "      <td>67.00</td>\n",
       "      <td>Others</td>\n",
       "      <td>91.00</td>\n",
       "      <td>Others</td>\n",
       "      <td>Commerce</td>\n",
       "      <td>58.00</td>\n",
       "      <td>Sci&amp;Tech</td>\n",
       "      <td>No</td>\n",
       "      <td>55.0</td>\n",
       "      <td>Mkt&amp;HR</td>\n",
       "      <td>58.80</td>\n",
       "      <td>Placed</td>\n",
       "      <td>270000.0</td>\n",
       "    </tr>\n",
       "    <tr>\n",
       "      <th>1</th>\n",
       "      <td>2</td>\n",
       "      <td>M</td>\n",
       "      <td>79.33</td>\n",
       "      <td>Central</td>\n",
       "      <td>78.33</td>\n",
       "      <td>Others</td>\n",
       "      <td>Science</td>\n",
       "      <td>77.48</td>\n",
       "      <td>Sci&amp;Tech</td>\n",
       "      <td>Yes</td>\n",
       "      <td>86.5</td>\n",
       "      <td>Mkt&amp;Fin</td>\n",
       "      <td>66.28</td>\n",
       "      <td>Placed</td>\n",
       "      <td>200000.0</td>\n",
       "    </tr>\n",
       "    <tr>\n",
       "      <th>2</th>\n",
       "      <td>3</td>\n",
       "      <td>M</td>\n",
       "      <td>65.00</td>\n",
       "      <td>Central</td>\n",
       "      <td>68.00</td>\n",
       "      <td>Central</td>\n",
       "      <td>Arts</td>\n",
       "      <td>64.00</td>\n",
       "      <td>Comm&amp;Mgmt</td>\n",
       "      <td>No</td>\n",
       "      <td>75.0</td>\n",
       "      <td>Mkt&amp;Fin</td>\n",
       "      <td>57.80</td>\n",
       "      <td>Placed</td>\n",
       "      <td>250000.0</td>\n",
       "    </tr>\n",
       "    <tr>\n",
       "      <th>3</th>\n",
       "      <td>4</td>\n",
       "      <td>M</td>\n",
       "      <td>56.00</td>\n",
       "      <td>Central</td>\n",
       "      <td>52.00</td>\n",
       "      <td>Central</td>\n",
       "      <td>Science</td>\n",
       "      <td>52.00</td>\n",
       "      <td>Sci&amp;Tech</td>\n",
       "      <td>No</td>\n",
       "      <td>66.0</td>\n",
       "      <td>Mkt&amp;HR</td>\n",
       "      <td>59.43</td>\n",
       "      <td>Not Placed</td>\n",
       "      <td>NaN</td>\n",
       "    </tr>\n",
       "    <tr>\n",
       "      <th>4</th>\n",
       "      <td>5</td>\n",
       "      <td>M</td>\n",
       "      <td>85.80</td>\n",
       "      <td>Central</td>\n",
       "      <td>73.60</td>\n",
       "      <td>Central</td>\n",
       "      <td>Commerce</td>\n",
       "      <td>73.30</td>\n",
       "      <td>Comm&amp;Mgmt</td>\n",
       "      <td>No</td>\n",
       "      <td>96.8</td>\n",
       "      <td>Mkt&amp;Fin</td>\n",
       "      <td>55.50</td>\n",
       "      <td>Placed</td>\n",
       "      <td>425000.0</td>\n",
       "    </tr>\n",
       "  </tbody>\n",
       "</table>\n",
       "</div>"
      ],
      "text/plain": [
       "   sl_no gender  ssc_p    ssc_b  hsc_p    hsc_b     hsc_s  degree_p  \\\n",
       "0      1      M  67.00   Others  91.00   Others  Commerce     58.00   \n",
       "1      2      M  79.33  Central  78.33   Others   Science     77.48   \n",
       "2      3      M  65.00  Central  68.00  Central      Arts     64.00   \n",
       "3      4      M  56.00  Central  52.00  Central   Science     52.00   \n",
       "4      5      M  85.80  Central  73.60  Central  Commerce     73.30   \n",
       "\n",
       "    degree_t workex  etest_p specialisation  mba_p      status    salary  \n",
       "0   Sci&Tech     No     55.0         Mkt&HR  58.80      Placed  270000.0  \n",
       "1   Sci&Tech    Yes     86.5        Mkt&Fin  66.28      Placed  200000.0  \n",
       "2  Comm&Mgmt     No     75.0        Mkt&Fin  57.80      Placed  250000.0  \n",
       "3   Sci&Tech     No     66.0         Mkt&HR  59.43  Not Placed       NaN  \n",
       "4  Comm&Mgmt     No     96.8        Mkt&Fin  55.50      Placed  425000.0  "
      ]
     },
     "execution_count": 167,
     "metadata": {},
     "output_type": "execute_result"
    }
   ],
   "source": [
    "df.head()"
   ]
  },
  {
   "cell_type": "code",
   "execution_count": 169,
   "id": "d9bbb672-fb64-43f7-953e-6261b9db09da",
   "metadata": {},
   "outputs": [
    {
     "data": {
      "text/plain": [
       "sl_no              0\n",
       "gender             0\n",
       "ssc_p              0\n",
       "ssc_b              0\n",
       "hsc_p              0\n",
       "hsc_b              0\n",
       "hsc_s              0\n",
       "degree_p           0\n",
       "degree_t           0\n",
       "workex             0\n",
       "etest_p            0\n",
       "specialisation     0\n",
       "mba_p              0\n",
       "status             0\n",
       "salary            67\n",
       "dtype: int64"
      ]
     },
     "execution_count": 169,
     "metadata": {},
     "output_type": "execute_result"
    }
   ],
   "source": [
    "df.isnull().sum()"
   ]
  },
  {
   "cell_type": "code",
   "execution_count": 170,
   "id": "78bc5f09-319b-4fdc-b25f-593da40a8d94",
   "metadata": {},
   "outputs": [
    {
     "data": {
      "text/html": [
       "<div>\n",
       "<style scoped>\n",
       "    .dataframe tbody tr th:only-of-type {\n",
       "        vertical-align: middle;\n",
       "    }\n",
       "\n",
       "    .dataframe tbody tr th {\n",
       "        vertical-align: top;\n",
       "    }\n",
       "\n",
       "    .dataframe thead th {\n",
       "        text-align: right;\n",
       "    }\n",
       "</style>\n",
       "<table border=\"1\" class=\"dataframe\">\n",
       "  <thead>\n",
       "    <tr style=\"text-align: right;\">\n",
       "      <th></th>\n",
       "      <th>sl_no</th>\n",
       "      <th>gender</th>\n",
       "      <th>ssc_p</th>\n",
       "      <th>ssc_b</th>\n",
       "      <th>hsc_p</th>\n",
       "      <th>hsc_b</th>\n",
       "      <th>hsc_s</th>\n",
       "      <th>degree_p</th>\n",
       "      <th>degree_t</th>\n",
       "      <th>workex</th>\n",
       "      <th>etest_p</th>\n",
       "      <th>specialisation</th>\n",
       "      <th>mba_p</th>\n",
       "      <th>status</th>\n",
       "      <th>salary</th>\n",
       "    </tr>\n",
       "  </thead>\n",
       "  <tbody>\n",
       "    <tr>\n",
       "      <th>0</th>\n",
       "      <td>False</td>\n",
       "      <td>False</td>\n",
       "      <td>False</td>\n",
       "      <td>False</td>\n",
       "      <td>False</td>\n",
       "      <td>False</td>\n",
       "      <td>False</td>\n",
       "      <td>False</td>\n",
       "      <td>False</td>\n",
       "      <td>False</td>\n",
       "      <td>False</td>\n",
       "      <td>False</td>\n",
       "      <td>False</td>\n",
       "      <td>False</td>\n",
       "      <td>False</td>\n",
       "    </tr>\n",
       "    <tr>\n",
       "      <th>1</th>\n",
       "      <td>False</td>\n",
       "      <td>False</td>\n",
       "      <td>False</td>\n",
       "      <td>False</td>\n",
       "      <td>False</td>\n",
       "      <td>False</td>\n",
       "      <td>False</td>\n",
       "      <td>False</td>\n",
       "      <td>False</td>\n",
       "      <td>False</td>\n",
       "      <td>False</td>\n",
       "      <td>False</td>\n",
       "      <td>False</td>\n",
       "      <td>False</td>\n",
       "      <td>False</td>\n",
       "    </tr>\n",
       "    <tr>\n",
       "      <th>2</th>\n",
       "      <td>False</td>\n",
       "      <td>False</td>\n",
       "      <td>False</td>\n",
       "      <td>False</td>\n",
       "      <td>False</td>\n",
       "      <td>False</td>\n",
       "      <td>False</td>\n",
       "      <td>False</td>\n",
       "      <td>False</td>\n",
       "      <td>False</td>\n",
       "      <td>False</td>\n",
       "      <td>False</td>\n",
       "      <td>False</td>\n",
       "      <td>False</td>\n",
       "      <td>False</td>\n",
       "    </tr>\n",
       "    <tr>\n",
       "      <th>3</th>\n",
       "      <td>False</td>\n",
       "      <td>False</td>\n",
       "      <td>False</td>\n",
       "      <td>False</td>\n",
       "      <td>False</td>\n",
       "      <td>False</td>\n",
       "      <td>False</td>\n",
       "      <td>False</td>\n",
       "      <td>False</td>\n",
       "      <td>False</td>\n",
       "      <td>False</td>\n",
       "      <td>False</td>\n",
       "      <td>False</td>\n",
       "      <td>False</td>\n",
       "      <td>True</td>\n",
       "    </tr>\n",
       "    <tr>\n",
       "      <th>4</th>\n",
       "      <td>False</td>\n",
       "      <td>False</td>\n",
       "      <td>False</td>\n",
       "      <td>False</td>\n",
       "      <td>False</td>\n",
       "      <td>False</td>\n",
       "      <td>False</td>\n",
       "      <td>False</td>\n",
       "      <td>False</td>\n",
       "      <td>False</td>\n",
       "      <td>False</td>\n",
       "      <td>False</td>\n",
       "      <td>False</td>\n",
       "      <td>False</td>\n",
       "      <td>False</td>\n",
       "    </tr>\n",
       "    <tr>\n",
       "      <th>...</th>\n",
       "      <td>...</td>\n",
       "      <td>...</td>\n",
       "      <td>...</td>\n",
       "      <td>...</td>\n",
       "      <td>...</td>\n",
       "      <td>...</td>\n",
       "      <td>...</td>\n",
       "      <td>...</td>\n",
       "      <td>...</td>\n",
       "      <td>...</td>\n",
       "      <td>...</td>\n",
       "      <td>...</td>\n",
       "      <td>...</td>\n",
       "      <td>...</td>\n",
       "      <td>...</td>\n",
       "    </tr>\n",
       "    <tr>\n",
       "      <th>210</th>\n",
       "      <td>False</td>\n",
       "      <td>False</td>\n",
       "      <td>False</td>\n",
       "      <td>False</td>\n",
       "      <td>False</td>\n",
       "      <td>False</td>\n",
       "      <td>False</td>\n",
       "      <td>False</td>\n",
       "      <td>False</td>\n",
       "      <td>False</td>\n",
       "      <td>False</td>\n",
       "      <td>False</td>\n",
       "      <td>False</td>\n",
       "      <td>False</td>\n",
       "      <td>False</td>\n",
       "    </tr>\n",
       "    <tr>\n",
       "      <th>211</th>\n",
       "      <td>False</td>\n",
       "      <td>False</td>\n",
       "      <td>False</td>\n",
       "      <td>False</td>\n",
       "      <td>False</td>\n",
       "      <td>False</td>\n",
       "      <td>False</td>\n",
       "      <td>False</td>\n",
       "      <td>False</td>\n",
       "      <td>False</td>\n",
       "      <td>False</td>\n",
       "      <td>False</td>\n",
       "      <td>False</td>\n",
       "      <td>False</td>\n",
       "      <td>False</td>\n",
       "    </tr>\n",
       "    <tr>\n",
       "      <th>212</th>\n",
       "      <td>False</td>\n",
       "      <td>False</td>\n",
       "      <td>False</td>\n",
       "      <td>False</td>\n",
       "      <td>False</td>\n",
       "      <td>False</td>\n",
       "      <td>False</td>\n",
       "      <td>False</td>\n",
       "      <td>False</td>\n",
       "      <td>False</td>\n",
       "      <td>False</td>\n",
       "      <td>False</td>\n",
       "      <td>False</td>\n",
       "      <td>False</td>\n",
       "      <td>False</td>\n",
       "    </tr>\n",
       "    <tr>\n",
       "      <th>213</th>\n",
       "      <td>False</td>\n",
       "      <td>False</td>\n",
       "      <td>False</td>\n",
       "      <td>False</td>\n",
       "      <td>False</td>\n",
       "      <td>False</td>\n",
       "      <td>False</td>\n",
       "      <td>False</td>\n",
       "      <td>False</td>\n",
       "      <td>False</td>\n",
       "      <td>False</td>\n",
       "      <td>False</td>\n",
       "      <td>False</td>\n",
       "      <td>False</td>\n",
       "      <td>False</td>\n",
       "    </tr>\n",
       "    <tr>\n",
       "      <th>214</th>\n",
       "      <td>False</td>\n",
       "      <td>False</td>\n",
       "      <td>False</td>\n",
       "      <td>False</td>\n",
       "      <td>False</td>\n",
       "      <td>False</td>\n",
       "      <td>False</td>\n",
       "      <td>False</td>\n",
       "      <td>False</td>\n",
       "      <td>False</td>\n",
       "      <td>False</td>\n",
       "      <td>False</td>\n",
       "      <td>False</td>\n",
       "      <td>False</td>\n",
       "      <td>True</td>\n",
       "    </tr>\n",
       "  </tbody>\n",
       "</table>\n",
       "<p>215 rows × 15 columns</p>\n",
       "</div>"
      ],
      "text/plain": [
       "     sl_no  gender  ssc_p  ssc_b  hsc_p  hsc_b  hsc_s  degree_p  degree_t  \\\n",
       "0    False   False  False  False  False  False  False     False     False   \n",
       "1    False   False  False  False  False  False  False     False     False   \n",
       "2    False   False  False  False  False  False  False     False     False   \n",
       "3    False   False  False  False  False  False  False     False     False   \n",
       "4    False   False  False  False  False  False  False     False     False   \n",
       "..     ...     ...    ...    ...    ...    ...    ...       ...       ...   \n",
       "210  False   False  False  False  False  False  False     False     False   \n",
       "211  False   False  False  False  False  False  False     False     False   \n",
       "212  False   False  False  False  False  False  False     False     False   \n",
       "213  False   False  False  False  False  False  False     False     False   \n",
       "214  False   False  False  False  False  False  False     False     False   \n",
       "\n",
       "     workex  etest_p  specialisation  mba_p  status  salary  \n",
       "0     False    False           False  False   False   False  \n",
       "1     False    False           False  False   False   False  \n",
       "2     False    False           False  False   False   False  \n",
       "3     False    False           False  False   False    True  \n",
       "4     False    False           False  False   False   False  \n",
       "..      ...      ...             ...    ...     ...     ...  \n",
       "210   False    False           False  False   False   False  \n",
       "211   False    False           False  False   False   False  \n",
       "212   False    False           False  False   False   False  \n",
       "213   False    False           False  False   False   False  \n",
       "214   False    False           False  False   False    True  \n",
       "\n",
       "[215 rows x 15 columns]"
      ]
     },
     "execution_count": 170,
     "metadata": {},
     "output_type": "execute_result"
    }
   ],
   "source": [
    "df.isnull()"
   ]
  },
  {
   "cell_type": "code",
   "execution_count": 171,
   "id": "bd623f30-1d90-4276-8ede-271458954ad8",
   "metadata": {},
   "outputs": [
    {
     "data": {
      "text/html": [
       "<div>\n",
       "<style scoped>\n",
       "    .dataframe tbody tr th:only-of-type {\n",
       "        vertical-align: middle;\n",
       "    }\n",
       "\n",
       "    .dataframe tbody tr th {\n",
       "        vertical-align: top;\n",
       "    }\n",
       "\n",
       "    .dataframe thead th {\n",
       "        text-align: right;\n",
       "    }\n",
       "</style>\n",
       "<table border=\"1\" class=\"dataframe\">\n",
       "  <thead>\n",
       "    <tr style=\"text-align: right;\">\n",
       "      <th></th>\n",
       "      <th>sl_no</th>\n",
       "      <th>gender</th>\n",
       "      <th>ssc_p</th>\n",
       "      <th>ssc_b</th>\n",
       "      <th>hsc_p</th>\n",
       "      <th>hsc_b</th>\n",
       "      <th>hsc_s</th>\n",
       "      <th>degree_p</th>\n",
       "      <th>degree_t</th>\n",
       "      <th>workex</th>\n",
       "      <th>etest_p</th>\n",
       "      <th>specialisation</th>\n",
       "      <th>mba_p</th>\n",
       "      <th>status</th>\n",
       "      <th>salary</th>\n",
       "    </tr>\n",
       "  </thead>\n",
       "  <tbody>\n",
       "    <tr>\n",
       "      <th>0</th>\n",
       "      <td>1</td>\n",
       "      <td>M</td>\n",
       "      <td>67.00</td>\n",
       "      <td>Others</td>\n",
       "      <td>91.00</td>\n",
       "      <td>Others</td>\n",
       "      <td>Commerce</td>\n",
       "      <td>58.00</td>\n",
       "      <td>Sci&amp;Tech</td>\n",
       "      <td>No</td>\n",
       "      <td>55.0</td>\n",
       "      <td>Mkt&amp;HR</td>\n",
       "      <td>58.80</td>\n",
       "      <td>Placed</td>\n",
       "      <td>270000.0</td>\n",
       "    </tr>\n",
       "    <tr>\n",
       "      <th>1</th>\n",
       "      <td>2</td>\n",
       "      <td>M</td>\n",
       "      <td>79.33</td>\n",
       "      <td>Central</td>\n",
       "      <td>78.33</td>\n",
       "      <td>Others</td>\n",
       "      <td>Science</td>\n",
       "      <td>77.48</td>\n",
       "      <td>Sci&amp;Tech</td>\n",
       "      <td>Yes</td>\n",
       "      <td>86.5</td>\n",
       "      <td>Mkt&amp;Fin</td>\n",
       "      <td>66.28</td>\n",
       "      <td>Placed</td>\n",
       "      <td>200000.0</td>\n",
       "    </tr>\n",
       "    <tr>\n",
       "      <th>2</th>\n",
       "      <td>3</td>\n",
       "      <td>M</td>\n",
       "      <td>65.00</td>\n",
       "      <td>Central</td>\n",
       "      <td>68.00</td>\n",
       "      <td>Central</td>\n",
       "      <td>Arts</td>\n",
       "      <td>64.00</td>\n",
       "      <td>Comm&amp;Mgmt</td>\n",
       "      <td>No</td>\n",
       "      <td>75.0</td>\n",
       "      <td>Mkt&amp;Fin</td>\n",
       "      <td>57.80</td>\n",
       "      <td>Placed</td>\n",
       "      <td>250000.0</td>\n",
       "    </tr>\n",
       "    <tr>\n",
       "      <th>3</th>\n",
       "      <td>4</td>\n",
       "      <td>M</td>\n",
       "      <td>56.00</td>\n",
       "      <td>Central</td>\n",
       "      <td>52.00</td>\n",
       "      <td>Central</td>\n",
       "      <td>Science</td>\n",
       "      <td>52.00</td>\n",
       "      <td>Sci&amp;Tech</td>\n",
       "      <td>No</td>\n",
       "      <td>66.0</td>\n",
       "      <td>Mkt&amp;HR</td>\n",
       "      <td>59.43</td>\n",
       "      <td>Not Placed</td>\n",
       "      <td>NaN</td>\n",
       "    </tr>\n",
       "    <tr>\n",
       "      <th>4</th>\n",
       "      <td>5</td>\n",
       "      <td>M</td>\n",
       "      <td>85.80</td>\n",
       "      <td>Central</td>\n",
       "      <td>73.60</td>\n",
       "      <td>Central</td>\n",
       "      <td>Commerce</td>\n",
       "      <td>73.30</td>\n",
       "      <td>Comm&amp;Mgmt</td>\n",
       "      <td>No</td>\n",
       "      <td>96.8</td>\n",
       "      <td>Mkt&amp;Fin</td>\n",
       "      <td>55.50</td>\n",
       "      <td>Placed</td>\n",
       "      <td>425000.0</td>\n",
       "    </tr>\n",
       "  </tbody>\n",
       "</table>\n",
       "</div>"
      ],
      "text/plain": [
       "   sl_no gender  ssc_p    ssc_b  hsc_p    hsc_b     hsc_s  degree_p  \\\n",
       "0      1      M  67.00   Others  91.00   Others  Commerce     58.00   \n",
       "1      2      M  79.33  Central  78.33   Others   Science     77.48   \n",
       "2      3      M  65.00  Central  68.00  Central      Arts     64.00   \n",
       "3      4      M  56.00  Central  52.00  Central   Science     52.00   \n",
       "4      5      M  85.80  Central  73.60  Central  Commerce     73.30   \n",
       "\n",
       "    degree_t workex  etest_p specialisation  mba_p      status    salary  \n",
       "0   Sci&Tech     No     55.0         Mkt&HR  58.80      Placed  270000.0  \n",
       "1   Sci&Tech    Yes     86.5        Mkt&Fin  66.28      Placed  200000.0  \n",
       "2  Comm&Mgmt     No     75.0        Mkt&Fin  57.80      Placed  250000.0  \n",
       "3   Sci&Tech     No     66.0         Mkt&HR  59.43  Not Placed       NaN  \n",
       "4  Comm&Mgmt     No     96.8        Mkt&Fin  55.50      Placed  425000.0  "
      ]
     },
     "execution_count": 171,
     "metadata": {},
     "output_type": "execute_result"
    }
   ],
   "source": [
    "df.head()"
   ]
  },
  {
   "cell_type": "code",
   "execution_count": 172,
   "id": "1e1ff84d-473c-450c-bee3-3721e89f5f53",
   "metadata": {},
   "outputs": [],
   "source": [
    "df['salary'] = df['salary'].fillna(df['salary'].mode()[0])"
   ]
  },
  {
   "cell_type": "code",
   "execution_count": 173,
   "id": "ae5c8e1c-0d12-4bbc-869f-bd2078acfb38",
   "metadata": {},
   "outputs": [
    {
     "data": {
      "text/plain": [
       "sl_no             0\n",
       "gender            0\n",
       "ssc_p             0\n",
       "ssc_b             0\n",
       "hsc_p             0\n",
       "hsc_b             0\n",
       "hsc_s             0\n",
       "degree_p          0\n",
       "degree_t          0\n",
       "workex            0\n",
       "etest_p           0\n",
       "specialisation    0\n",
       "mba_p             0\n",
       "status            0\n",
       "salary            0\n",
       "dtype: int64"
      ]
     },
     "execution_count": 173,
     "metadata": {},
     "output_type": "execute_result"
    }
   ],
   "source": [
    "df.isnull().sum()"
   ]
  },
  {
   "cell_type": "code",
   "execution_count": 175,
   "id": "0347d073-0bbb-4e7d-864a-1f5984cc8ab2",
   "metadata": {},
   "outputs": [
    {
     "data": {
      "text/html": [
       "<div>\n",
       "<style scoped>\n",
       "    .dataframe tbody tr th:only-of-type {\n",
       "        vertical-align: middle;\n",
       "    }\n",
       "\n",
       "    .dataframe tbody tr th {\n",
       "        vertical-align: top;\n",
       "    }\n",
       "\n",
       "    .dataframe thead th {\n",
       "        text-align: right;\n",
       "    }\n",
       "</style>\n",
       "<table border=\"1\" class=\"dataframe\">\n",
       "  <thead>\n",
       "    <tr style=\"text-align: right;\">\n",
       "      <th></th>\n",
       "      <th>sl_no</th>\n",
       "      <th>gender</th>\n",
       "      <th>ssc_p</th>\n",
       "      <th>ssc_b</th>\n",
       "      <th>hsc_p</th>\n",
       "      <th>hsc_b</th>\n",
       "      <th>hsc_s</th>\n",
       "      <th>degree_p</th>\n",
       "      <th>degree_t</th>\n",
       "      <th>workex</th>\n",
       "      <th>etest_p</th>\n",
       "      <th>specialisation</th>\n",
       "      <th>mba_p</th>\n",
       "      <th>status</th>\n",
       "      <th>salary</th>\n",
       "    </tr>\n",
       "  </thead>\n",
       "  <tbody>\n",
       "    <tr>\n",
       "      <th>0</th>\n",
       "      <td>1</td>\n",
       "      <td>M</td>\n",
       "      <td>67.00</td>\n",
       "      <td>Others</td>\n",
       "      <td>91.00</td>\n",
       "      <td>Others</td>\n",
       "      <td>Commerce</td>\n",
       "      <td>58.00</td>\n",
       "      <td>Sci&amp;Tech</td>\n",
       "      <td>No</td>\n",
       "      <td>55.0</td>\n",
       "      <td>Mkt&amp;HR</td>\n",
       "      <td>58.80</td>\n",
       "      <td>Placed</td>\n",
       "      <td>270000.0</td>\n",
       "    </tr>\n",
       "    <tr>\n",
       "      <th>1</th>\n",
       "      <td>2</td>\n",
       "      <td>M</td>\n",
       "      <td>79.33</td>\n",
       "      <td>Central</td>\n",
       "      <td>78.33</td>\n",
       "      <td>Others</td>\n",
       "      <td>Science</td>\n",
       "      <td>77.48</td>\n",
       "      <td>Sci&amp;Tech</td>\n",
       "      <td>Yes</td>\n",
       "      <td>86.5</td>\n",
       "      <td>Mkt&amp;Fin</td>\n",
       "      <td>66.28</td>\n",
       "      <td>Placed</td>\n",
       "      <td>200000.0</td>\n",
       "    </tr>\n",
       "    <tr>\n",
       "      <th>2</th>\n",
       "      <td>3</td>\n",
       "      <td>M</td>\n",
       "      <td>65.00</td>\n",
       "      <td>Central</td>\n",
       "      <td>68.00</td>\n",
       "      <td>Central</td>\n",
       "      <td>Arts</td>\n",
       "      <td>64.00</td>\n",
       "      <td>Comm&amp;Mgmt</td>\n",
       "      <td>No</td>\n",
       "      <td>75.0</td>\n",
       "      <td>Mkt&amp;Fin</td>\n",
       "      <td>57.80</td>\n",
       "      <td>Placed</td>\n",
       "      <td>250000.0</td>\n",
       "    </tr>\n",
       "    <tr>\n",
       "      <th>3</th>\n",
       "      <td>4</td>\n",
       "      <td>M</td>\n",
       "      <td>56.00</td>\n",
       "      <td>Central</td>\n",
       "      <td>52.00</td>\n",
       "      <td>Central</td>\n",
       "      <td>Science</td>\n",
       "      <td>52.00</td>\n",
       "      <td>Sci&amp;Tech</td>\n",
       "      <td>No</td>\n",
       "      <td>66.0</td>\n",
       "      <td>Mkt&amp;HR</td>\n",
       "      <td>59.43</td>\n",
       "      <td>Not Placed</td>\n",
       "      <td>300000.0</td>\n",
       "    </tr>\n",
       "    <tr>\n",
       "      <th>4</th>\n",
       "      <td>5</td>\n",
       "      <td>M</td>\n",
       "      <td>85.80</td>\n",
       "      <td>Central</td>\n",
       "      <td>73.60</td>\n",
       "      <td>Central</td>\n",
       "      <td>Commerce</td>\n",
       "      <td>73.30</td>\n",
       "      <td>Comm&amp;Mgmt</td>\n",
       "      <td>No</td>\n",
       "      <td>96.8</td>\n",
       "      <td>Mkt&amp;Fin</td>\n",
       "      <td>55.50</td>\n",
       "      <td>Placed</td>\n",
       "      <td>425000.0</td>\n",
       "    </tr>\n",
       "  </tbody>\n",
       "</table>\n",
       "</div>"
      ],
      "text/plain": [
       "   sl_no gender  ssc_p    ssc_b  hsc_p    hsc_b     hsc_s  degree_p  \\\n",
       "0      1      M  67.00   Others  91.00   Others  Commerce     58.00   \n",
       "1      2      M  79.33  Central  78.33   Others   Science     77.48   \n",
       "2      3      M  65.00  Central  68.00  Central      Arts     64.00   \n",
       "3      4      M  56.00  Central  52.00  Central   Science     52.00   \n",
       "4      5      M  85.80  Central  73.60  Central  Commerce     73.30   \n",
       "\n",
       "    degree_t workex  etest_p specialisation  mba_p      status    salary  \n",
       "0   Sci&Tech     No     55.0         Mkt&HR  58.80      Placed  270000.0  \n",
       "1   Sci&Tech    Yes     86.5        Mkt&Fin  66.28      Placed  200000.0  \n",
       "2  Comm&Mgmt     No     75.0        Mkt&Fin  57.80      Placed  250000.0  \n",
       "3   Sci&Tech     No     66.0         Mkt&HR  59.43  Not Placed  300000.0  \n",
       "4  Comm&Mgmt     No     96.8        Mkt&Fin  55.50      Placed  425000.0  "
      ]
     },
     "execution_count": 175,
     "metadata": {},
     "output_type": "execute_result"
    }
   ],
   "source": [
    "df.head()"
   ]
  },
  {
   "cell_type": "code",
   "execution_count": 177,
   "id": "9f5fc016-f31a-43f9-8a55-af547ba3bc24",
   "metadata": {},
   "outputs": [],
   "source": [
    "import numpy as np\n",
    "# Importing the SimpleImputer class\n",
    "from sklearn.impute import SimpleImputer"
   ]
  },
  {
   "cell_type": "code",
   "execution_count": 180,
   "id": "1af94e4e-2edd-451a-a180-fefe6c6d3018",
   "metadata": {},
   "outputs": [
    {
     "name": "stdout",
     "output_type": "stream",
     "text": [
      "Original Data : \n",
      " [[12, nan, 34], [10, 32, nan], [nan, 11, 20]]\n"
     ]
    }
   ],
   "source": [
    "# Imputer object using the mean strategy and \n",
    "# missing_values type for imputation\n",
    "\n",
    "imputer = SimpleImputer(missing_values=np.nan, strategy='mean')\n",
    "\n",
    "data = [[12, np.nan, 34], [10,32,np.nan], [np.nan, 11, 20]]\n",
    "\n",
    "print(\"Original Data : \\n\", data)\n"
   ]
  },
  {
   "cell_type": "code",
   "execution_count": 182,
   "id": "7970eaff-c314-4a28-9497-6f12b3391b92",
   "metadata": {},
   "outputs": [
    {
     "name": "stdout",
     "output_type": "stream",
     "text": [
      "Imputed Data: \n",
      " [[12.  21.5 34. ]\n",
      " [10.  32.  27. ]\n",
      " [11.  11.  20. ]]\n"
     ]
    }
   ],
   "source": [
    "imputer = imputer.fit(data)\n",
    "\n",
    "#imputing the data\n",
    "data = imputer.transform(data)\n",
    "\n",
    "print(\"Imputed Data: \\n\", data)"
   ]
  },
  {
   "cell_type": "markdown",
   "id": "c594e379-9890-42ca-9162-4762c5ba2136",
   "metadata": {},
   "source": [
    "### One Hot Encoding"
   ]
  },
  {
   "cell_type": "code",
   "execution_count": 183,
   "id": "6fc7b005-364a-4593-acc9-2e1c47fefb3b",
   "metadata": {},
   "outputs": [],
   "source": [
    "df = pd.read_csv(\"airport.csv\")"
   ]
  },
  {
   "cell_type": "code",
   "execution_count": 184,
   "id": "60d10faa-6883-4c64-b5ba-42ab0067ba89",
   "metadata": {},
   "outputs": [
    {
     "data": {
      "text/html": [
       "<div>\n",
       "<style scoped>\n",
       "    .dataframe tbody tr th:only-of-type {\n",
       "        vertical-align: middle;\n",
       "    }\n",
       "\n",
       "    .dataframe tbody tr th {\n",
       "        vertical-align: top;\n",
       "    }\n",
       "\n",
       "    .dataframe thead th {\n",
       "        text-align: right;\n",
       "    }\n",
       "</style>\n",
       "<table border=\"1\" class=\"dataframe\">\n",
       "  <thead>\n",
       "    <tr style=\"text-align: right;\">\n",
       "      <th></th>\n",
       "      <th>id</th>\n",
       "      <th>ident</th>\n",
       "      <th>type</th>\n",
       "      <th>name</th>\n",
       "      <th>latitude_deg</th>\n",
       "      <th>longitude_deg</th>\n",
       "      <th>elevation_ft</th>\n",
       "      <th>iso_region</th>\n",
       "      <th>municipality</th>\n",
       "      <th>scheduled_service</th>\n",
       "      <th>gps_code</th>\n",
       "      <th>iata_code</th>\n",
       "      <th>local_code</th>\n",
       "      <th>year_built</th>\n",
       "      <th>year_tier</th>\n",
       "      <th>Closed</th>\n",
       "      <th>home_link</th>\n",
       "      <th>wikipedia_link</th>\n",
       "      <th>keywords</th>\n",
       "      <th>score</th>\n",
       "    </tr>\n",
       "  </thead>\n",
       "  <tbody>\n",
       "    <tr>\n",
       "      <th>0</th>\n",
       "      <td>26555</td>\n",
       "      <td>VIDP</td>\n",
       "      <td>large_airport</td>\n",
       "      <td>Indira Gandhi International Airport</td>\n",
       "      <td>28.566500</td>\n",
       "      <td>77.103104</td>\n",
       "      <td>777.0</td>\n",
       "      <td>IN-DL</td>\n",
       "      <td>New Delhi</td>\n",
       "      <td>1</td>\n",
       "      <td>VIDP</td>\n",
       "      <td>DEL</td>\n",
       "      <td>NaN</td>\n",
       "      <td>1930.0</td>\n",
       "      <td>1950.0</td>\n",
       "      <td>n</td>\n",
       "      <td>http://www.newdelhiairport.in/</td>\n",
       "      <td>http://en.wikipedia.org/wiki/Indira_Gandhi_Int...</td>\n",
       "      <td>Palam Air Force Station</td>\n",
       "      <td>51475</td>\n",
       "    </tr>\n",
       "    <tr>\n",
       "      <th>1</th>\n",
       "      <td>26434</td>\n",
       "      <td>VABB</td>\n",
       "      <td>large_airport</td>\n",
       "      <td>Chhatrapati Shivaji International Airport</td>\n",
       "      <td>19.088699</td>\n",
       "      <td>72.867897</td>\n",
       "      <td>39.0</td>\n",
       "      <td>IN-MM</td>\n",
       "      <td>Mumbai</td>\n",
       "      <td>1</td>\n",
       "      <td>VABB</td>\n",
       "      <td>BOM</td>\n",
       "      <td>NaN</td>\n",
       "      <td>1942.0</td>\n",
       "      <td>1950.0</td>\n",
       "      <td>n</td>\n",
       "      <td>http://www.csia.in/</td>\n",
       "      <td>http://en.wikipedia.org/wiki/Chhatrapati_Shiva...</td>\n",
       "      <td>Bombay, Sahar International Airport</td>\n",
       "      <td>1014475</td>\n",
       "    </tr>\n",
       "    <tr>\n",
       "      <th>2</th>\n",
       "      <td>26618</td>\n",
       "      <td>VOMM</td>\n",
       "      <td>large_airport</td>\n",
       "      <td>Chennai International Airport</td>\n",
       "      <td>12.990005</td>\n",
       "      <td>80.169296</td>\n",
       "      <td>52.0</td>\n",
       "      <td>IN-TN</td>\n",
       "      <td>Chennai</td>\n",
       "      <td>1</td>\n",
       "      <td>VOMM</td>\n",
       "      <td>MAA</td>\n",
       "      <td>NaN</td>\n",
       "      <td>1910.0</td>\n",
       "      <td>1950.0</td>\n",
       "      <td>n</td>\n",
       "      <td>NaN</td>\n",
       "      <td>http://en.wikipedia.org/wiki/Chennai_Internati...</td>\n",
       "      <td>NaN</td>\n",
       "      <td>51150</td>\n",
       "    </tr>\n",
       "    <tr>\n",
       "      <th>3</th>\n",
       "      <td>35145</td>\n",
       "      <td>VOBL</td>\n",
       "      <td>large_airport</td>\n",
       "      <td>Kempegowda International Airport</td>\n",
       "      <td>13.197900</td>\n",
       "      <td>77.706299</td>\n",
       "      <td>3000.0</td>\n",
       "      <td>IN-KA</td>\n",
       "      <td>Bangalore</td>\n",
       "      <td>1</td>\n",
       "      <td>VOBL</td>\n",
       "      <td>BLR</td>\n",
       "      <td>NaN</td>\n",
       "      <td>2008.0</td>\n",
       "      <td>2010.0</td>\n",
       "      <td>n</td>\n",
       "      <td>http://www.bengaluruairport.com/home/home.jspx</td>\n",
       "      <td>https://en.wikipedia.org/wiki/Kempegowda_Inter...</td>\n",
       "      <td>NaN</td>\n",
       "      <td>51200</td>\n",
       "    </tr>\n",
       "    <tr>\n",
       "      <th>4</th>\n",
       "      <td>26444</td>\n",
       "      <td>VAGO</td>\n",
       "      <td>large_airport</td>\n",
       "      <td>Goa International Airport</td>\n",
       "      <td>15.380800</td>\n",
       "      <td>73.831398</td>\n",
       "      <td>150.0</td>\n",
       "      <td>IN-GA</td>\n",
       "      <td>Vasco da Gama</td>\n",
       "      <td>1</td>\n",
       "      <td>VOGO</td>\n",
       "      <td>GOI</td>\n",
       "      <td>NaN</td>\n",
       "      <td>1955.0</td>\n",
       "      <td>1955.0</td>\n",
       "      <td>n</td>\n",
       "      <td>NaN</td>\n",
       "      <td>http://en.wikipedia.org/wiki/Dabolim_Airport</td>\n",
       "      <td>Goa Airport, Dabolim Navy Airbase, ________隷怄_...</td>\n",
       "      <td>875</td>\n",
       "    </tr>\n",
       "  </tbody>\n",
       "</table>\n",
       "</div>"
      ],
      "text/plain": [
       "      id ident           type                                       name  \\\n",
       "0  26555  VIDP  large_airport        Indira Gandhi International Airport   \n",
       "1  26434  VABB  large_airport  Chhatrapati Shivaji International Airport   \n",
       "2  26618  VOMM  large_airport              Chennai International Airport   \n",
       "3  35145  VOBL  large_airport           Kempegowda International Airport   \n",
       "4  26444  VAGO  large_airport                  Goa International Airport   \n",
       "\n",
       "   latitude_deg  longitude_deg  elevation_ft iso_region   municipality  \\\n",
       "0     28.566500      77.103104         777.0      IN-DL      New Delhi   \n",
       "1     19.088699      72.867897          39.0      IN-MM         Mumbai   \n",
       "2     12.990005      80.169296          52.0      IN-TN        Chennai   \n",
       "3     13.197900      77.706299        3000.0      IN-KA      Bangalore   \n",
       "4     15.380800      73.831398         150.0      IN-GA  Vasco da Gama   \n",
       "\n",
       "   scheduled_service gps_code iata_code local_code  year_built  year_tier  \\\n",
       "0                  1     VIDP       DEL        NaN      1930.0     1950.0   \n",
       "1                  1     VABB       BOM        NaN      1942.0     1950.0   \n",
       "2                  1     VOMM       MAA        NaN      1910.0     1950.0   \n",
       "3                  1     VOBL       BLR        NaN      2008.0     2010.0   \n",
       "4                  1     VOGO       GOI        NaN      1955.0     1955.0   \n",
       "\n",
       "  Closed                                       home_link  \\\n",
       "0      n                  http://www.newdelhiairport.in/   \n",
       "1      n                             http://www.csia.in/   \n",
       "2      n                                             NaN   \n",
       "3      n  http://www.bengaluruairport.com/home/home.jspx   \n",
       "4      n                                             NaN   \n",
       "\n",
       "                                      wikipedia_link  \\\n",
       "0  http://en.wikipedia.org/wiki/Indira_Gandhi_Int...   \n",
       "1  http://en.wikipedia.org/wiki/Chhatrapati_Shiva...   \n",
       "2  http://en.wikipedia.org/wiki/Chennai_Internati...   \n",
       "3  https://en.wikipedia.org/wiki/Kempegowda_Inter...   \n",
       "4       http://en.wikipedia.org/wiki/Dabolim_Airport   \n",
       "\n",
       "                                            keywords    score  \n",
       "0                            Palam Air Force Station    51475  \n",
       "1                Bombay, Sahar International Airport  1014475  \n",
       "2                                                NaN    51150  \n",
       "3                                                NaN    51200  \n",
       "4  Goa Airport, Dabolim Navy Airbase, ________隷怄_...      875  "
      ]
     },
     "execution_count": 184,
     "metadata": {},
     "output_type": "execute_result"
    }
   ],
   "source": [
    "df.head()"
   ]
  },
  {
   "cell_type": "code",
   "execution_count": 185,
   "id": "6415a824-6235-4a59-b516-0abae6a27235",
   "metadata": {},
   "outputs": [
    {
     "data": {
      "text/plain": [
       "small_airport     157\n",
       "medium_airport    101\n",
       "heliport           41\n",
       "closed             27\n",
       "large_airport      11\n",
       "Name: type, dtype: int64"
      ]
     },
     "execution_count": 185,
     "metadata": {},
     "output_type": "execute_result"
    }
   ],
   "source": [
    "df['type'].value_counts()"
   ]
  },
  {
   "cell_type": "code",
   "execution_count": 187,
   "id": "788a0628-35b0-4045-b13d-e6054f00eb62",
   "metadata": {},
   "outputs": [
    {
     "data": {
      "text/html": [
       "<div>\n",
       "<style scoped>\n",
       "    .dataframe tbody tr th:only-of-type {\n",
       "        vertical-align: middle;\n",
       "    }\n",
       "\n",
       "    .dataframe tbody tr th {\n",
       "        vertical-align: top;\n",
       "    }\n",
       "\n",
       "    .dataframe thead th {\n",
       "        text-align: right;\n",
       "    }\n",
       "</style>\n",
       "<table border=\"1\" class=\"dataframe\">\n",
       "  <thead>\n",
       "    <tr style=\"text-align: right;\">\n",
       "      <th></th>\n",
       "      <th>id</th>\n",
       "      <th>ident</th>\n",
       "      <th>name</th>\n",
       "      <th>latitude_deg</th>\n",
       "      <th>longitude_deg</th>\n",
       "      <th>elevation_ft</th>\n",
       "      <th>iso_region</th>\n",
       "      <th>municipality</th>\n",
       "      <th>scheduled_service</th>\n",
       "      <th>gps_code</th>\n",
       "      <th>...</th>\n",
       "      <th>Closed</th>\n",
       "      <th>home_link</th>\n",
       "      <th>wikipedia_link</th>\n",
       "      <th>keywords</th>\n",
       "      <th>score</th>\n",
       "      <th>type_closed</th>\n",
       "      <th>type_heliport</th>\n",
       "      <th>type_large_airport</th>\n",
       "      <th>type_medium_airport</th>\n",
       "      <th>type_small_airport</th>\n",
       "    </tr>\n",
       "  </thead>\n",
       "  <tbody>\n",
       "    <tr>\n",
       "      <th>0</th>\n",
       "      <td>26555</td>\n",
       "      <td>VIDP</td>\n",
       "      <td>Indira Gandhi International Airport</td>\n",
       "      <td>28.566500</td>\n",
       "      <td>77.103104</td>\n",
       "      <td>777.0</td>\n",
       "      <td>IN-DL</td>\n",
       "      <td>New Delhi</td>\n",
       "      <td>1</td>\n",
       "      <td>VIDP</td>\n",
       "      <td>...</td>\n",
       "      <td>n</td>\n",
       "      <td>http://www.newdelhiairport.in/</td>\n",
       "      <td>http://en.wikipedia.org/wiki/Indira_Gandhi_Int...</td>\n",
       "      <td>Palam Air Force Station</td>\n",
       "      <td>51475</td>\n",
       "      <td>0</td>\n",
       "      <td>0</td>\n",
       "      <td>1</td>\n",
       "      <td>0</td>\n",
       "      <td>0</td>\n",
       "    </tr>\n",
       "    <tr>\n",
       "      <th>1</th>\n",
       "      <td>26434</td>\n",
       "      <td>VABB</td>\n",
       "      <td>Chhatrapati Shivaji International Airport</td>\n",
       "      <td>19.088699</td>\n",
       "      <td>72.867897</td>\n",
       "      <td>39.0</td>\n",
       "      <td>IN-MM</td>\n",
       "      <td>Mumbai</td>\n",
       "      <td>1</td>\n",
       "      <td>VABB</td>\n",
       "      <td>...</td>\n",
       "      <td>n</td>\n",
       "      <td>http://www.csia.in/</td>\n",
       "      <td>http://en.wikipedia.org/wiki/Chhatrapati_Shiva...</td>\n",
       "      <td>Bombay, Sahar International Airport</td>\n",
       "      <td>1014475</td>\n",
       "      <td>0</td>\n",
       "      <td>0</td>\n",
       "      <td>1</td>\n",
       "      <td>0</td>\n",
       "      <td>0</td>\n",
       "    </tr>\n",
       "    <tr>\n",
       "      <th>2</th>\n",
       "      <td>26618</td>\n",
       "      <td>VOMM</td>\n",
       "      <td>Chennai International Airport</td>\n",
       "      <td>12.990005</td>\n",
       "      <td>80.169296</td>\n",
       "      <td>52.0</td>\n",
       "      <td>IN-TN</td>\n",
       "      <td>Chennai</td>\n",
       "      <td>1</td>\n",
       "      <td>VOMM</td>\n",
       "      <td>...</td>\n",
       "      <td>n</td>\n",
       "      <td>NaN</td>\n",
       "      <td>http://en.wikipedia.org/wiki/Chennai_Internati...</td>\n",
       "      <td>NaN</td>\n",
       "      <td>51150</td>\n",
       "      <td>0</td>\n",
       "      <td>0</td>\n",
       "      <td>1</td>\n",
       "      <td>0</td>\n",
       "      <td>0</td>\n",
       "    </tr>\n",
       "    <tr>\n",
       "      <th>3</th>\n",
       "      <td>35145</td>\n",
       "      <td>VOBL</td>\n",
       "      <td>Kempegowda International Airport</td>\n",
       "      <td>13.197900</td>\n",
       "      <td>77.706299</td>\n",
       "      <td>3000.0</td>\n",
       "      <td>IN-KA</td>\n",
       "      <td>Bangalore</td>\n",
       "      <td>1</td>\n",
       "      <td>VOBL</td>\n",
       "      <td>...</td>\n",
       "      <td>n</td>\n",
       "      <td>http://www.bengaluruairport.com/home/home.jspx</td>\n",
       "      <td>https://en.wikipedia.org/wiki/Kempegowda_Inter...</td>\n",
       "      <td>NaN</td>\n",
       "      <td>51200</td>\n",
       "      <td>0</td>\n",
       "      <td>0</td>\n",
       "      <td>1</td>\n",
       "      <td>0</td>\n",
       "      <td>0</td>\n",
       "    </tr>\n",
       "    <tr>\n",
       "      <th>4</th>\n",
       "      <td>26444</td>\n",
       "      <td>VAGO</td>\n",
       "      <td>Goa International Airport</td>\n",
       "      <td>15.380800</td>\n",
       "      <td>73.831398</td>\n",
       "      <td>150.0</td>\n",
       "      <td>IN-GA</td>\n",
       "      <td>Vasco da Gama</td>\n",
       "      <td>1</td>\n",
       "      <td>VOGO</td>\n",
       "      <td>...</td>\n",
       "      <td>n</td>\n",
       "      <td>NaN</td>\n",
       "      <td>http://en.wikipedia.org/wiki/Dabolim_Airport</td>\n",
       "      <td>Goa Airport, Dabolim Navy Airbase, ________隷怄_...</td>\n",
       "      <td>875</td>\n",
       "      <td>0</td>\n",
       "      <td>0</td>\n",
       "      <td>1</td>\n",
       "      <td>0</td>\n",
       "      <td>0</td>\n",
       "    </tr>\n",
       "    <tr>\n",
       "      <th>...</th>\n",
       "      <td>...</td>\n",
       "      <td>...</td>\n",
       "      <td>...</td>\n",
       "      <td>...</td>\n",
       "      <td>...</td>\n",
       "      <td>...</td>\n",
       "      <td>...</td>\n",
       "      <td>...</td>\n",
       "      <td>...</td>\n",
       "      <td>...</td>\n",
       "      <td>...</td>\n",
       "      <td>...</td>\n",
       "      <td>...</td>\n",
       "      <td>...</td>\n",
       "      <td>...</td>\n",
       "      <td>...</td>\n",
       "      <td>...</td>\n",
       "      <td>...</td>\n",
       "      <td>...</td>\n",
       "      <td>...</td>\n",
       "      <td>...</td>\n",
       "    </tr>\n",
       "    <tr>\n",
       "      <th>332</th>\n",
       "      <td>46625</td>\n",
       "      <td>IN-0062</td>\n",
       "      <td>Shirpur Airport</td>\n",
       "      <td>21.323999</td>\n",
       "      <td>74.956734</td>\n",
       "      <td>NaN</td>\n",
       "      <td>IN-MM</td>\n",
       "      <td>Shirpur</td>\n",
       "      <td>0</td>\n",
       "      <td>NaN</td>\n",
       "      <td>...</td>\n",
       "      <td>n</td>\n",
       "      <td>NaN</td>\n",
       "      <td>NaN</td>\n",
       "      <td>Shirpur, Dhule</td>\n",
       "      <td>0</td>\n",
       "      <td>0</td>\n",
       "      <td>0</td>\n",
       "      <td>0</td>\n",
       "      <td>0</td>\n",
       "      <td>1</td>\n",
       "    </tr>\n",
       "    <tr>\n",
       "      <th>333</th>\n",
       "      <td>46640</td>\n",
       "      <td>IN-0064</td>\n",
       "      <td>Umaria Air Field</td>\n",
       "      <td>23.532514</td>\n",
       "      <td>80.808220</td>\n",
       "      <td>1510.0</td>\n",
       "      <td>IN-MP</td>\n",
       "      <td>Umaria</td>\n",
       "      <td>0</td>\n",
       "      <td>NaN</td>\n",
       "      <td>...</td>\n",
       "      <td>n</td>\n",
       "      <td>NaN</td>\n",
       "      <td>NaN</td>\n",
       "      <td>NaN</td>\n",
       "      <td>0</td>\n",
       "      <td>0</td>\n",
       "      <td>0</td>\n",
       "      <td>0</td>\n",
       "      <td>0</td>\n",
       "      <td>1</td>\n",
       "    </tr>\n",
       "    <tr>\n",
       "      <th>334</th>\n",
       "      <td>46561</td>\n",
       "      <td>IN-0038</td>\n",
       "      <td>Upper Tadong Indian Army Helipad</td>\n",
       "      <td>27.306717</td>\n",
       "      <td>88.599650</td>\n",
       "      <td>NaN</td>\n",
       "      <td>IN-SK</td>\n",
       "      <td>Upper Tadong</td>\n",
       "      <td>0</td>\n",
       "      <td>NaN</td>\n",
       "      <td>...</td>\n",
       "      <td>n</td>\n",
       "      <td>NaN</td>\n",
       "      <td>NaN</td>\n",
       "      <td>NaN</td>\n",
       "      <td>0</td>\n",
       "      <td>0</td>\n",
       "      <td>1</td>\n",
       "      <td>0</td>\n",
       "      <td>0</td>\n",
       "      <td>0</td>\n",
       "    </tr>\n",
       "    <tr>\n",
       "      <th>335</th>\n",
       "      <td>319166</td>\n",
       "      <td>IN-0101</td>\n",
       "      <td>Vanasthali Airport</td>\n",
       "      <td>26.407627</td>\n",
       "      <td>75.870128</td>\n",
       "      <td>NaN</td>\n",
       "      <td>IN-RJ</td>\n",
       "      <td>Vanasthali</td>\n",
       "      <td>0</td>\n",
       "      <td>NaN</td>\n",
       "      <td>...</td>\n",
       "      <td>n</td>\n",
       "      <td>NaN</td>\n",
       "      <td>NaN</td>\n",
       "      <td>NaN</td>\n",
       "      <td>0</td>\n",
       "      <td>0</td>\n",
       "      <td>0</td>\n",
       "      <td>0</td>\n",
       "      <td>0</td>\n",
       "      <td>1</td>\n",
       "    </tr>\n",
       "    <tr>\n",
       "      <th>336</th>\n",
       "      <td>46557</td>\n",
       "      <td>IN-0034</td>\n",
       "      <td>Vijay Nagar Airport</td>\n",
       "      <td>19.884100</td>\n",
       "      <td>73.840567</td>\n",
       "      <td>NaN</td>\n",
       "      <td>IN-MM</td>\n",
       "      <td>Vijay Nagar</td>\n",
       "      <td>0</td>\n",
       "      <td>NaN</td>\n",
       "      <td>...</td>\n",
       "      <td>n</td>\n",
       "      <td>NaN</td>\n",
       "      <td>NaN</td>\n",
       "      <td>NaN</td>\n",
       "      <td>0</td>\n",
       "      <td>0</td>\n",
       "      <td>0</td>\n",
       "      <td>0</td>\n",
       "      <td>0</td>\n",
       "      <td>1</td>\n",
       "    </tr>\n",
       "  </tbody>\n",
       "</table>\n",
       "<p>337 rows × 24 columns</p>\n",
       "</div>"
      ],
      "text/plain": [
       "         id    ident                                       name  latitude_deg  \\\n",
       "0     26555     VIDP        Indira Gandhi International Airport     28.566500   \n",
       "1     26434     VABB  Chhatrapati Shivaji International Airport     19.088699   \n",
       "2     26618     VOMM              Chennai International Airport     12.990005   \n",
       "3     35145     VOBL           Kempegowda International Airport     13.197900   \n",
       "4     26444     VAGO                  Goa International Airport     15.380800   \n",
       "..      ...      ...                                        ...           ...   \n",
       "332   46625  IN-0062                            Shirpur Airport     21.323999   \n",
       "333   46640  IN-0064                           Umaria Air Field     23.532514   \n",
       "334   46561  IN-0038           Upper Tadong Indian Army Helipad     27.306717   \n",
       "335  319166  IN-0101                         Vanasthali Airport     26.407627   \n",
       "336   46557  IN-0034                        Vijay Nagar Airport     19.884100   \n",
       "\n",
       "     longitude_deg  elevation_ft iso_region   municipality  scheduled_service  \\\n",
       "0        77.103104         777.0      IN-DL      New Delhi                  1   \n",
       "1        72.867897          39.0      IN-MM         Mumbai                  1   \n",
       "2        80.169296          52.0      IN-TN        Chennai                  1   \n",
       "3        77.706299        3000.0      IN-KA      Bangalore                  1   \n",
       "4        73.831398         150.0      IN-GA  Vasco da Gama                  1   \n",
       "..             ...           ...        ...            ...                ...   \n",
       "332      74.956734           NaN      IN-MM        Shirpur                  0   \n",
       "333      80.808220        1510.0      IN-MP         Umaria                  0   \n",
       "334      88.599650           NaN      IN-SK   Upper Tadong                  0   \n",
       "335      75.870128           NaN      IN-RJ     Vanasthali                  0   \n",
       "336      73.840567           NaN      IN-MM    Vijay Nagar                  0   \n",
       "\n",
       "    gps_code  ... Closed                                       home_link  \\\n",
       "0       VIDP  ...      n                  http://www.newdelhiairport.in/   \n",
       "1       VABB  ...      n                             http://www.csia.in/   \n",
       "2       VOMM  ...      n                                             NaN   \n",
       "3       VOBL  ...      n  http://www.bengaluruairport.com/home/home.jspx   \n",
       "4       VOGO  ...      n                                             NaN   \n",
       "..       ...  ...    ...                                             ...   \n",
       "332      NaN  ...      n                                             NaN   \n",
       "333      NaN  ...      n                                             NaN   \n",
       "334      NaN  ...      n                                             NaN   \n",
       "335      NaN  ...      n                                             NaN   \n",
       "336      NaN  ...      n                                             NaN   \n",
       "\n",
       "                                        wikipedia_link  \\\n",
       "0    http://en.wikipedia.org/wiki/Indira_Gandhi_Int...   \n",
       "1    http://en.wikipedia.org/wiki/Chhatrapati_Shiva...   \n",
       "2    http://en.wikipedia.org/wiki/Chennai_Internati...   \n",
       "3    https://en.wikipedia.org/wiki/Kempegowda_Inter...   \n",
       "4         http://en.wikipedia.org/wiki/Dabolim_Airport   \n",
       "..                                                 ...   \n",
       "332                                                NaN   \n",
       "333                                                NaN   \n",
       "334                                                NaN   \n",
       "335                                                NaN   \n",
       "336                                                NaN   \n",
       "\n",
       "                                              keywords    score type_closed  \\\n",
       "0                              Palam Air Force Station    51475           0   \n",
       "1                  Bombay, Sahar International Airport  1014475           0   \n",
       "2                                                  NaN    51150           0   \n",
       "3                                                  NaN    51200           0   \n",
       "4    Goa Airport, Dabolim Navy Airbase, ________隷怄_...      875           0   \n",
       "..                                                 ...      ...         ...   \n",
       "332                                     Shirpur, Dhule        0           0   \n",
       "333                                                NaN        0           0   \n",
       "334                                                NaN        0           0   \n",
       "335                                                NaN        0           0   \n",
       "336                                                NaN        0           0   \n",
       "\n",
       "    type_heliport type_large_airport  type_medium_airport  type_small_airport  \n",
       "0               0                  1                    0                   0  \n",
       "1               0                  1                    0                   0  \n",
       "2               0                  1                    0                   0  \n",
       "3               0                  1                    0                   0  \n",
       "4               0                  1                    0                   0  \n",
       "..            ...                ...                  ...                 ...  \n",
       "332             0                  0                    0                   1  \n",
       "333             0                  0                    0                   1  \n",
       "334             1                  0                    0                   0  \n",
       "335             0                  0                    0                   1  \n",
       "336             0                  0                    0                   1  \n",
       "\n",
       "[337 rows x 24 columns]"
      ]
     },
     "execution_count": 187,
     "metadata": {},
     "output_type": "execute_result"
    }
   ],
   "source": [
    "pd.get_dummies(df, columns=['type'])"
   ]
  },
  {
   "cell_type": "markdown",
   "id": "a620dc5c-f444-4f00-87d9-404506329d63",
   "metadata": {},
   "source": [
    "### Label Encoding"
   ]
  },
  {
   "cell_type": "code",
   "execution_count": 188,
   "id": "1780a77f-2269-43cd-b908-4ed926a479e9",
   "metadata": {},
   "outputs": [
    {
     "data": {
      "text/html": [
       "<div>\n",
       "<style scoped>\n",
       "    .dataframe tbody tr th:only-of-type {\n",
       "        vertical-align: middle;\n",
       "    }\n",
       "\n",
       "    .dataframe tbody tr th {\n",
       "        vertical-align: top;\n",
       "    }\n",
       "\n",
       "    .dataframe thead th {\n",
       "        text-align: right;\n",
       "    }\n",
       "</style>\n",
       "<table border=\"1\" class=\"dataframe\">\n",
       "  <thead>\n",
       "    <tr style=\"text-align: right;\">\n",
       "      <th></th>\n",
       "      <th>id</th>\n",
       "      <th>ident</th>\n",
       "      <th>type</th>\n",
       "      <th>name</th>\n",
       "      <th>latitude_deg</th>\n",
       "      <th>longitude_deg</th>\n",
       "      <th>elevation_ft</th>\n",
       "      <th>iso_region</th>\n",
       "      <th>municipality</th>\n",
       "      <th>scheduled_service</th>\n",
       "      <th>gps_code</th>\n",
       "      <th>iata_code</th>\n",
       "      <th>local_code</th>\n",
       "      <th>year_built</th>\n",
       "      <th>year_tier</th>\n",
       "      <th>Closed</th>\n",
       "      <th>home_link</th>\n",
       "      <th>wikipedia_link</th>\n",
       "      <th>keywords</th>\n",
       "      <th>score</th>\n",
       "    </tr>\n",
       "  </thead>\n",
       "  <tbody>\n",
       "    <tr>\n",
       "      <th>0</th>\n",
       "      <td>26555</td>\n",
       "      <td>VIDP</td>\n",
       "      <td>large_airport</td>\n",
       "      <td>Indira Gandhi International Airport</td>\n",
       "      <td>28.566500</td>\n",
       "      <td>77.103104</td>\n",
       "      <td>777.0</td>\n",
       "      <td>IN-DL</td>\n",
       "      <td>New Delhi</td>\n",
       "      <td>1</td>\n",
       "      <td>VIDP</td>\n",
       "      <td>DEL</td>\n",
       "      <td>NaN</td>\n",
       "      <td>1930.0</td>\n",
       "      <td>1950.0</td>\n",
       "      <td>n</td>\n",
       "      <td>http://www.newdelhiairport.in/</td>\n",
       "      <td>http://en.wikipedia.org/wiki/Indira_Gandhi_Int...</td>\n",
       "      <td>Palam Air Force Station</td>\n",
       "      <td>51475</td>\n",
       "    </tr>\n",
       "    <tr>\n",
       "      <th>1</th>\n",
       "      <td>26434</td>\n",
       "      <td>VABB</td>\n",
       "      <td>large_airport</td>\n",
       "      <td>Chhatrapati Shivaji International Airport</td>\n",
       "      <td>19.088699</td>\n",
       "      <td>72.867897</td>\n",
       "      <td>39.0</td>\n",
       "      <td>IN-MM</td>\n",
       "      <td>Mumbai</td>\n",
       "      <td>1</td>\n",
       "      <td>VABB</td>\n",
       "      <td>BOM</td>\n",
       "      <td>NaN</td>\n",
       "      <td>1942.0</td>\n",
       "      <td>1950.0</td>\n",
       "      <td>n</td>\n",
       "      <td>http://www.csia.in/</td>\n",
       "      <td>http://en.wikipedia.org/wiki/Chhatrapati_Shiva...</td>\n",
       "      <td>Bombay, Sahar International Airport</td>\n",
       "      <td>1014475</td>\n",
       "    </tr>\n",
       "    <tr>\n",
       "      <th>2</th>\n",
       "      <td>26618</td>\n",
       "      <td>VOMM</td>\n",
       "      <td>large_airport</td>\n",
       "      <td>Chennai International Airport</td>\n",
       "      <td>12.990005</td>\n",
       "      <td>80.169296</td>\n",
       "      <td>52.0</td>\n",
       "      <td>IN-TN</td>\n",
       "      <td>Chennai</td>\n",
       "      <td>1</td>\n",
       "      <td>VOMM</td>\n",
       "      <td>MAA</td>\n",
       "      <td>NaN</td>\n",
       "      <td>1910.0</td>\n",
       "      <td>1950.0</td>\n",
       "      <td>n</td>\n",
       "      <td>NaN</td>\n",
       "      <td>http://en.wikipedia.org/wiki/Chennai_Internati...</td>\n",
       "      <td>NaN</td>\n",
       "      <td>51150</td>\n",
       "    </tr>\n",
       "    <tr>\n",
       "      <th>3</th>\n",
       "      <td>35145</td>\n",
       "      <td>VOBL</td>\n",
       "      <td>large_airport</td>\n",
       "      <td>Kempegowda International Airport</td>\n",
       "      <td>13.197900</td>\n",
       "      <td>77.706299</td>\n",
       "      <td>3000.0</td>\n",
       "      <td>IN-KA</td>\n",
       "      <td>Bangalore</td>\n",
       "      <td>1</td>\n",
       "      <td>VOBL</td>\n",
       "      <td>BLR</td>\n",
       "      <td>NaN</td>\n",
       "      <td>2008.0</td>\n",
       "      <td>2010.0</td>\n",
       "      <td>n</td>\n",
       "      <td>http://www.bengaluruairport.com/home/home.jspx</td>\n",
       "      <td>https://en.wikipedia.org/wiki/Kempegowda_Inter...</td>\n",
       "      <td>NaN</td>\n",
       "      <td>51200</td>\n",
       "    </tr>\n",
       "    <tr>\n",
       "      <th>4</th>\n",
       "      <td>26444</td>\n",
       "      <td>VAGO</td>\n",
       "      <td>large_airport</td>\n",
       "      <td>Goa International Airport</td>\n",
       "      <td>15.380800</td>\n",
       "      <td>73.831398</td>\n",
       "      <td>150.0</td>\n",
       "      <td>IN-GA</td>\n",
       "      <td>Vasco da Gama</td>\n",
       "      <td>1</td>\n",
       "      <td>VOGO</td>\n",
       "      <td>GOI</td>\n",
       "      <td>NaN</td>\n",
       "      <td>1955.0</td>\n",
       "      <td>1955.0</td>\n",
       "      <td>n</td>\n",
       "      <td>NaN</td>\n",
       "      <td>http://en.wikipedia.org/wiki/Dabolim_Airport</td>\n",
       "      <td>Goa Airport, Dabolim Navy Airbase, ________隷怄_...</td>\n",
       "      <td>875</td>\n",
       "    </tr>\n",
       "  </tbody>\n",
       "</table>\n",
       "</div>"
      ],
      "text/plain": [
       "      id ident           type                                       name  \\\n",
       "0  26555  VIDP  large_airport        Indira Gandhi International Airport   \n",
       "1  26434  VABB  large_airport  Chhatrapati Shivaji International Airport   \n",
       "2  26618  VOMM  large_airport              Chennai International Airport   \n",
       "3  35145  VOBL  large_airport           Kempegowda International Airport   \n",
       "4  26444  VAGO  large_airport                  Goa International Airport   \n",
       "\n",
       "   latitude_deg  longitude_deg  elevation_ft iso_region   municipality  \\\n",
       "0     28.566500      77.103104         777.0      IN-DL      New Delhi   \n",
       "1     19.088699      72.867897          39.0      IN-MM         Mumbai   \n",
       "2     12.990005      80.169296          52.0      IN-TN        Chennai   \n",
       "3     13.197900      77.706299        3000.0      IN-KA      Bangalore   \n",
       "4     15.380800      73.831398         150.0      IN-GA  Vasco da Gama   \n",
       "\n",
       "   scheduled_service gps_code iata_code local_code  year_built  year_tier  \\\n",
       "0                  1     VIDP       DEL        NaN      1930.0     1950.0   \n",
       "1                  1     VABB       BOM        NaN      1942.0     1950.0   \n",
       "2                  1     VOMM       MAA        NaN      1910.0     1950.0   \n",
       "3                  1     VOBL       BLR        NaN      2008.0     2010.0   \n",
       "4                  1     VOGO       GOI        NaN      1955.0     1955.0   \n",
       "\n",
       "  Closed                                       home_link  \\\n",
       "0      n                  http://www.newdelhiairport.in/   \n",
       "1      n                             http://www.csia.in/   \n",
       "2      n                                             NaN   \n",
       "3      n  http://www.bengaluruairport.com/home/home.jspx   \n",
       "4      n                                             NaN   \n",
       "\n",
       "                                      wikipedia_link  \\\n",
       "0  http://en.wikipedia.org/wiki/Indira_Gandhi_Int...   \n",
       "1  http://en.wikipedia.org/wiki/Chhatrapati_Shiva...   \n",
       "2  http://en.wikipedia.org/wiki/Chennai_Internati...   \n",
       "3  https://en.wikipedia.org/wiki/Kempegowda_Inter...   \n",
       "4       http://en.wikipedia.org/wiki/Dabolim_Airport   \n",
       "\n",
       "                                            keywords    score  \n",
       "0                            Palam Air Force Station    51475  \n",
       "1                Bombay, Sahar International Airport  1014475  \n",
       "2                                                NaN    51150  \n",
       "3                                                NaN    51200  \n",
       "4  Goa Airport, Dabolim Navy Airbase, ________隷怄_...      875  "
      ]
     },
     "execution_count": 188,
     "metadata": {},
     "output_type": "execute_result"
    }
   ],
   "source": [
    "df1 = pd.read_csv(\"airport.csv\")\n",
    "df1.head()"
   ]
  },
  {
   "cell_type": "code",
   "execution_count": 189,
   "id": "91428749-f53c-429d-a078-63f40f147af3",
   "metadata": {},
   "outputs": [],
   "source": [
    "from sklearn.preprocessing import LabelEncoder\n"
   ]
  },
  {
   "cell_type": "code",
   "execution_count": 190,
   "id": "d533307b-6282-40b9-a856-cfe1f85121a3",
   "metadata": {},
   "outputs": [],
   "source": [
    "le = LabelEncoder()"
   ]
  },
  {
   "cell_type": "code",
   "execution_count": 191,
   "id": "9958ccfa-dd9b-4a69-8d17-8f02f791bbff",
   "metadata": {},
   "outputs": [],
   "source": [
    "df1['type'] = le.fit_transform(df1['type'])"
   ]
  },
  {
   "cell_type": "code",
   "execution_count": 192,
   "id": "803d883c-e8af-4314-9b99-743cf45221da",
   "metadata": {},
   "outputs": [
    {
     "data": {
      "text/html": [
       "<div>\n",
       "<style scoped>\n",
       "    .dataframe tbody tr th:only-of-type {\n",
       "        vertical-align: middle;\n",
       "    }\n",
       "\n",
       "    .dataframe tbody tr th {\n",
       "        vertical-align: top;\n",
       "    }\n",
       "\n",
       "    .dataframe thead th {\n",
       "        text-align: right;\n",
       "    }\n",
       "</style>\n",
       "<table border=\"1\" class=\"dataframe\">\n",
       "  <thead>\n",
       "    <tr style=\"text-align: right;\">\n",
       "      <th></th>\n",
       "      <th>id</th>\n",
       "      <th>ident</th>\n",
       "      <th>type</th>\n",
       "      <th>name</th>\n",
       "      <th>latitude_deg</th>\n",
       "      <th>longitude_deg</th>\n",
       "      <th>elevation_ft</th>\n",
       "      <th>iso_region</th>\n",
       "      <th>municipality</th>\n",
       "      <th>scheduled_service</th>\n",
       "      <th>gps_code</th>\n",
       "      <th>iata_code</th>\n",
       "      <th>local_code</th>\n",
       "      <th>year_built</th>\n",
       "      <th>year_tier</th>\n",
       "      <th>Closed</th>\n",
       "      <th>home_link</th>\n",
       "      <th>wikipedia_link</th>\n",
       "      <th>keywords</th>\n",
       "      <th>score</th>\n",
       "    </tr>\n",
       "  </thead>\n",
       "  <tbody>\n",
       "    <tr>\n",
       "      <th>0</th>\n",
       "      <td>26555</td>\n",
       "      <td>VIDP</td>\n",
       "      <td>2</td>\n",
       "      <td>Indira Gandhi International Airport</td>\n",
       "      <td>28.566500</td>\n",
       "      <td>77.103104</td>\n",
       "      <td>777.0</td>\n",
       "      <td>IN-DL</td>\n",
       "      <td>New Delhi</td>\n",
       "      <td>1</td>\n",
       "      <td>VIDP</td>\n",
       "      <td>DEL</td>\n",
       "      <td>NaN</td>\n",
       "      <td>1930.0</td>\n",
       "      <td>1950.0</td>\n",
       "      <td>n</td>\n",
       "      <td>http://www.newdelhiairport.in/</td>\n",
       "      <td>http://en.wikipedia.org/wiki/Indira_Gandhi_Int...</td>\n",
       "      <td>Palam Air Force Station</td>\n",
       "      <td>51475</td>\n",
       "    </tr>\n",
       "    <tr>\n",
       "      <th>1</th>\n",
       "      <td>26434</td>\n",
       "      <td>VABB</td>\n",
       "      <td>2</td>\n",
       "      <td>Chhatrapati Shivaji International Airport</td>\n",
       "      <td>19.088699</td>\n",
       "      <td>72.867897</td>\n",
       "      <td>39.0</td>\n",
       "      <td>IN-MM</td>\n",
       "      <td>Mumbai</td>\n",
       "      <td>1</td>\n",
       "      <td>VABB</td>\n",
       "      <td>BOM</td>\n",
       "      <td>NaN</td>\n",
       "      <td>1942.0</td>\n",
       "      <td>1950.0</td>\n",
       "      <td>n</td>\n",
       "      <td>http://www.csia.in/</td>\n",
       "      <td>http://en.wikipedia.org/wiki/Chhatrapati_Shiva...</td>\n",
       "      <td>Bombay, Sahar International Airport</td>\n",
       "      <td>1014475</td>\n",
       "    </tr>\n",
       "    <tr>\n",
       "      <th>2</th>\n",
       "      <td>26618</td>\n",
       "      <td>VOMM</td>\n",
       "      <td>2</td>\n",
       "      <td>Chennai International Airport</td>\n",
       "      <td>12.990005</td>\n",
       "      <td>80.169296</td>\n",
       "      <td>52.0</td>\n",
       "      <td>IN-TN</td>\n",
       "      <td>Chennai</td>\n",
       "      <td>1</td>\n",
       "      <td>VOMM</td>\n",
       "      <td>MAA</td>\n",
       "      <td>NaN</td>\n",
       "      <td>1910.0</td>\n",
       "      <td>1950.0</td>\n",
       "      <td>n</td>\n",
       "      <td>NaN</td>\n",
       "      <td>http://en.wikipedia.org/wiki/Chennai_Internati...</td>\n",
       "      <td>NaN</td>\n",
       "      <td>51150</td>\n",
       "    </tr>\n",
       "    <tr>\n",
       "      <th>3</th>\n",
       "      <td>35145</td>\n",
       "      <td>VOBL</td>\n",
       "      <td>2</td>\n",
       "      <td>Kempegowda International Airport</td>\n",
       "      <td>13.197900</td>\n",
       "      <td>77.706299</td>\n",
       "      <td>3000.0</td>\n",
       "      <td>IN-KA</td>\n",
       "      <td>Bangalore</td>\n",
       "      <td>1</td>\n",
       "      <td>VOBL</td>\n",
       "      <td>BLR</td>\n",
       "      <td>NaN</td>\n",
       "      <td>2008.0</td>\n",
       "      <td>2010.0</td>\n",
       "      <td>n</td>\n",
       "      <td>http://www.bengaluruairport.com/home/home.jspx</td>\n",
       "      <td>https://en.wikipedia.org/wiki/Kempegowda_Inter...</td>\n",
       "      <td>NaN</td>\n",
       "      <td>51200</td>\n",
       "    </tr>\n",
       "    <tr>\n",
       "      <th>4</th>\n",
       "      <td>26444</td>\n",
       "      <td>VAGO</td>\n",
       "      <td>2</td>\n",
       "      <td>Goa International Airport</td>\n",
       "      <td>15.380800</td>\n",
       "      <td>73.831398</td>\n",
       "      <td>150.0</td>\n",
       "      <td>IN-GA</td>\n",
       "      <td>Vasco da Gama</td>\n",
       "      <td>1</td>\n",
       "      <td>VOGO</td>\n",
       "      <td>GOI</td>\n",
       "      <td>NaN</td>\n",
       "      <td>1955.0</td>\n",
       "      <td>1955.0</td>\n",
       "      <td>n</td>\n",
       "      <td>NaN</td>\n",
       "      <td>http://en.wikipedia.org/wiki/Dabolim_Airport</td>\n",
       "      <td>Goa Airport, Dabolim Navy Airbase, ________隷怄_...</td>\n",
       "      <td>875</td>\n",
       "    </tr>\n",
       "  </tbody>\n",
       "</table>\n",
       "</div>"
      ],
      "text/plain": [
       "      id ident  type                                       name  latitude_deg  \\\n",
       "0  26555  VIDP     2        Indira Gandhi International Airport     28.566500   \n",
       "1  26434  VABB     2  Chhatrapati Shivaji International Airport     19.088699   \n",
       "2  26618  VOMM     2              Chennai International Airport     12.990005   \n",
       "3  35145  VOBL     2           Kempegowda International Airport     13.197900   \n",
       "4  26444  VAGO     2                  Goa International Airport     15.380800   \n",
       "\n",
       "   longitude_deg  elevation_ft iso_region   municipality  scheduled_service  \\\n",
       "0      77.103104         777.0      IN-DL      New Delhi                  1   \n",
       "1      72.867897          39.0      IN-MM         Mumbai                  1   \n",
       "2      80.169296          52.0      IN-TN        Chennai                  1   \n",
       "3      77.706299        3000.0      IN-KA      Bangalore                  1   \n",
       "4      73.831398         150.0      IN-GA  Vasco da Gama                  1   \n",
       "\n",
       "  gps_code iata_code local_code  year_built  year_tier Closed  \\\n",
       "0     VIDP       DEL        NaN      1930.0     1950.0      n   \n",
       "1     VABB       BOM        NaN      1942.0     1950.0      n   \n",
       "2     VOMM       MAA        NaN      1910.0     1950.0      n   \n",
       "3     VOBL       BLR        NaN      2008.0     2010.0      n   \n",
       "4     VOGO       GOI        NaN      1955.0     1955.0      n   \n",
       "\n",
       "                                        home_link  \\\n",
       "0                  http://www.newdelhiairport.in/   \n",
       "1                             http://www.csia.in/   \n",
       "2                                             NaN   \n",
       "3  http://www.bengaluruairport.com/home/home.jspx   \n",
       "4                                             NaN   \n",
       "\n",
       "                                      wikipedia_link  \\\n",
       "0  http://en.wikipedia.org/wiki/Indira_Gandhi_Int...   \n",
       "1  http://en.wikipedia.org/wiki/Chhatrapati_Shiva...   \n",
       "2  http://en.wikipedia.org/wiki/Chennai_Internati...   \n",
       "3  https://en.wikipedia.org/wiki/Kempegowda_Inter...   \n",
       "4       http://en.wikipedia.org/wiki/Dabolim_Airport   \n",
       "\n",
       "                                            keywords    score  \n",
       "0                            Palam Air Force Station    51475  \n",
       "1                Bombay, Sahar International Airport  1014475  \n",
       "2                                                NaN    51150  \n",
       "3                                                NaN    51200  \n",
       "4  Goa Airport, Dabolim Navy Airbase, ________隷怄_...      875  "
      ]
     },
     "execution_count": 192,
     "metadata": {},
     "output_type": "execute_result"
    }
   ],
   "source": [
    "df1.head()"
   ]
  },
  {
   "cell_type": "code",
   "execution_count": 193,
   "id": "0f91eb97-78b6-4878-aa15-b486c195d9f1",
   "metadata": {},
   "outputs": [
    {
     "data": {
      "text/html": [
       "<div>\n",
       "<style scoped>\n",
       "    .dataframe tbody tr th:only-of-type {\n",
       "        vertical-align: middle;\n",
       "    }\n",
       "\n",
       "    .dataframe tbody tr th {\n",
       "        vertical-align: top;\n",
       "    }\n",
       "\n",
       "    .dataframe thead th {\n",
       "        text-align: right;\n",
       "    }\n",
       "</style>\n",
       "<table border=\"1\" class=\"dataframe\">\n",
       "  <thead>\n",
       "    <tr style=\"text-align: right;\">\n",
       "      <th></th>\n",
       "      <th>id</th>\n",
       "      <th>ident</th>\n",
       "      <th>type</th>\n",
       "      <th>name</th>\n",
       "      <th>latitude_deg</th>\n",
       "      <th>longitude_deg</th>\n",
       "      <th>elevation_ft</th>\n",
       "      <th>iso_region</th>\n",
       "      <th>municipality</th>\n",
       "      <th>scheduled_service</th>\n",
       "      <th>gps_code</th>\n",
       "      <th>iata_code</th>\n",
       "      <th>local_code</th>\n",
       "      <th>year_built</th>\n",
       "      <th>year_tier</th>\n",
       "      <th>Closed</th>\n",
       "      <th>home_link</th>\n",
       "      <th>wikipedia_link</th>\n",
       "      <th>keywords</th>\n",
       "      <th>score</th>\n",
       "    </tr>\n",
       "  </thead>\n",
       "  <tbody>\n",
       "    <tr>\n",
       "      <th>332</th>\n",
       "      <td>46625</td>\n",
       "      <td>IN-0062</td>\n",
       "      <td>4</td>\n",
       "      <td>Shirpur Airport</td>\n",
       "      <td>21.323999</td>\n",
       "      <td>74.956734</td>\n",
       "      <td>NaN</td>\n",
       "      <td>IN-MM</td>\n",
       "      <td>Shirpur</td>\n",
       "      <td>0</td>\n",
       "      <td>NaN</td>\n",
       "      <td>NaN</td>\n",
       "      <td>NaN</td>\n",
       "      <td>NaN</td>\n",
       "      <td>NaN</td>\n",
       "      <td>n</td>\n",
       "      <td>NaN</td>\n",
       "      <td>NaN</td>\n",
       "      <td>Shirpur, Dhule</td>\n",
       "      <td>0</td>\n",
       "    </tr>\n",
       "    <tr>\n",
       "      <th>333</th>\n",
       "      <td>46640</td>\n",
       "      <td>IN-0064</td>\n",
       "      <td>4</td>\n",
       "      <td>Umaria Air Field</td>\n",
       "      <td>23.532514</td>\n",
       "      <td>80.808220</td>\n",
       "      <td>1510.0</td>\n",
       "      <td>IN-MP</td>\n",
       "      <td>Umaria</td>\n",
       "      <td>0</td>\n",
       "      <td>NaN</td>\n",
       "      <td>NaN</td>\n",
       "      <td>NaN</td>\n",
       "      <td>NaN</td>\n",
       "      <td>NaN</td>\n",
       "      <td>n</td>\n",
       "      <td>NaN</td>\n",
       "      <td>NaN</td>\n",
       "      <td>NaN</td>\n",
       "      <td>0</td>\n",
       "    </tr>\n",
       "    <tr>\n",
       "      <th>334</th>\n",
       "      <td>46561</td>\n",
       "      <td>IN-0038</td>\n",
       "      <td>1</td>\n",
       "      <td>Upper Tadong Indian Army Helipad</td>\n",
       "      <td>27.306717</td>\n",
       "      <td>88.599650</td>\n",
       "      <td>NaN</td>\n",
       "      <td>IN-SK</td>\n",
       "      <td>Upper Tadong</td>\n",
       "      <td>0</td>\n",
       "      <td>NaN</td>\n",
       "      <td>NaN</td>\n",
       "      <td>NaN</td>\n",
       "      <td>NaN</td>\n",
       "      <td>NaN</td>\n",
       "      <td>n</td>\n",
       "      <td>NaN</td>\n",
       "      <td>NaN</td>\n",
       "      <td>NaN</td>\n",
       "      <td>0</td>\n",
       "    </tr>\n",
       "    <tr>\n",
       "      <th>335</th>\n",
       "      <td>319166</td>\n",
       "      <td>IN-0101</td>\n",
       "      <td>4</td>\n",
       "      <td>Vanasthali Airport</td>\n",
       "      <td>26.407627</td>\n",
       "      <td>75.870128</td>\n",
       "      <td>NaN</td>\n",
       "      <td>IN-RJ</td>\n",
       "      <td>Vanasthali</td>\n",
       "      <td>0</td>\n",
       "      <td>NaN</td>\n",
       "      <td>NaN</td>\n",
       "      <td>NaN</td>\n",
       "      <td>NaN</td>\n",
       "      <td>NaN</td>\n",
       "      <td>n</td>\n",
       "      <td>NaN</td>\n",
       "      <td>NaN</td>\n",
       "      <td>NaN</td>\n",
       "      <td>0</td>\n",
       "    </tr>\n",
       "    <tr>\n",
       "      <th>336</th>\n",
       "      <td>46557</td>\n",
       "      <td>IN-0034</td>\n",
       "      <td>4</td>\n",
       "      <td>Vijay Nagar Airport</td>\n",
       "      <td>19.884100</td>\n",
       "      <td>73.840567</td>\n",
       "      <td>NaN</td>\n",
       "      <td>IN-MM</td>\n",
       "      <td>Vijay Nagar</td>\n",
       "      <td>0</td>\n",
       "      <td>NaN</td>\n",
       "      <td>NaN</td>\n",
       "      <td>NaN</td>\n",
       "      <td>NaN</td>\n",
       "      <td>NaN</td>\n",
       "      <td>n</td>\n",
       "      <td>NaN</td>\n",
       "      <td>NaN</td>\n",
       "      <td>NaN</td>\n",
       "      <td>0</td>\n",
       "    </tr>\n",
       "  </tbody>\n",
       "</table>\n",
       "</div>"
      ],
      "text/plain": [
       "         id    ident  type                              name  latitude_deg  \\\n",
       "332   46625  IN-0062     4                   Shirpur Airport     21.323999   \n",
       "333   46640  IN-0064     4                  Umaria Air Field     23.532514   \n",
       "334   46561  IN-0038     1  Upper Tadong Indian Army Helipad     27.306717   \n",
       "335  319166  IN-0101     4                Vanasthali Airport     26.407627   \n",
       "336   46557  IN-0034     4               Vijay Nagar Airport     19.884100   \n",
       "\n",
       "     longitude_deg  elevation_ft iso_region  municipality  scheduled_service  \\\n",
       "332      74.956734           NaN      IN-MM       Shirpur                  0   \n",
       "333      80.808220        1510.0      IN-MP        Umaria                  0   \n",
       "334      88.599650           NaN      IN-SK  Upper Tadong                  0   \n",
       "335      75.870128           NaN      IN-RJ    Vanasthali                  0   \n",
       "336      73.840567           NaN      IN-MM   Vijay Nagar                  0   \n",
       "\n",
       "    gps_code iata_code local_code  year_built  year_tier Closed home_link  \\\n",
       "332      NaN       NaN        NaN         NaN        NaN      n       NaN   \n",
       "333      NaN       NaN        NaN         NaN        NaN      n       NaN   \n",
       "334      NaN       NaN        NaN         NaN        NaN      n       NaN   \n",
       "335      NaN       NaN        NaN         NaN        NaN      n       NaN   \n",
       "336      NaN       NaN        NaN         NaN        NaN      n       NaN   \n",
       "\n",
       "    wikipedia_link        keywords  score  \n",
       "332            NaN  Shirpur, Dhule      0  \n",
       "333            NaN             NaN      0  \n",
       "334            NaN             NaN      0  \n",
       "335            NaN             NaN      0  \n",
       "336            NaN             NaN      0  "
      ]
     },
     "execution_count": 193,
     "metadata": {},
     "output_type": "execute_result"
    }
   ],
   "source": [
    "df1.tail()"
   ]
  },
  {
   "cell_type": "markdown",
   "id": "c67469bf-4102-400a-8e1e-d1227616387f",
   "metadata": {},
   "source": [
    "### Feature Scaling"
   ]
  },
  {
   "cell_type": "markdown",
   "id": "683f9ce8-64cb-416d-807e-37f613aa0367",
   "metadata": {},
   "source": [
    "    It is technique to standardize the independent features present in the data in \n",
    "    a fixed range. It is performed during the data pre-processing.\n",
    "    \n",
    "    The most common technique of featue scalling are Normalization and Standardization"
   ]
  },
  {
   "cell_type": "code",
   "execution_count": 194,
   "id": "e4cfada9-e6a6-43a3-b1b8-cfd63f05d5a3",
   "metadata": {},
   "outputs": [],
   "source": [
    "%matplotlib inline"
   ]
  },
  {
   "cell_type": "code",
   "execution_count": 195,
   "id": "bd3604bb-9d02-40f2-a671-3573ddba389d",
   "metadata": {},
   "outputs": [],
   "source": [
    "df = pd.DataFrame({\n",
    "    'WEIGHT': [15, 18, 12, 10],\n",
    "    'PRICE': [1,3,2,5]},\n",
    "    index = ['Orange', 'Apple', 'Banana', 'Grape'])"
   ]
  },
  {
   "cell_type": "code",
   "execution_count": 196,
   "id": "17b01da2-490c-45ac-9d3a-1902b79d5094",
   "metadata": {},
   "outputs": [
    {
     "name": "stdout",
     "output_type": "stream",
     "text": [
      "        WEIGHT  PRICE\n",
      "Orange      15      1\n",
      "Apple       18      3\n",
      "Banana      12      2\n",
      "Grape       10      5\n"
     ]
    }
   ],
   "source": [
    "print(df)"
   ]
  },
  {
   "cell_type": "code",
   "execution_count": 197,
   "id": "2149bbcc-e9be-46a5-b22d-593f7f2ef14f",
   "metadata": {},
   "outputs": [],
   "source": [
    "from sklearn.preprocessing import MinMaxScaler\n",
    "scaler = MinMaxScaler()"
   ]
  },
  {
   "cell_type": "code",
   "execution_count": 198,
   "id": "d1732cbd-1a56-40e9-bdf1-a95813073775",
   "metadata": {},
   "outputs": [],
   "source": [
    "df1 = pd.DataFrame(scaler.fit_transform(df),\n",
    "                   columns=['WEIGHT', 'PRICE'],\n",
    "                   index = ['Orange', 'Apple', 'Banana', 'Grape'])"
   ]
  },
  {
   "cell_type": "code",
   "execution_count": 199,
   "id": "41aac260-3d93-4fb4-ba57-4709198f160c",
   "metadata": {},
   "outputs": [
    {
     "data": {
      "text/html": [
       "<div>\n",
       "<style scoped>\n",
       "    .dataframe tbody tr th:only-of-type {\n",
       "        vertical-align: middle;\n",
       "    }\n",
       "\n",
       "    .dataframe tbody tr th {\n",
       "        vertical-align: top;\n",
       "    }\n",
       "\n",
       "    .dataframe thead th {\n",
       "        text-align: right;\n",
       "    }\n",
       "</style>\n",
       "<table border=\"1\" class=\"dataframe\">\n",
       "  <thead>\n",
       "    <tr style=\"text-align: right;\">\n",
       "      <th></th>\n",
       "      <th>WEIGHT</th>\n",
       "      <th>PRICE</th>\n",
       "    </tr>\n",
       "  </thead>\n",
       "  <tbody>\n",
       "    <tr>\n",
       "      <th>Orange</th>\n",
       "      <td>0.625</td>\n",
       "      <td>0.00</td>\n",
       "    </tr>\n",
       "    <tr>\n",
       "      <th>Apple</th>\n",
       "      <td>1.000</td>\n",
       "      <td>0.50</td>\n",
       "    </tr>\n",
       "    <tr>\n",
       "      <th>Banana</th>\n",
       "      <td>0.250</td>\n",
       "      <td>0.25</td>\n",
       "    </tr>\n",
       "    <tr>\n",
       "      <th>Grape</th>\n",
       "      <td>0.000</td>\n",
       "      <td>1.00</td>\n",
       "    </tr>\n",
       "  </tbody>\n",
       "</table>\n",
       "</div>"
      ],
      "text/plain": [
       "        WEIGHT  PRICE\n",
       "Orange   0.625   0.00\n",
       "Apple    1.000   0.50\n",
       "Banana   0.250   0.25\n",
       "Grape    0.000   1.00"
      ]
     },
     "execution_count": 199,
     "metadata": {},
     "output_type": "execute_result"
    }
   ],
   "source": [
    "df1"
   ]
  },
  {
   "cell_type": "code",
   "execution_count": 204,
   "id": "f50c0d37-1edd-4d9b-a416-2f4f01e0a4f1",
   "metadata": {},
   "outputs": [
    {
     "data": {
      "text/plain": [
       "<matplotlib.lines.Line2D at 0x7f188b3694c0>"
      ]
     },
     "execution_count": 204,
     "metadata": {},
     "output_type": "execute_result"
    },
    {
     "data": {
      "image/png": "[encoded data removed]",
      "text/plain": [
       "<Figure size 432x288 with 1 Axes>"
      ]
     },
     "metadata": {
      "needs_background": "light"
     },
     "output_type": "display_data"
    }
   ],
   "source": [
    "ax = df.plot.scatter(x='WEIGHT', y='PRICE', color=['red', 'green', 'blue', 'yellow'],\n",
    "                     marker='*', s=80, label='BEFORE SCALING')\n",
    "\n",
    "\n",
    "df1.plot.scatter(x='WEIGHT', y='PRICE', color=['red', 'green', 'blue', 'yellow'],\n",
    "                 marker = 'o', s=60, label='AFTER SCALING', ax=ax)\n",
    "\n",
    "\n",
    "\n",
    "plt.axhline(0, color='red', alpha=0.2)\n",
    "plt.axvline(0, color='red', alpha=0.2)"
   ]
  },
  {
   "cell_type": "markdown",
   "id": "c39bfeb5-0aae-441d-a7e0-1b134c137766",
   "metadata": {},
   "source": [
    "### Machine Learning"
   ]
  },
  {
   "cell_type": "markdown",
   "id": "7eeadebc-69e9-4d85-bb70-1d131e8725ec",
   "metadata": {},
   "source": [
    "    Machine Learning is said as a subset of artifical intelligence that is mainly concerned with the\n",
    "    development of algorithm which allow a computer to learn from the data and past experiences on their\n",
    "    own. The term machine learning was first introduced by Arthur Samuel in 1959. We can define it in a \n",
    "    summerized as:\n",
    "    \" Machine learning enable a machine to automatically learn from data, improve performance\n",
    "    from experiences, and predict things without being explicitly programmed.\n",
    "    \n",
    "    With the help of sample historical data, which is known as training data, machine learning algorithms build a mathematical model that helps in making predictions or decisions without being explicitly programmed. Machine learning brings computer science and statistics togther for creating predictive models. Machine lerning constructs or uses the algorithms that lern from historical data. The more we will provide the information, the higher will be the performance.\n",
    "    \n",
    "    A machine has the ability to learn if it can improve its performance by gaining more data\n",
    "    \n",
    "    Types of Machine Learning\n",
    "    1. Supervised Learning\n",
    "    2. Unsupervised Learning\n",
    "    3. Reinforcement Learning\n",
    "    "
   ]
  },
  {
   "cell_type": "markdown",
   "id": "29d3c9fd-a8dc-4818-ab33-554471821145",
   "metadata": {},
   "source": [
    "    Supervised Machine Learning\n",
    "    Supervised learning is the type of machine learning in which machines are trained using well \"labelled\" training data, and on basis of the data, machines predicts the ouput. The labelled data means some input data is already tagged with the correct output.\n",
    "    \n",
    "    In supervised learning, the training data provided to the machines work as the supervisor that teaches the machine to predict the output correctly. It applies the same concept as a student learns in the supervision of the teacher.\n",
    "    \n",
    "    Supervised learning is a process of providing input data as well as correct output data to the machine learning model. The aim of a supervised learning algorithm is to find a mapping function to map the input variable(x) with the output variable(y).\n",
    "    \n",
    "    In the real-world, supervised learning can be used for Risk Assessment, Image classification, Fraud detection , spam filtering, etc.\n",
    "    \n",
    "    \n",
    "    "
   ]
  },
  {
   "cell_type": "markdown",
   "id": "76775a92-4e07-4782-9829-09defb4e2aee",
   "metadata": {},
   "source": [
    "    Types of supervised Machine Learning Algorithms:\n",
    "    \n",
    "    Supervised learning can be further divided into two types of problems.\n",
    "    \n",
    "    1. Regression\n",
    "    2. Classification"
   ]
  },
  {
   "cell_type": "markdown",
   "id": "974f5760-142e-47d0-bde9-6bec20eb2c3c",
   "metadata": {},
   "source": [
    "    Unsupervised Learning\n",
    "    \n",
    "    As the name suggests, unsupervised learning is a machine learning technique in which models are not supervised using training dataset. Instead, models itself find the hidden patterns and insights form the given data. It can be compared to learning which takes plac ein the human brain while learning new things. It can be defined as :\n",
    "    \" Unsupervised learning is a type of machine learning in which models are trained using unlabeled dataset and are allowed to act on that data without any supervision.\"\n",
    "    \n",
    "    Unsuperviesed learning cannot be direclty applied to a regression or classification problem because unlike supervised learning, we have the input data but no corresponding output data. The goal of unsupervised learning is to  find the underlying structure of dataset, group that data according to similarities, and represent that dataset in a compressed format.\n",
    "    Problems\n",
    "    1. Clustering\n",
    "    2. Association"
   ]
  },
  {
   "cell_type": "markdown",
   "id": "c9f61f5b-7a69-45b0-8f84-2ade8d10a9b5",
   "metadata": {},
   "source": [
    "    Machine Learning Life Cycle\n",
    "    \n",
    "    1. Gathering Data\n",
    "    2. Data prepration\n",
    "    3. Data Wrangling\n",
    "    4. Analyse Data\n",
    "    5. Train Model\n",
    "    6. Test Model\n",
    "    7. Deployment"
   ]
  },
  {
   "cell_type": "markdown",
   "id": "74aa05ee-9fa8-444b-a656-4b16daab3ac7",
   "metadata": {},
   "source": [
    "    Data Gathering is the first step of the machine learning life cylce. The goal of this step is to identify and obtain all data-related problems.\n",
    "    \n",
    "    In this step, we need to identify the diffrent data source, as data can be collected from various sources such as files, database, internet, or mobile devices. It is one of the most important step of the life cycle. The quantity and quality of the collected data will determine the efficiency of the output. The more will be the data, the more accurate wil be the predection.\n",
    "    \n",
    "    This step includes the below tasks.\n",
    "    - Identify various data sources\n",
    "    - Collect data\n",
    "    - Intergrate the data obtained from diffrent sources\n",
    "    \n",
    "    By performing the above task, we get a coherent set of data, also called as a dataset. It will be used in further steps.\n",
    "    \n",
    "    - Data Exploration:\n",
    "    It is used to understand the nature of data that we have to work with. We need to understand the charastristics, format, and quality of data.\n",
    "    \n",
    "    A better understanding of data leads to an effective outcome. In this, we find Correlations, general trends, and outliers.\n",
    "    \n",
    "    - Data pre-processing\n",
    "    Now the next step is preprocessing of data for its analysis.\n",
    "        "
   ]
  },
  {
   "cell_type": "markdown",
   "id": "d539cbb3-c6f4-4214-b212-e8bf9470c682",
   "metadata": {},
   "source": [
    "    It is not necessary that data we have collected is always of our use as some of the data may not be useful. In real-world applications, collected data may have various issues, including:\n",
    "    \n",
    "    - Missing Values\n",
    "    - Duplicate data\n",
    "    - Invalid data\n",
    "    - Noise\n",
    "    \n",
    "    Now the cleaned and prepared data is passed on to the analysis step. This step involves:\n",
    "    - Selection of analytical techniques\n",
    "    - Buidling models\n",
    "    - Review the result\n",
    "    The aim of this step is to build a machine learning model to analyze the data using various analytical techniques and reveiw the outcome. It starts with the determination of the type of the problems, where we select the machine learning technique such as Classification, Regression, Cluster analysis, Association, etc. then build the model using prepared data, and evaluate the model.\n",
    "    \n",
    "    Model Tranining, Testing and Deployment\n",
    "    \n",
    "    Once we are done with Data Preparation and Analysis, the next step is to train the Machine Learning model with training data and test it using testing data and evaluate it on the basic of diffrent metrics like Accuracy, Precision, r2 store etc...\n",
    "    \n",
    "    Once we are satisfied with the performance of model then we can go for deployment\n",
    "    \n",
    "    "
   ]
  },
  {
   "cell_type": "markdown",
   "id": "70f81bd9-894e-43ff-a15f-8f7f898d95b5",
   "metadata": {},
   "source": [
    "    Train Test Split"
   ]
  },
  {
   "cell_type": "markdown",
   "id": "365ffdbd-7bd0-4122-8a01-79f778d35df2",
   "metadata": {},
   "source": [
    "    Prepared Data\n",
    "    1. Training data\n",
    "    2. Test data\n",
    "    \n",
    "    "
   ]
  },
  {
   "cell_type": "markdown",
   "id": "7ebf3701-75fe-42fb-9508-94f068c243c5",
   "metadata": {},
   "source": [
    "    Syntax\n",
    "    \n",
    "    from sklearn.model_selection import train_test_split\n",
    "    \n",
    "    X_train, X_test, y_train, y_test = train_test_split(X, y, random_state=0, train_size = .75)\n",
    "    \n",
    "    \n",
    "    "
   ]
  },
  {
   "cell_type": "markdown",
   "id": "81f01d5e-e31f-48dc-bd97-0684a3bc25d5",
   "metadata": {},
   "source": [
    "    Regression Analysis\n",
    "    \n",
    "    Regression Analysis in Machine Learning \n",
    "    Regression analysis is a stastical method to model the relationship\n",
    "    between a dependent (target) and independent (predictor) variable with\n",
    "    one or more independent variables. Most specifically, Regression analysis\n",
    "    helps us understand how the vlaue of the independent variable when other independent variables are held fixed. It is predicts continuous/real values such as temperature, age, salary, price etc.\n",
    "   "
   ]
  },
  {
   "cell_type": "markdown",
   "id": "17f83ab5-78b3-47fc-b0e7-7e165410ada9",
   "metadata": {},
   "source": [
    "    Terminologies Related to the Regression Analysis:\n",
    "    - Dependent Variable : The main factor in regression analysis which we want to predict or understand is called the dependent variable. It is also called target variable.\n",
    "    - Independent Variable : The factor which affect the dependenet variable or which are used to predict the values of the dependent variables are called independent variable, also called as a predictor.\n",
    "    \n",
    "    - Outliers: Outliers is an observation which contains either very low or very high value in comparision to other observed values. An outlier may hamper the result, so it should be avoided.\n",
    "    \n",
    "    - Multicollinearity: If the dependent variable is higlhy correlated with each other than other variables, then such condition is called Multicollinearity. It should not be preset in the dataset, because it creates problem while ranking the most affecting variable.\n",
    "    \n",
    "    - Underfitting and Overfitting - If our algorithm works well with the training dataset but not well with test dataset, then such problem is called Overfitting. And if our algorithm does not perform well even with training dataset, then such problem is called underfitting.\n",
    "    \n",
    "    Types of Regression\n",
    "    \n",
    "    1. Linear Regression\n",
    "    2. Polynomial Regression\n",
    "    3. Support Vector Regression\n",
    "    4. Decision Tree Regression\n",
    "    5. Random Forest Regression\n",
    "    6. Ridge Regression\n",
    "    7. Lasso Regression\n",
    "    8. Logistic Regression"
   ]
  },
  {
   "cell_type": "markdown",
   "id": "a8818473-134b-4581-b4ea-64ca81a9789d",
   "metadata": {},
   "source": [
    "    Linear Regression"
   ]
  },
  {
   "cell_type": "code",
   "execution_count": null,
   "id": "6328d299-03a6-4e3f-9764-cb7c0f8afafb",
   "metadata": {},
   "outputs": [],
   "source": [
    "4:39"
   ]
  }
 ],
 "metadata": {
  "kernelspec": {
   "display_name": "Python 3 (ipykernel)",
   "language": "python",
   "name": "python3"
  },
  "language_info": {
   "codemirror_mode": {
    "name": "ipython",
    "version": 3
   },
   "file_extension": ".py",
   "mimetype": "text/x-python",
   "name": "python",
   "nbconvert_exporter": "python",
   "pygments_lexer": "ipython3",
   "version": "3.9.12"
  }
 },
 "nbformat": 4,
 "nbformat_minor": 5
}
